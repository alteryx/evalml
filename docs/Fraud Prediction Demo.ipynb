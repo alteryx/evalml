{
 "cells": [
  {
   "cell_type": "markdown",
   "metadata": {},
   "source": [
    "# Building a Fraud Prediction Model with EvalML\n",
    "\n",
    "In this demo, we will build an optimized fraud prediction model using EvalML. To optimize the model we will set up an objective function based on some assumptions about our business. "
   ]
  },
  {
   "cell_type": "code",
   "execution_count": 1,
   "metadata": {},
   "outputs": [],
   "source": [
    "%load_ext autoreload\n",
    "%autoreload 2\n",
    "import evalml\n",
    "from evalml.objectives import FraudCost\n",
    "from evalml.preprocessing import split_data"
   ]
  },
  {
   "cell_type": "markdown",
   "metadata": {},
   "source": [
    "## Load Transactions"
   ]
  },
  {
   "cell_type": "code",
   "execution_count": 2,
   "metadata": {},
   "outputs": [
    {
     "name": "stdout",
     "output_type": "stream",
     "text": [
      "             Number of Features\n",
      "Boolean                       1\n",
      "Categorical                   6\n",
      "Numeric                       5\n",
      "\n",
      "Number of training examples: 99992\n",
      "\n",
      "Labels\n",
      "False    84.82%\n",
      "True     15.18%\n",
      "Name: fraud, dtype: object\n"
     ]
    }
   ],
   "source": [
    "X, y = evalml.demos.load_fraud()"
   ]
  },
  {
   "cell_type": "markdown",
   "metadata": {},
   "source": [
    "## Define Objective"
   ]
  },
  {
   "cell_type": "code",
   "execution_count": 3,
   "metadata": {},
   "outputs": [],
   "source": [
    "fraud_objective = FraudCost(\n",
    "    retry_percentage=.5,\n",
    "    interchange_fee=.02,\n",
    "    fraud_payout_percentage=.75,\n",
    "    amount_col='amount'\n",
    ")"
   ]
  },
  {
   "cell_type": "markdown",
   "metadata": {},
   "source": [
    "## Search for best modeling pipeline"
   ]
  },
  {
   "cell_type": "markdown",
   "metadata": {},
   "source": [
    "In order to validate the results of the pipeline creation and optimization process, we will save some of our data as a holdout set"
   ]
  },
  {
   "cell_type": "code",
   "execution_count": 4,
   "metadata": {},
   "outputs": [],
   "source": [
    "numerics = ['int16', 'int32', 'int64', 'float16', 'float32', 'float64', 'bool']\n",
    "X = X.select_dtypes(include=numerics)\n",
    "X_train, X_holdout, y_train, y_holdout = split_data(X, y, test_size=.8, random_state=0)"
   ]
  },
  {
   "cell_type": "markdown",
   "metadata": {},
   "source": [
    "Because the fraud labels are binary, we will use `AutoClassifier`. When we call `.fit()`, the search for the best pipeline will begin. "
   ]
  },
  {
   "cell_type": "code",
   "execution_count": 5,
   "metadata": {},
   "outputs": [
    {
     "name": "stdout",
     "output_type": "stream",
     "text": [
      "\u001b[1m*****************************\u001b[0m\n",
      "\u001b[1m* Beginning pipeline search *\u001b[0m\n",
      "\u001b[1m*****************************\u001b[0m\n",
      "\n",
      "Optimizing for Fraud Cost. Lower score is better.\n",
      "\n",
      "Searching up to 20 pipelines. \n",
      "Will stop searching for new pipelines after 120 seconds.\n",
      "\n",
      "Possible model types: random_forest, linear_model, xgboost\n",
      "\n",
      "✔ XGBoost Classifier w/ One Hot Encod...     0%|          | Elapsed:00:02\n",
      "▹ XGBoost Classifier w/ One Hot Encod...     5%|▌         | Elapsed:00:02"
     ]
    },
    {
     "name": "stderr",
     "output_type": "stream",
     "text": [
      "/Users/angela.lin/Desktop/env/lib/python3.7/site-packages/sklearn/metrics/classification.py:872: RuntimeWarning: invalid value encountered in double_scalars\n",
      "  mcc = cov_ytyp / np.sqrt(cov_ytyt * cov_ypyp)\n",
      "/Users/angela.lin/Desktop/env/lib/python3.7/site-packages/sklearn/metrics/classification.py:872: RuntimeWarning: invalid value encountered in double_scalars\n",
      "  mcc = cov_ytyp / np.sqrt(cov_ytyt * cov_ypyp)\n"
     ]
    },
    {
     "name": "stdout",
     "output_type": "stream",
     "text": [
      "✔ XGBoost Classifier w/ One Hot Encod...     5%|▌         | Elapsed:00:05\n",
      "▹ Random Forest Classifier w/ One Hot...    10%|█         | Elapsed:00:05"
     ]
    },
    {
     "name": "stderr",
     "output_type": "stream",
     "text": [
      "/Users/angela.lin/Desktop/env/lib/python3.7/site-packages/sklearn/metrics/classification.py:872: RuntimeWarning: invalid value encountered in double_scalars\n",
      "  mcc = cov_ytyp / np.sqrt(cov_ytyt * cov_ypyp)\n"
     ]
    },
    {
     "name": "stdout",
     "output_type": "stream",
     "text": [
      "✔ Random Forest Classifier w/ One Hot...    10%|█         | Elapsed:00:39\n",
      "▹ XGBoost Classifier w/ One Hot Encod...    15%|█▌        | Elapsed:00:39"
     ]
    },
    {
     "name": "stderr",
     "output_type": "stream",
     "text": [
      "/Users/angela.lin/Desktop/env/lib/python3.7/site-packages/sklearn/metrics/classification.py:872: RuntimeWarning: invalid value encountered in double_scalars\n",
      "  mcc = cov_ytyp / np.sqrt(cov_ytyt * cov_ypyp)\n"
     ]
    },
    {
     "name": "stdout",
     "output_type": "stream",
     "text": [
      "✔ XGBoost Classifier w/ One Hot Encod...    15%|█▌        | Elapsed:00:41\n",
      "▹ Logistic Regression Classifier w/ O...    20%|██        | Elapsed:00:41"
     ]
    },
    {
     "name": "stderr",
     "output_type": "stream",
     "text": [
      "/Users/angela.lin/Desktop/env/lib/python3.7/site-packages/sklearn/metrics/classification.py:872: RuntimeWarning: invalid value encountered in double_scalars\n",
      "  mcc = cov_ytyp / np.sqrt(cov_ytyt * cov_ypyp)\n"
     ]
    },
    {
     "name": "stdout",
     "output_type": "stream",
     "text": [
      "✔ Logistic Regression Classifier w/ O...    20%|██        | Elapsed:00:49\n",
      "▹ XGBoost Classifier w/ One Hot Encod...    25%|██▌       | Elapsed:00:49"
     ]
    },
    {
     "name": "stderr",
     "output_type": "stream",
     "text": [
      "/Users/angela.lin/Desktop/env/lib/python3.7/site-packages/sklearn/metrics/classification.py:872: RuntimeWarning: invalid value encountered in double_scalars\n",
      "  mcc = cov_ytyp / np.sqrt(cov_ytyt * cov_ypyp)\n"
     ]
    },
    {
     "name": "stdout",
     "output_type": "stream",
     "text": [
      "✔ XGBoost Classifier w/ One Hot Encod...    25%|██▌       | Elapsed:00:52\n",
      "▹ Logistic Regression Classifier w/ O...    30%|███       | Elapsed:00:52"
     ]
    },
    {
     "name": "stderr",
     "output_type": "stream",
     "text": [
      "/Users/angela.lin/Desktop/env/lib/python3.7/site-packages/sklearn/metrics/classification.py:872: RuntimeWarning: invalid value encountered in double_scalars\n",
      "  mcc = cov_ytyp / np.sqrt(cov_ytyt * cov_ypyp)\n"
     ]
    },
    {
     "name": "stdout",
     "output_type": "stream",
     "text": [
      "✔ Logistic Regression Classifier w/ O...    30%|███       | Elapsed:01:00\n",
      "✔ XGBoost Classifier w/ One Hot Encod...    35%|███▌      | Elapsed:01:06\n",
      "▹ Logistic Regression Classifier w/ O...    40%|████      | Elapsed:01:06"
     ]
    },
    {
     "name": "stderr",
     "output_type": "stream",
     "text": [
      "/Users/angela.lin/Desktop/env/lib/python3.7/site-packages/sklearn/metrics/classification.py:872: RuntimeWarning: invalid value encountered in double_scalars\n",
      "  mcc = cov_ytyp / np.sqrt(cov_ytyt * cov_ypyp)\n"
     ]
    },
    {
     "name": "stdout",
     "output_type": "stream",
     "text": [
      "✔ Logistic Regression Classifier w/ O...    40%|████      | Elapsed:01:14\n",
      "✔ Logistic Regression Classifier w/ O...    45%|████▌     | Elapsed:01:23\n",
      "✔ XGBoost Classifier w/ One Hot Encod...    50%|█████     | Elapsed:01:24\n",
      "✔ Logistic Regression Classifier w/ O...    55%|█████▌    | Elapsed:01:32\n",
      "▹ Random Forest Classifier w/ One Hot...    60%|██████    | Elapsed:01:32"
     ]
    },
    {
     "name": "stderr",
     "output_type": "stream",
     "text": [
      "/Users/angela.lin/Desktop/env/lib/python3.7/site-packages/sklearn/metrics/classification.py:872: RuntimeWarning: invalid value encountered in double_scalars\n",
      "  mcc = cov_ytyp / np.sqrt(cov_ytyt * cov_ypyp)\n"
     ]
    },
    {
     "name": "stdout",
     "output_type": "stream",
     "text": [
      "✔ Random Forest Classifier w/ One Hot...    60%|██████    | Elapsed:01:47\n",
      "▹ Logistic Regression Classifier w/ O...    65%|██████▌   | Elapsed:01:47"
     ]
    },
    {
     "name": "stderr",
     "output_type": "stream",
     "text": [
      "/Users/angela.lin/Desktop/env/lib/python3.7/site-packages/sklearn/metrics/classification.py:872: RuntimeWarning: invalid value encountered in double_scalars\n",
      "  mcc = cov_ytyp / np.sqrt(cov_ytyt * cov_ypyp)\n"
     ]
    },
    {
     "name": "stdout",
     "output_type": "stream",
     "text": [
      "✔ Logistic Regression Classifier w/ O...    65%|██████▌   | Elapsed:01:56\n",
      "✔ XGBoost Classifier w/ One Hot Encod...    70%|███████   | Elapsed:01:57\n",
      "▹ Random Forest Classifier w/ One Hot...    75%|███████▌  | Elapsed:01:57"
     ]
    },
    {
     "name": "stderr",
     "output_type": "stream",
     "text": [
      "/Users/angela.lin/Desktop/env/lib/python3.7/site-packages/sklearn/metrics/classification.py:872: RuntimeWarning: invalid value encountered in double_scalars\n",
      "  mcc = cov_ytyp / np.sqrt(cov_ytyt * cov_ypyp)\n"
     ]
    },
    {
     "name": "stdout",
     "output_type": "stream",
     "text": [
      "✔ Random Forest Classifier w/ One Hot...    75%|███████▌  | Elapsed:02:19\n",
      "✔ Random Forest Classifier w/ One Hot...    80%|████████  | Elapsed:02:19\n",
      "\n",
      "\n",
      "Max time elapsed. Stopping search early.\n",
      "\n",
      "✔ Optimization finished\n"
     ]
    }
   ],
   "source": [
    "clf = evalml.AutoClassifier(objective=fraud_objective,\n",
    "                            max_time=120,\n",
    "                            max_pipelines=20)\n",
    "\n",
    "clf.fit(X_train, y_train)"
   ]
  },
  {
   "cell_type": "markdown",
   "metadata": {},
   "source": [
    "### View rankings and select pipeline\n",
    "\n",
    "Once the fitting process is done, we can see all of the pipelines that were searched, ranked by their score on the objective function we defined"
   ]
  },
  {
   "cell_type": "code",
   "execution_count": 6,
   "metadata": {},
   "outputs": [
    {
     "data": {
      "text/html": [
       "<div>\n",
       "<style scoped>\n",
       "    .dataframe tbody tr th:only-of-type {\n",
       "        vertical-align: middle;\n",
       "    }\n",
       "\n",
       "    .dataframe tbody tr th {\n",
       "        vertical-align: top;\n",
       "    }\n",
       "\n",
       "    .dataframe thead th {\n",
       "        text-align: right;\n",
       "    }\n",
       "</style>\n",
       "<table border=\"1\" class=\"dataframe\">\n",
       "  <thead>\n",
       "    <tr style=\"text-align: right;\">\n",
       "      <th></th>\n",
       "      <th>id</th>\n",
       "      <th>pipeline_name</th>\n",
       "      <th>score</th>\n",
       "      <th>high_variance_cv</th>\n",
       "      <th>parameters</th>\n",
       "    </tr>\n",
       "  </thead>\n",
       "  <tbody>\n",
       "    <tr>\n",
       "      <td>0</td>\n",
       "      <td>14</td>\n",
       "      <td>XGBoostPipeline</td>\n",
       "      <td>0.007614</td>\n",
       "      <td>False</td>\n",
       "      <td>{'eta': 0.264555612104627, 'min_child_weight':...</td>\n",
       "    </tr>\n",
       "    <tr>\n",
       "      <td>1</td>\n",
       "      <td>12</td>\n",
       "      <td>RFClassificationPipeline</td>\n",
       "      <td>0.007614</td>\n",
       "      <td>False</td>\n",
       "      <td>{'n_estimators': 369, 'max_depth': 10, 'impute...</td>\n",
       "    </tr>\n",
       "    <tr>\n",
       "      <td>2</td>\n",
       "      <td>2</td>\n",
       "      <td>RFClassificationPipeline</td>\n",
       "      <td>0.007615</td>\n",
       "      <td>False</td>\n",
       "      <td>{'n_estimators': 569, 'max_depth': 22, 'impute...</td>\n",
       "    </tr>\n",
       "    <tr>\n",
       "      <td>3</td>\n",
       "      <td>0</td>\n",
       "      <td>XGBoostPipeline</td>\n",
       "      <td>0.007615</td>\n",
       "      <td>False</td>\n",
       "      <td>{'eta': 0.5928446182250184, 'min_child_weight'...</td>\n",
       "    </tr>\n",
       "    <tr>\n",
       "      <td>4</td>\n",
       "      <td>3</td>\n",
       "      <td>XGBoostPipeline</td>\n",
       "      <td>0.007615</td>\n",
       "      <td>False</td>\n",
       "      <td>{'eta': 0.5288949197529046, 'min_child_weight'...</td>\n",
       "    </tr>\n",
       "    <tr>\n",
       "      <td>5</td>\n",
       "      <td>5</td>\n",
       "      <td>XGBoostPipeline</td>\n",
       "      <td>0.007615</td>\n",
       "      <td>False</td>\n",
       "      <td>{'eta': 0.6481718720511973, 'min_child_weight'...</td>\n",
       "    </tr>\n",
       "    <tr>\n",
       "      <td>6</td>\n",
       "      <td>10</td>\n",
       "      <td>XGBoostPipeline</td>\n",
       "      <td>0.007615</td>\n",
       "      <td>False</td>\n",
       "      <td>{'eta': 0.7206326547259169, 'min_child_weight'...</td>\n",
       "    </tr>\n",
       "    <tr>\n",
       "      <td>7</td>\n",
       "      <td>7</td>\n",
       "      <td>XGBoostPipeline</td>\n",
       "      <td>0.007615</td>\n",
       "      <td>False</td>\n",
       "      <td>{'eta': 0.9786183422327642, 'min_child_weight'...</td>\n",
       "    </tr>\n",
       "    <tr>\n",
       "      <td>8</td>\n",
       "      <td>1</td>\n",
       "      <td>XGBoostPipeline</td>\n",
       "      <td>0.007616</td>\n",
       "      <td>False</td>\n",
       "      <td>{'eta': 0.38438170729269994, 'min_child_weight...</td>\n",
       "    </tr>\n",
       "    <tr>\n",
       "      <td>9</td>\n",
       "      <td>15</td>\n",
       "      <td>RFClassificationPipeline</td>\n",
       "      <td>0.007616</td>\n",
       "      <td>False</td>\n",
       "      <td>{'n_estimators': 609, 'max_depth': 7, 'impute_...</td>\n",
       "    </tr>\n",
       "    <tr>\n",
       "      <td>10</td>\n",
       "      <td>8</td>\n",
       "      <td>LogisticRegressionPipeline</td>\n",
       "      <td>0.007616</td>\n",
       "      <td>False</td>\n",
       "      <td>{'penalty': 'l2', 'C': 0.5765626434012575, 'im...</td>\n",
       "    </tr>\n",
       "    <tr>\n",
       "      <td>11</td>\n",
       "      <td>4</td>\n",
       "      <td>LogisticRegressionPipeline</td>\n",
       "      <td>0.007616</td>\n",
       "      <td>False</td>\n",
       "      <td>{'penalty': 'l2', 'C': 8.444214828324364, 'imp...</td>\n",
       "    </tr>\n",
       "    <tr>\n",
       "      <td>12</td>\n",
       "      <td>6</td>\n",
       "      <td>LogisticRegressionPipeline</td>\n",
       "      <td>0.007616</td>\n",
       "      <td>False</td>\n",
       "      <td>{'penalty': 'l2', 'C': 6.239401330891865, 'imp...</td>\n",
       "    </tr>\n",
       "    <tr>\n",
       "      <td>13</td>\n",
       "      <td>9</td>\n",
       "      <td>LogisticRegressionPipeline</td>\n",
       "      <td>0.007616</td>\n",
       "      <td>False</td>\n",
       "      <td>{'penalty': 'l2', 'C': 8.123565600467177, 'imp...</td>\n",
       "    </tr>\n",
       "    <tr>\n",
       "      <td>14</td>\n",
       "      <td>11</td>\n",
       "      <td>LogisticRegressionPipeline</td>\n",
       "      <td>0.007616</td>\n",
       "      <td>False</td>\n",
       "      <td>{'penalty': 'l2', 'C': 8.362426847738403, 'imp...</td>\n",
       "    </tr>\n",
       "    <tr>\n",
       "      <td>15</td>\n",
       "      <td>13</td>\n",
       "      <td>LogisticRegressionPipeline</td>\n",
       "      <td>0.007616</td>\n",
       "      <td>False</td>\n",
       "      <td>{'penalty': 'l2', 'C': 3.6887329830070748, 'im...</td>\n",
       "    </tr>\n",
       "  </tbody>\n",
       "</table>\n",
       "</div>"
      ],
      "text/plain": [
       "    id               pipeline_name     score  high_variance_cv  \\\n",
       "0   14             XGBoostPipeline  0.007614             False   \n",
       "1   12    RFClassificationPipeline  0.007614             False   \n",
       "2    2    RFClassificationPipeline  0.007615             False   \n",
       "3    0             XGBoostPipeline  0.007615             False   \n",
       "4    3             XGBoostPipeline  0.007615             False   \n",
       "5    5             XGBoostPipeline  0.007615             False   \n",
       "6   10             XGBoostPipeline  0.007615             False   \n",
       "7    7             XGBoostPipeline  0.007615             False   \n",
       "8    1             XGBoostPipeline  0.007616             False   \n",
       "9   15    RFClassificationPipeline  0.007616             False   \n",
       "10   8  LogisticRegressionPipeline  0.007616             False   \n",
       "11   4  LogisticRegressionPipeline  0.007616             False   \n",
       "12   6  LogisticRegressionPipeline  0.007616             False   \n",
       "13   9  LogisticRegressionPipeline  0.007616             False   \n",
       "14  11  LogisticRegressionPipeline  0.007616             False   \n",
       "15  13  LogisticRegressionPipeline  0.007616             False   \n",
       "\n",
       "                                           parameters  \n",
       "0   {'eta': 0.264555612104627, 'min_child_weight':...  \n",
       "1   {'n_estimators': 369, 'max_depth': 10, 'impute...  \n",
       "2   {'n_estimators': 569, 'max_depth': 22, 'impute...  \n",
       "3   {'eta': 0.5928446182250184, 'min_child_weight'...  \n",
       "4   {'eta': 0.5288949197529046, 'min_child_weight'...  \n",
       "5   {'eta': 0.6481718720511973, 'min_child_weight'...  \n",
       "6   {'eta': 0.7206326547259169, 'min_child_weight'...  \n",
       "7   {'eta': 0.9786183422327642, 'min_child_weight'...  \n",
       "8   {'eta': 0.38438170729269994, 'min_child_weight...  \n",
       "9   {'n_estimators': 609, 'max_depth': 7, 'impute_...  \n",
       "10  {'penalty': 'l2', 'C': 0.5765626434012575, 'im...  \n",
       "11  {'penalty': 'l2', 'C': 8.444214828324364, 'imp...  \n",
       "12  {'penalty': 'l2', 'C': 6.239401330891865, 'imp...  \n",
       "13  {'penalty': 'l2', 'C': 8.123565600467177, 'imp...  \n",
       "14  {'penalty': 'l2', 'C': 8.362426847738403, 'imp...  \n",
       "15  {'penalty': 'l2', 'C': 3.6887329830070748, 'im...  "
      ]
     },
     "execution_count": 6,
     "metadata": {},
     "output_type": "execute_result"
    }
   ],
   "source": [
    "clf.rankings"
   ]
  },
  {
   "cell_type": "markdown",
   "metadata": {},
   "source": [
    "to select the best pipeline we can run"
   ]
  },
  {
   "cell_type": "code",
   "execution_count": 7,
   "metadata": {},
   "outputs": [],
   "source": [
    "pipeline = clf.best_pipeline"
   ]
  },
  {
   "cell_type": "markdown",
   "metadata": {},
   "source": [
    "to select another pipeline we can use the id"
   ]
  },
  {
   "cell_type": "code",
   "execution_count": 8,
   "metadata": {},
   "outputs": [],
   "source": [
    "pipeline = clf.get_pipeline(0)"
   ]
  },
  {
   "cell_type": "markdown",
   "metadata": {},
   "source": [
    "### Describe pipeline\n",
    "\n",
    "You can get more details about any pipeline. Including "
   ]
  },
  {
   "cell_type": "code",
   "execution_count": 9,
   "metadata": {},
   "outputs": [
    {
     "name": "stdout",
     "output_type": "stream",
     "text": [
      "\u001b[1m********************************************************************************************\u001b[0m\n",
      "\u001b[1m* XGBoost Classifier w/ One Hot Encoder + Simple Imputer + RF Classifier Select From Model *\u001b[0m\n",
      "\u001b[1m********************************************************************************************\u001b[0m\n",
      "\n",
      "Problem Types: Binary Classification, Multiclass Classification\n",
      "Model Type: XGBoost Classifier\n",
      "Objective to Optimize: Fraud Cost (lower is better)\n",
      "Number of features: 3\n",
      "\n",
      "Pipeline Steps\n",
      "==============\n",
      "1. One Hot Encoder\n",
      "2. Simple Imputer\n",
      "\t * impute_strategy : most_frequent\n",
      "3. RF Classifier Select From Model\n",
      "\t * percent_features : 0.6273280598181127\n",
      "\t * threshold : -inf\n",
      "4. XGBoost Classifier\n",
      "\t * eta : 0.5928446182250184\n",
      "\t * max_depth : 4\n",
      "\t * min_child_weight : 8.598391737229157\n",
      "\n",
      "Training\n",
      "========\n",
      "Training for Binary Classification problems.\n",
      "Total training time (including CV): 2.0 seconds\n",
      "\n",
      "Cross Validation\n",
      "----------------\n",
      "             Fraud Cost    F1  Precision  Recall   AUC  Log Loss    MCC # Training # Testing\n",
      "0                 0.008 0.263      0.152   0.263 0.855     0.188 -0.007  13332.000  6666.000\n",
      "1                 0.008 0.263      0.152   0.263 0.844     0.190 -0.000  13332.000  6666.000\n",
      "2                 0.008 0.264      0.152   0.264 0.832     0.200  0.000  13332.000  6666.000\n",
      "mean              0.008 0.264      0.152   0.264 0.844     0.192 -0.002          -         -\n",
      "std               0.000 0.000      0.000   0.000 0.012     0.006  0.004          -         -\n",
      "coef of var       0.002 0.000      0.000   0.000 0.014     0.033 -1.603          -         -\n"
     ]
    }
   ],
   "source": [
    "clf.describe_pipeline(0)"
   ]
  }
 ],
 "metadata": {
  "kernelspec": {
   "display_name": "Python 3",
   "language": "python",
   "name": "python3"
  },
  "language_info": {
   "codemirror_mode": {
    "name": "ipython",
    "version": 3
   },
   "file_extension": ".py",
   "mimetype": "text/x-python",
   "name": "python",
   "nbconvert_exporter": "python",
   "pygments_lexer": "ipython3",
   "version": "3.7.4"
  }
 },
 "nbformat": 4,
 "nbformat_minor": 2
}
