{
 "cells": [
  {
   "cell_type": "markdown",
   "metadata": {},
   "source": [
    "# AutoML Optimization"
   ]
  },
  {
   "cell_type": "markdown",
   "metadata": {},
   "source": [
    "As we saw in [pipelines and components](../pipelines/overview.ipynb), EvalML pipelines are created by individual components with their own set of `hyperparameters`. In machine learning, `hyperparameters` are parameters that are used to configure a pipeline and the model(s) in that pipeline before the pipeline's learning process begins (as opposed to the pipeline's `learned parameters` which are optimized during fitting). EvalML's automl models search for the best-performing pipeline through an iterative cycle of initializing new pipelines, scoring them, and then learning from old pipelines' hyper-parameters and score to initialize the next pipeline. This process is called Bayesian Optimization. Various other tuning techniques include grid-search, random-search, evolutionary computation and gradient techniques."
   ]
  },
  {
   "cell_type": "markdown",
   "metadata": {},
   "source": [
    "## Using Custom Tuners\n",
    "\n",
    "You can utilize your own tuners by passing them to any AutoML model that EvalML offers. To ensure that your tuner works with EvaML, it must follow the following API:\n",
    "\n",
    "```python\n",
    "# TBD\n",
    "```"
   ]
  },
  {
   "cell_type": "code",
   "execution_count": 5,
   "metadata": {},
   "outputs": [],
   "source": [
    "from evalml import AutoClassifier\n",
    "from evalml.tuners import SKOptTuner\n",
    "\n",
    "myTuner = SKOptTuner\n",
    "clf = AutoClassifier(objective='recall', tuner=myTuner)"
   ]
  }
 ],
 "metadata": {
  "kernelspec": {
   "display_name": "Python 3",
   "language": "python",
   "name": "python3"
  },
  "language_info": {
   "codemirror_mode": {
    "name": "ipython",
    "version": 3
   },
   "file_extension": ".py",
   "mimetype": "text/x-python",
   "name": "python",
   "nbconvert_exporter": "python",
   "pygments_lexer": "ipython3",
   "version": "3.7.4"
  }
 },
 "nbformat": 4,
 "nbformat_minor": 4
}
