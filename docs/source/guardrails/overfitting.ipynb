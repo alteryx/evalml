{
 "cells": [
  {
   "cell_type": "markdown",
   "metadata": {},
   "source": [
    "# Avoiding Overfitting\n",
    "\n",
    "The ultimate goal of machine learning is to make accurate predictions on unseen data. EvalML aims to help you build a model that will perform as you expect once it is deployed in to the real world.\n",
    "\n",
    "One of the benefits of using EvalML to build models is that it provides guardrails to ensure you are building pipelines that will perform reliably in the future. This page describes the various ways EvalML helps you avoid overfitting to your data."
   ]
  },
  {
   "cell_type": "code",
   "execution_count": null,
   "metadata": {},
   "outputs": [],
   "source": [
    "import evalml"
   ]
  },
  {
   "cell_type": "markdown",
   "metadata": {},
   "source": [
    "## Detecting Label Leakage\n",
    "\n",
    "A common problem is having features that include information from your label in your training data. By default, EvalML will provide a warning when it detects this may be the case.\n",
    "\n",
    "Let's set up a simple example to demonstrate what this looks like"
   ]
  },
  {
   "cell_type": "code",
   "execution_count": null,
   "metadata": {},
   "outputs": [],
   "source": [
    "import pandas as pd\n",
    "\n",
    "X = pd.DataFrame({\n",
    "    \"leaked_feature\": [6, 6, 10, 5, 5, 11, 5, 10, 11, 4],\n",
    "    \"leaked_feature_2\": [3, 2.5, 5, 2.5, 3, 5.5, 2, 5, 5.5, 2],\n",
    "    \"valid_feature\": [3, 1, 3, 2, 4, 6, 1, 3, 3, 11]\n",
    "})\n",
    "\n",
    "y = pd.Series([1, 1, 0, 1, 1, 0, 1, 0, 0, 1])\n",
    "\n",
    "automl = evalml.AutoClassificationSearch(\n",
    "    max_pipelines=1,\n",
    "    allowed_model_families=[\"linear_model\"],\n",
    ")\n",
    "\n",
    "automl.search(X, y)"
   ]
  },
  {
   "cell_type": "markdown",
   "metadata": {},
   "source": [
    "In the example above, EvalML warned about the input features `leaked_feature` and `leak_feature_2`, which are both very closely correlated with the label we are trying to predict. If you'd like to turn this check off, set `detect_label_leakage=False`.\n",
    "\n",
    "The second way to find features that may be leaking label information is to look at the top features of the model. As we can see below, the top features in our model are the 2 leaked features."
   ]
  },
  {
   "cell_type": "code",
   "execution_count": null,
   "metadata": {},
   "outputs": [],
   "source": [
    "best_pipeline = automl.best_pipeline\n",
    "best_pipeline.feature_importances"
   ]
  },
  {
   "cell_type": "markdown",
   "metadata": {},
   "source": [
    "\n",
    "## Perform cross-validation for pipeline evaluation\n",
    "\n",
    "By default, EvalML performs 3-fold cross validation when building pipelines. This means that it evaluates each pipeline 3 times using different sets of data for training and testing. In each trial, the data used for testing has no overlap from the data used for training.\n",
    "\n",
    "While this is a good baseline approach, you can pass your own cross validation object to be used during modeling. The cross validation object can be any of the CV methods defined in [scikit-learn](https://scikit-learn.org/stable/modules/cross_validation.html) or use a compatible API.\n",
    "\n",
    "For example, if we wanted to do a time series split:"
   ]
  },
  {
   "cell_type": "code",
   "execution_count": null,
   "metadata": {},
   "outputs": [],
   "source": [
    "from sklearn.model_selection import TimeSeriesSplit\n",
    "\n",
    "X, y = evalml.demos.load_breast_cancer()\n",
    "\n",
    "automl = evalml.AutoClassificationSearch(\n",
    "    cv=TimeSeriesSplit(n_splits=6), \n",
    "    max_pipelines=1\n",
    ")\n",
    "\n",
    "automl.search(X, y)"
   ]
  },
  {
   "cell_type": "markdown",
   "metadata": {},
   "source": [
    "if we describe the 1 pipeline we built, we can see the scores for each of the 6 splits as determined by the cross-validation object we provided. We can also see the number of training examples per fold increased because we were using `TimeSeriesSplit`"
   ]
  },
  {
   "cell_type": "code",
   "execution_count": null,
   "metadata": {},
   "outputs": [],
   "source": [
    "automl.describe_pipeline(0)"
   ]
  },
  {
   "cell_type": "markdown",
   "metadata": {},
   "source": [
    "## Detect unstable pipelines\n",
    "\n",
    "When we perform cross validation we are trying generate an estimate of pipeline performance. EvalML does this by taking the mean of the score across the folds. If the performance across the folds varies greatly, it is indicative the the estimated value may be unreliable. \n",
    "\n",
    "To protect the user against this, EvalML checks to see if the pipeline's performance has a variance between the different folds. EvalML triggers a warning if the \"coefficient of variance\" of the scores (the standard deviation divided by mean) of the pipelines scores exeeds .2.\n",
    "\n",
    "This warning will appear in the pipeline rankings under `high_variance_cv`."
   ]
  },
  {
   "cell_type": "code",
   "execution_count": null,
   "metadata": {},
   "outputs": [],
   "source": [
    "automl.rankings"
   ]
  },
  {
   "cell_type": "markdown",
   "metadata": {},
   "source": [
    "## Create holdout for model validation\n",
    "\n",
    "EvalML offers a method to quickly create an holdout validation set. A holdout validation set is data that is not used during the process of optimizing or training the model. You should only use this validation set once you've picked the final model you'd like to use.\n",
    "\n",
    "Below we create a holdout set of 20% of our data"
   ]
  },
  {
   "cell_type": "code",
   "execution_count": null,
   "metadata": {},
   "outputs": [],
   "source": [
    "X, y = evalml.demos.load_breast_cancer()\n",
    "X_train, X_holdout, y_train, y_holdout = evalml.preprocessing.split_data(X, y, test_size=.2)"
   ]
  },
  {
   "cell_type": "code",
   "execution_count": null,
   "metadata": {},
   "outputs": [],
   "source": [
    "automl = evalml.AutoClassificationSearch(\n",
    "    objective=\"recall\",\n",
    "    max_pipelines=3,\n",
    "    detect_label_leakage=True\n",
    ")\n",
    "automl.search(X_train, y_train)"
   ]
  },
  {
   "cell_type": "markdown",
   "metadata": {},
   "source": [
    "then we can retrain the best pipeline on all of our training data and see how it performs compared to the estimate"
   ]
  },
  {
   "cell_type": "code",
   "execution_count": null,
   "metadata": {},
   "outputs": [],
   "source": [
    "pipeline = automl.best_pipeline\n",
    "pipeline.fit(X_train, y_train)\n",
    "pipeline.score(X_holdout, y_holdout, [\"recall\"])"
   ]
  }
 ],
 "metadata": {
  "kernelspec": {
   "display_name": "Python 3",
   "language": "python",
   "name": "python3"
  },
  "language_info": {
   "codemirror_mode": {
    "name": "ipython",
    "version": 3
   },
   "file_extension": ".py",
   "mimetype": "text/x-python",
   "name": "python",
   "nbconvert_exporter": "python",
   "pygments_lexer": "ipython3",
   "version": "3.7.4"
  }
 },
 "nbformat": 4,
 "nbformat_minor": 4
}