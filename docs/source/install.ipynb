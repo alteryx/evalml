{
 "cells": [
  {
   "cell_type": "markdown",
   "metadata": {},
   "source": [
    "# Install\n",
    "\n",
    "EvalML is available for Python 3.6+. It can be installed with pip or conda.\n",
    "\n",
    "## Pip with all dependencies\n",
    "\n",
    "To install evalml with pip, run the following command:\n",
    "\n",
    "```bash\n",
    "pip install evalml\n",
    "```\n",
    "\n",
    "For older Python versions (3.6.0 in particular), you must install `pip >= 18.0` and `setuptools > 40.0.0` in order to install evalml.\n",
    "\n",
    "## Pip with core dependencies\n",
    "\n",
    "EvalML includes several optional dependencies. The `xgboost` and `catboost` packages support pipelines built around those modeling libraries. The `plotly` and `ipywidgets` packages support plotting functionality in automl searches. These dependencies are recommended, and are included with EvalML by default but are not required in order to install and use EvalML.\n",
    "\n",
    "EvalML's core dependencies are listed in `core-requirements.txt` in the source code, and optional requirements are isted in `requirements.txt`.\n",
    "\n",
    "To install EvalML with only the core required dependencies, download the EvalML source [from pypi](https://pypi.org/project/evalml/#files) to access the requirements files. Then run the following:\n",
    "\n",
    "```bash\n",
    "pip install evalml --no-dependencies\n",
    "pip install -r core-requirements.txt\n",
    "```\n",
    "\n",
    "## Conda with all dependencies\n",
    "\n",
    "To install evalml with conda run the following command:\n",
    "\n",
    "```bash\n",
    "conda install -c conda-forge evalml\n",
    "```\n",
    "\n",
    "## Conda with core dependencies \n",
    "\n",
    "To install evalml with only core dependencies run the following command:\n",
    "\n",
    "```bash\n",
    "conda install -c conda-forge evalml-core\n",
    "```\n",
    "\n",
    "## Windows\n",
    "\n",
    "The [XGBoost](https://pypi.org/project/xgboost/) library may not be pip-installable in some Windows environments. If you are encountering installation issues, please try installing XGBoost from [Github](https://xgboost.readthedocs.io/en/latest/build.html) before installing EvalML or install evalml with conda.\n",
    "\n",
    "## Mac\n",
    "\n",
    "In order to run on Mac, [LightGBM](https://pypi.org/project/lightgbm/) requires the `OpenMP` library to be installed, which can be done with [HomeBrew](https://brew.sh/) by running \n",
    "\n",
    "```bash\n",
    "brew install libomp\n",
    "```"
   ]
  }
 ],
 "metadata": {
  "kernelspec": {
   "display_name": "Python 3",
   "language": "python",
   "name": "python3"
  },
  "language_info": {
   "codemirror_mode": {
    "name": "ipython",
    "version": 3
   },
   "file_extension": ".py",
   "mimetype": "text/x-python",
   "name": "python",
   "nbconvert_exporter": "python",
   "pygments_lexer": "ipython3",
   "version": "3.8.6"
  }
 },
 "nbformat": 4,
 "nbformat_minor": 4
}