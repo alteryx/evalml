{
 "cells": [
  {
   "cell_type": "markdown",
   "metadata": {},
   "source": [
    "# Building a Fraud Prediction Model with EvalML\n",
    "\n",
    "In this demo, we will build an optimized fraud prediction model using EvalML. To optimize the pipeline, we will set up an objective function to minimize the percentage of total transaction value lost to fraud. At the end of this demo, we also show you how introducing the right objective during the training is over 4x better than using a generic machine learning metric like AUC."
   ]
  },
  {
   "cell_type": "code",
   "execution_count": 1,
   "metadata": {},
   "outputs": [],
   "source": [
    "import evalml\n",
    "from evalml.objectives import FraudCost"
   ]
  },
  {
   "cell_type": "markdown",
   "metadata": {},
   "source": [
    "## Configure \"Cost of Fraud\" \n",
    "\n",
    "To optimize the pipelines toward the specific business needs of this model, you can set your own assumptions for the cost of fraud. These parameters are\n",
    "\n",
    "* `retry_percentage` - what percentage of customers will retry a transaction if it is declined?\n",
    "* `interchange_fee` - how much of each successful transaction do you collect?\n",
    "* `fraud_payout_percentage` - the percentage of fraud will you be unable to collect\n",
    "* `amount_col` - the column in the data the represents the transaction amount\n",
    "\n",
    "Using these parameters, EvalML determines attempt to build a pipeline that will minimize the financial loss due to fraud."
   ]
  },
  {
   "cell_type": "code",
   "execution_count": 2,
   "metadata": {},
   "outputs": [],
   "source": [
    "fraud_objective = FraudCost(\n",
    "    retry_percentage=.5,\n",
    "    interchange_fee=.02,\n",
    "    fraud_payout_percentage=.75,\n",
    "    amount_col='amount',  \n",
    ")"
   ]
  },
  {
   "cell_type": "markdown",
   "metadata": {},
   "source": [
    "## Search for best pipeline"
   ]
  },
  {
   "cell_type": "markdown",
   "metadata": {},
   "source": [
    "In order to validate the results of the pipeline creation and optimization process, we will save some of our data as a holdout set"
   ]
  },
  {
   "cell_type": "code",
   "execution_count": 3,
   "metadata": {},
   "outputs": [
    {
     "name": "stdout",
     "output_type": "stream",
     "text": [
      "             Number of Features\n",
      "Boolean                       1\n",
      "Categorical                   6\n",
      "Numeric                       5\n",
      "\n",
      "Number of training examples: 99992\n",
      "\n",
      "Labels\n",
      "False    84.82%\n",
      "True     15.18%\n",
      "Name: fraud, dtype: object\n"
     ]
    }
   ],
   "source": [
    "X, y = evalml.demos.load_fraud()"
   ]
  },
  {
   "cell_type": "markdown",
   "metadata": {},
   "source": [
    "EvalML natively supports one-hot encoding. Here we keep 1 out of the 6 categorical columns to decrease computation time."
   ]
  },
  {
   "cell_type": "code",
   "execution_count": 4,
   "metadata": {},
   "outputs": [
    {
     "name": "stdout",
     "output_type": "stream",
     "text": [
      "card_id               int64\n",
      "store_id              int64\n",
      "amount                int64\n",
      "currency             object\n",
      "customer_present       bool\n",
      "lat                 float64\n",
      "lng                 float64\n",
      "dtype: object\n"
     ]
    }
   ],
   "source": [
    "X = X.drop(['datetime', 'expiration_date', 'country', 'region', 'provider'], axis=1)\n",
    "X_train, X_holdout, y_train, y_holdout = evalml.preprocessing.split_data(X, y, test_size=0.2, random_state=0)\n",
    "\n",
    "print(X.dtypes)"
   ]
  },
  {
   "cell_type": "markdown",
   "metadata": {},
   "source": [
    "Because the fraud labels are binary, we will use `AutoClassifier`. When we call `.fit()`, the search for the best pipeline will begin. "
   ]
  },
  {
   "cell_type": "code",
   "execution_count": 5,
   "metadata": {},
   "outputs": [
    {
     "name": "stdout",
     "output_type": "stream",
     "text": [
      "\u001b[1m*****************************\u001b[0m\n",
      "\u001b[1m* Beginning pipeline search *\u001b[0m\n",
      "\u001b[1m*****************************\u001b[0m\n",
      "\n",
      "Optimizing for Fraud Cost. Lower score is better.\n",
      "\n",
      "Searching up to 5 pipelines. No time limit is set. Set one using max_time parameter.\n",
      "\n",
      "Possible model types: xgboost, linear_model, random_forest\n",
      "\n",
      "Testing LogisticRegression w/ imputation + scaling: 100%|██████████| 5/5 [18:10<00:00, 218.05s/it]\n",
      "\n",
      "✔ Optimization finished\n"
     ]
    }
   ],
   "source": [
    "clf = evalml.AutoClassifier(objective=fraud_objective,\n",
    "                            additional_objectives=['auc', 'recall', 'precision'],\n",
    "                            max_pipelines=5)\n",
    "\n",
    "clf.fit(X_train, y_train)"
   ]
  },
  {
   "cell_type": "markdown",
   "metadata": {},
   "source": [
    "### View rankings and select pipeline\n",
    "\n",
    "Once the fitting process is done, we can see all of the pipelines that were searched, ranked by their score on the fraud detection objective we defined"
   ]
  },
  {
   "cell_type": "code",
   "execution_count": 6,
   "metadata": {},
   "outputs": [
    {
     "data": {
      "text/html": [
       "<div>\n",
       "<style scoped>\n",
       "    .dataframe tbody tr th:only-of-type {\n",
       "        vertical-align: middle;\n",
       "    }\n",
       "\n",
       "    .dataframe tbody tr th {\n",
       "        vertical-align: top;\n",
       "    }\n",
       "\n",
       "    .dataframe thead th {\n",
       "        text-align: right;\n",
       "    }\n",
       "</style>\n",
       "<table border=\"1\" class=\"dataframe\">\n",
       "  <thead>\n",
       "    <tr style=\"text-align: right;\">\n",
       "      <th></th>\n",
       "      <th>id</th>\n",
       "      <th>pipeline_name</th>\n",
       "      <th>score</th>\n",
       "      <th>high_variance_cv</th>\n",
       "      <th>parameters</th>\n",
       "    </tr>\n",
       "  </thead>\n",
       "  <tbody>\n",
       "    <tr>\n",
       "      <td>0</td>\n",
       "      <td>1</td>\n",
       "      <td>XGBoostPipeline</td>\n",
       "      <td>0.007623</td>\n",
       "      <td>False</td>\n",
       "      <td>{'eta': 0.38438170729269994, 'min_child_weight...</td>\n",
       "    </tr>\n",
       "    <tr>\n",
       "      <td>1</td>\n",
       "      <td>4</td>\n",
       "      <td>LogisticRegressionPipeline</td>\n",
       "      <td>0.007623</td>\n",
       "      <td>False</td>\n",
       "      <td>{'penalty': 'l2', 'C': 8.444214828324364, 'imp...</td>\n",
       "    </tr>\n",
       "    <tr>\n",
       "      <td>2</td>\n",
       "      <td>0</td>\n",
       "      <td>XGBoostPipeline</td>\n",
       "      <td>0.007623</td>\n",
       "      <td>False</td>\n",
       "      <td>{'eta': 0.5928446182250184, 'min_child_weight'...</td>\n",
       "    </tr>\n",
       "    <tr>\n",
       "      <td>3</td>\n",
       "      <td>3</td>\n",
       "      <td>XGBoostPipeline</td>\n",
       "      <td>0.007623</td>\n",
       "      <td>False</td>\n",
       "      <td>{'eta': 0.5288949197529046, 'min_child_weight'...</td>\n",
       "    </tr>\n",
       "    <tr>\n",
       "      <td>4</td>\n",
       "      <td>2</td>\n",
       "      <td>RFClassificationPipeline</td>\n",
       "      <td>0.007623</td>\n",
       "      <td>False</td>\n",
       "      <td>{'n_estimators': 569, 'max_depth': 22, 'impute...</td>\n",
       "    </tr>\n",
       "  </tbody>\n",
       "</table>\n",
       "</div>"
      ],
      "text/plain": [
       "   id               pipeline_name     score  high_variance_cv  \\\n",
       "0   1             XGBoostPipeline  0.007623             False   \n",
       "1   4  LogisticRegressionPipeline  0.007623             False   \n",
       "2   0             XGBoostPipeline  0.007623             False   \n",
       "3   3             XGBoostPipeline  0.007623             False   \n",
       "4   2    RFClassificationPipeline  0.007623             False   \n",
       "\n",
       "                                          parameters  \n",
       "0  {'eta': 0.38438170729269994, 'min_child_weight...  \n",
       "1  {'penalty': 'l2', 'C': 8.444214828324364, 'imp...  \n",
       "2  {'eta': 0.5928446182250184, 'min_child_weight'...  \n",
       "3  {'eta': 0.5288949197529046, 'min_child_weight'...  \n",
       "4  {'n_estimators': 569, 'max_depth': 22, 'impute...  "
      ]
     },
     "execution_count": 6,
     "metadata": {},
     "output_type": "execute_result"
    }
   ],
   "source": [
    "clf.rankings"
   ]
  },
  {
   "cell_type": "markdown",
   "metadata": {},
   "source": [
    "to select the best pipeline we can run"
   ]
  },
  {
   "cell_type": "code",
   "execution_count": 7,
   "metadata": {},
   "outputs": [],
   "source": [
    "best_pipeline = clf.best_pipeline"
   ]
  },
  {
   "cell_type": "markdown",
   "metadata": {},
   "source": [
    "### Describe pipeline\n",
    "\n",
    "You can get more details about any pipeline. Including how it performed on other objective functions."
   ]
  },
  {
   "cell_type": "code",
   "execution_count": 8,
   "metadata": {},
   "outputs": [
    {
     "name": "stdout",
     "output_type": "stream",
     "text": [
      "\u001b[1m************************\u001b[0m\n",
      "\u001b[1m* Pipeline Description *\u001b[0m\n",
      "\u001b[1m************************\u001b[0m\n",
      "\n",
      "Pipeline Name: XGBoost w/ imputation\n",
      "Model type: xgboost\n",
      "Objective: Fraud Cost (lower is better)\n",
      "Total training time (including CV): 383.7 seconds\n",
      "\n",
      "Parameters\n",
      "==========\n",
      "• eta: 0.38438170729269994\n",
      "• min_child_weight: 3.677811458900251\n",
      "• max_depth: 13\n",
      "• impute_strategy: median\n",
      "• percent_features: 0.793807787701838\n",
      "\n",
      "Cross Validation\n",
      "=================\n",
      "              AUC  Recall  Precision  Fraud Cost # Training # Testing\n",
      "0           0.831   0.264      0.152       0.008  53328.000 26665.000\n",
      "1           0.833   0.264      0.152       0.008  53328.000 26665.000\n",
      "2           0.836   0.264      0.152       0.008  53330.000 26663.000\n",
      "mean        0.834   0.264      0.152       0.008          -         -\n",
      "std         0.003   0.000      0.000       0.000          -         -\n",
      "coef of var 0.003   0.000      0.000       0.003          -         -\n"
     ]
    }
   ],
   "source": [
    "clf.describe_pipeline(clf.rankings.iloc[0][\"id\"])"
   ]
  },
  {
   "cell_type": "markdown",
   "metadata": {},
   "source": [
    "## Evaluate on hold out\n",
    "\n",
    "Finally, we retrain the best pipeline on all of the training data and evaluate on the holdout"
   ]
  },
  {
   "cell_type": "code",
   "execution_count": 9,
   "metadata": {},
   "outputs": [
    {
     "data": {
      "text/plain": [
       "<evalml.pipelines.classification.xgboost.XGBoostPipeline at 0x128176a50>"
      ]
     },
     "execution_count": 9,
     "metadata": {},
     "output_type": "execute_result"
    }
   ],
   "source": [
    "best_pipeline.fit(X_train, y_train)"
   ]
  },
  {
   "cell_type": "markdown",
   "metadata": {},
   "source": [
    "Now, we can score the pipeline on the hold out data using both the fraud cost score and the AUC."
   ]
  },
  {
   "cell_type": "code",
   "execution_count": 10,
   "metadata": {},
   "outputs": [
    {
     "data": {
      "text/plain": [
       "(0.007626457064581641,\n",
       " {'AUC': 0.8336438887334185, 'Fraud Cost': 0.007626457064581641})"
      ]
     },
     "execution_count": 10,
     "metadata": {},
     "output_type": "execute_result"
    }
   ],
   "source": [
    "best_pipeline.score(X_holdout, y_holdout, other_objectives=[\"auc\", fraud_objective])"
   ]
  },
  {
   "cell_type": "markdown",
   "metadata": {},
   "source": [
    "## Why optimize for a problem-specific objective?\n",
    "\n",
    "To demonstrate the importance of optimizing for the right objective, let's search for another pipeline using AUC, a common machine learning metric. After that, we will score the holdout data using the fraud cost objective to see how the best pipelines compare."
   ]
  },
  {
   "cell_type": "code",
   "execution_count": 11,
   "metadata": {},
   "outputs": [
    {
     "name": "stdout",
     "output_type": "stream",
     "text": [
      "\u001b[1m*****************************\u001b[0m\n",
      "\u001b[1m* Beginning pipeline search *\u001b[0m\n",
      "\u001b[1m*****************************\u001b[0m\n",
      "\n",
      "Optimizing for AUC. Greater score is better.\n",
      "\n",
      "Searching up to 5 pipelines. No time limit is set. Set one using max_time parameter.\n",
      "\n",
      "Possible model types: xgboost, linear_model, random_forest\n",
      "\n",
      "Testing LogisticRegression w/ imputation + scaling: 100%|██████████| 5/5 [19:16<00:00, 231.26s/it]\n",
      "\n",
      "✔ Optimization finished\n"
     ]
    }
   ],
   "source": [
    "clf_auc = evalml.AutoClassifier(objective='auc',\n",
    "                                additional_objectives=['recall', 'precision'],\n",
    "                                max_pipelines=5)\n",
    "\n",
    "clf_auc.fit(X_train, y_train)"
   ]
  },
  {
   "cell_type": "markdown",
   "metadata": {},
   "source": [
    "like before, we can look at the rankings and pick the best pipeline"
   ]
  },
  {
   "cell_type": "code",
   "execution_count": 12,
   "metadata": {},
   "outputs": [
    {
     "data": {
      "text/html": [
       "<div>\n",
       "<style scoped>\n",
       "    .dataframe tbody tr th:only-of-type {\n",
       "        vertical-align: middle;\n",
       "    }\n",
       "\n",
       "    .dataframe tbody tr th {\n",
       "        vertical-align: top;\n",
       "    }\n",
       "\n",
       "    .dataframe thead th {\n",
       "        text-align: right;\n",
       "    }\n",
       "</style>\n",
       "<table border=\"1\" class=\"dataframe\">\n",
       "  <thead>\n",
       "    <tr style=\"text-align: right;\">\n",
       "      <th></th>\n",
       "      <th>id</th>\n",
       "      <th>pipeline_name</th>\n",
       "      <th>score</th>\n",
       "      <th>high_variance_cv</th>\n",
       "      <th>parameters</th>\n",
       "    </tr>\n",
       "  </thead>\n",
       "  <tbody>\n",
       "    <tr>\n",
       "      <td>0</td>\n",
       "      <td>2</td>\n",
       "      <td>RFClassificationPipeline</td>\n",
       "      <td>0.873053</td>\n",
       "      <td>False</td>\n",
       "      <td>{'n_estimators': 569, 'max_depth': 22, 'impute...</td>\n",
       "    </tr>\n",
       "    <tr>\n",
       "      <td>1</td>\n",
       "      <td>0</td>\n",
       "      <td>XGBoostPipeline</td>\n",
       "      <td>0.849826</td>\n",
       "      <td>False</td>\n",
       "      <td>{'eta': 0.5928446182250184, 'min_child_weight'...</td>\n",
       "    </tr>\n",
       "    <tr>\n",
       "      <td>2</td>\n",
       "      <td>1</td>\n",
       "      <td>XGBoostPipeline</td>\n",
       "      <td>0.840634</td>\n",
       "      <td>False</td>\n",
       "      <td>{'eta': 0.38438170729269994, 'min_child_weight...</td>\n",
       "    </tr>\n",
       "    <tr>\n",
       "      <td>3</td>\n",
       "      <td>3</td>\n",
       "      <td>XGBoostPipeline</td>\n",
       "      <td>0.839091</td>\n",
       "      <td>False</td>\n",
       "      <td>{'eta': 0.5288949197529046, 'min_child_weight'...</td>\n",
       "    </tr>\n",
       "    <tr>\n",
       "      <td>4</td>\n",
       "      <td>4</td>\n",
       "      <td>LogisticRegressionPipeline</td>\n",
       "      <td>0.831181</td>\n",
       "      <td>False</td>\n",
       "      <td>{'penalty': 'l2', 'C': 8.444214828324364, 'imp...</td>\n",
       "    </tr>\n",
       "  </tbody>\n",
       "</table>\n",
       "</div>"
      ],
      "text/plain": [
       "   id               pipeline_name     score  high_variance_cv  \\\n",
       "0   2    RFClassificationPipeline  0.873053             False   \n",
       "1   0             XGBoostPipeline  0.849826             False   \n",
       "2   1             XGBoostPipeline  0.840634             False   \n",
       "3   3             XGBoostPipeline  0.839091             False   \n",
       "4   4  LogisticRegressionPipeline  0.831181             False   \n",
       "\n",
       "                                          parameters  \n",
       "0  {'n_estimators': 569, 'max_depth': 22, 'impute...  \n",
       "1  {'eta': 0.5928446182250184, 'min_child_weight'...  \n",
       "2  {'eta': 0.38438170729269994, 'min_child_weight...  \n",
       "3  {'eta': 0.5288949197529046, 'min_child_weight'...  \n",
       "4  {'penalty': 'l2', 'C': 8.444214828324364, 'imp...  "
      ]
     },
     "execution_count": 12,
     "metadata": {},
     "output_type": "execute_result"
    }
   ],
   "source": [
    "clf_auc.rankings"
   ]
  },
  {
   "cell_type": "code",
   "execution_count": 13,
   "metadata": {},
   "outputs": [
    {
     "data": {
      "text/plain": [
       "<evalml.pipelines.classification.random_forest.RFClassificationPipeline at 0x122e2ed10>"
      ]
     },
     "execution_count": 13,
     "metadata": {},
     "output_type": "execute_result"
    }
   ],
   "source": [
    "best_pipeline_auc = clf_auc.best_pipeline\n",
    "\n",
    "# train on the full training data\n",
    "best_pipeline_auc.fit(X_train, y_train)"
   ]
  },
  {
   "cell_type": "code",
   "execution_count": 14,
   "metadata": {},
   "outputs": [
    {
     "data": {
      "text/plain": [
       "(0.8745605699827037,\n",
       " {'AUC': 0.8745605699827037, 'Fraud Cost': 0.03273490785793763})"
      ]
     },
     "execution_count": 14,
     "metadata": {},
     "output_type": "execute_result"
    }
   ],
   "source": [
    "# get the fraud score on holdout data\n",
    "best_pipeline_auc.score(X_holdout, y_holdout,  other_objectives=[\"auc\", fraud_objective])"
   ]
  },
  {
   "cell_type": "markdown",
   "metadata": {},
   "source": [
    "When we optimize for AUC, we can see that the AUC score from this pipeline is better than the AUC score from the pipeline optimized for fraud cost. However, the losses due to fraud are over 3% of the total transaction amount when optimized for AUC and under 1% when optimized for fraud cost. As a result, we lose more than 2% of the total transaction amount by not optimizing for fraud cost specifically.\n",
    "\n",
    "This example highlights how performance in the real world can diverge greatly from machine learning metrics."
   ]
  }
 ],
 "metadata": {
  "kernelspec": {
   "display_name": "Python 3",
   "language": "python",
   "name": "python3"
  },
  "language_info": {
   "codemirror_mode": {
    "name": "ipython",
    "version": 3
   },
   "file_extension": ".py",
   "mimetype": "text/x-python",
   "name": "python",
   "nbconvert_exporter": "python",
   "pygments_lexer": "ipython3",
   "version": "3.7.4"
  }
 },
 "nbformat": 4,
 "nbformat_minor": 4
}
