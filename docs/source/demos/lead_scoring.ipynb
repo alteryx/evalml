{
 "cells": [
  {
   "cell_type": "markdown",
   "metadata": {},
   "source": [
    "# Building a Lead Scoring Model with EvalML\n",
    "\n",
    "In this demo, we will build an optimized lead scoring model using EvalML. To optimize the pipeline, we will set up an objective function to maximize the revenue generated with true positives while taking into account the cost of false positives. At the end of this demo, we also show you how introducing the right objective during the training is over 6x better than using a generic machine learning metric like AUC."
   ]
  },
  {
   "cell_type": "code",
   "execution_count": 1,
   "metadata": {},
   "outputs": [
    {
     "name": "stdout",
     "output_type": "stream",
     "text": [
      "2020-11-24 19:49:01,985 featuretools - WARNING    Featuretools failed to load plugin nlp_primitives from library nlp_primitives. For a full stack trace, set logging to debug.\n"
     ]
    }
   ],
   "source": [
    "import evalml\n",
    "from evalml import AutoMLSearch\n",
    "from evalml.objectives import LeadScoring"
   ]
  },
  {
   "cell_type": "markdown",
   "metadata": {},
   "source": [
    "## Configure LeadScoring \n",
    "\n",
    "To optimize the pipelines toward the specific business needs of this model, you can set your own assumptions for how much value is gained through true positives and the cost associated with false positives. These parameters are\n",
    "\n",
    "* `true_positive` - dollar amount to be gained with a successful lead\n",
    "* `false_positive` - dollar amount to be lost with an unsuccessful lead\n",
    "\n",
    "Using these parameters, EvalML builds a pileline that will maximize the amount of revenue per lead generated."
   ]
  },
  {
   "cell_type": "code",
   "execution_count": 2,
   "metadata": {},
   "outputs": [],
   "source": [
    "lead_scoring_objective = LeadScoring(\n",
    "    true_positives=1000,\n",
    "    false_positives=-10\n",
    ")"
   ]
  },
  {
   "cell_type": "markdown",
   "metadata": {},
   "source": [
    "## Dataset\n",
    "\n",
    "We will be utilizing a dataset detailing a customer's job, country, state, zip, online action, the dollar amount of that action and whether they were a successful lead."
   ]
  },
  {
   "cell_type": "code",
   "execution_count": 3,
   "metadata": {},
   "outputs": [
    {
     "data": {
      "text/html": [
       "<div>\n",
       "<style scoped>\n",
       "    .dataframe tbody tr th:only-of-type {\n",
       "        vertical-align: middle;\n",
       "    }\n",
       "\n",
       "    .dataframe tbody tr th {\n",
       "        vertical-align: top;\n",
       "    }\n",
       "\n",
       "    .dataframe thead th {\n",
       "        text-align: right;\n",
       "    }\n",
       "</style>\n",
       "<table border=\"1\" class=\"dataframe\">\n",
       "  <thead>\n",
       "    <tr style=\"text-align: right;\">\n",
       "      <th></th>\n",
       "      <th>job</th>\n",
       "      <th>state</th>\n",
       "      <th>zip</th>\n",
       "      <th>action</th>\n",
       "      <th>amount</th>\n",
       "    </tr>\n",
       "  </thead>\n",
       "  <tbody>\n",
       "    <tr>\n",
       "      <th>0</th>\n",
       "      <td>Engineer, mining</td>\n",
       "      <td>NY</td>\n",
       "      <td>60091.0</td>\n",
       "      <td>page_view</td>\n",
       "      <td>NaN</td>\n",
       "    </tr>\n",
       "    <tr>\n",
       "      <th>1</th>\n",
       "      <td>Psychologist, forensic</td>\n",
       "      <td>CA</td>\n",
       "      <td>NaN</td>\n",
       "      <td>purchase</td>\n",
       "      <td>135.23</td>\n",
       "    </tr>\n",
       "    <tr>\n",
       "      <th>2</th>\n",
       "      <td>Psychologist, forensic</td>\n",
       "      <td>CA</td>\n",
       "      <td>NaN</td>\n",
       "      <td>page_view</td>\n",
       "      <td>NaN</td>\n",
       "    </tr>\n",
       "    <tr>\n",
       "      <th>3</th>\n",
       "      <td>Air cabin crew</td>\n",
       "      <td>NaN</td>\n",
       "      <td>60091.0</td>\n",
       "      <td>download</td>\n",
       "      <td>NaN</td>\n",
       "    </tr>\n",
       "    <tr>\n",
       "      <th>4</th>\n",
       "      <td>Air cabin crew</td>\n",
       "      <td>NaN</td>\n",
       "      <td>60091.0</td>\n",
       "      <td>page_view</td>\n",
       "      <td>NaN</td>\n",
       "    </tr>\n",
       "  </tbody>\n",
       "</table>\n",
       "</div>"
      ],
      "text/plain": [
       "                      job state      zip     action  amount\n",
       "0        Engineer, mining    NY  60091.0  page_view     NaN\n",
       "1  Psychologist, forensic    CA      NaN   purchase  135.23\n",
       "2  Psychologist, forensic    CA      NaN  page_view     NaN\n",
       "3          Air cabin crew   NaN  60091.0   download     NaN\n",
       "4          Air cabin crew   NaN  60091.0  page_view     NaN"
      ]
     },
     "metadata": {},
     "output_type": "display_data"
    }
   ],
   "source": [
    "from urllib.request import urlopen\n",
    "import pandas as pd\n",
    "import woodwork as ww\n",
    "customers_data = urlopen('https://featurelabs-static.s3.amazonaws.com/lead_scoring_ml_apps/customers.csv')\n",
    "interactions_data = urlopen('https://featurelabs-static.s3.amazonaws.com/lead_scoring_ml_apps/interactions.csv')\n",
    "leads_data = urlopen('https://featurelabs-static.s3.amazonaws.com/lead_scoring_ml_apps/previous_leads.csv')\n",
    "customers = pd.read_csv(customers_data)\n",
    "interactions = pd.read_csv(interactions_data)\n",
    "leads = pd.read_csv(leads_data)\n",
    "\n",
    "X = customers.merge(interactions, on='customer_id').merge(leads, on='customer_id')\n",
    "y = X['label']\n",
    "X = X.drop(['customer_id', 'date_registered', 'birthday','phone', 'email',\n",
    "        'owner', 'company', 'id', 'time_x',\n",
    "        'session', 'referrer', 'time_y', 'label', 'country'], axis=1)\n",
    "display(X.head(5))"
   ]
  },
  {
   "cell_type": "markdown",
   "metadata": {},
   "source": [
    "We will convert our data into Woodwork data structures. Doing so enables us to have more control over the types passed to and inferred by AutoMLSearch."
   ]
  },
  {
   "cell_type": "code",
   "execution_count": 4,
   "metadata": {},
   "outputs": [
    {
     "data": {
      "text/html": [
       "<div>\n",
       "<style scoped>\n",
       "    .dataframe tbody tr th:only-of-type {\n",
       "        vertical-align: middle;\n",
       "    }\n",
       "\n",
       "    .dataframe tbody tr th {\n",
       "        vertical-align: top;\n",
       "    }\n",
       "\n",
       "    .dataframe thead th {\n",
       "        text-align: right;\n",
       "    }\n",
       "</style>\n",
       "<table border=\"1\" class=\"dataframe\">\n",
       "  <thead>\n",
       "    <tr style=\"text-align: right;\">\n",
       "      <th></th>\n",
       "      <th>Physical Type</th>\n",
       "      <th>Logical Type</th>\n",
       "      <th>Semantic Tag(s)</th>\n",
       "    </tr>\n",
       "    <tr>\n",
       "      <th>Data Column</th>\n",
       "      <th></th>\n",
       "      <th></th>\n",
       "      <th></th>\n",
       "    </tr>\n",
       "  </thead>\n",
       "  <tbody>\n",
       "    <tr>\n",
       "      <th>job</th>\n",
       "      <td>category</td>\n",
       "      <td>Categorical</td>\n",
       "      <td>{category}</td>\n",
       "    </tr>\n",
       "    <tr>\n",
       "      <th>state</th>\n",
       "      <td>category</td>\n",
       "      <td>Categorical</td>\n",
       "      <td>{category}</td>\n",
       "    </tr>\n",
       "    <tr>\n",
       "      <th>zip</th>\n",
       "      <td>float64</td>\n",
       "      <td>Double</td>\n",
       "      <td>{numeric}</td>\n",
       "    </tr>\n",
       "    <tr>\n",
       "      <th>action</th>\n",
       "      <td>category</td>\n",
       "      <td>Categorical</td>\n",
       "      <td>{category}</td>\n",
       "    </tr>\n",
       "    <tr>\n",
       "      <th>amount</th>\n",
       "      <td>float64</td>\n",
       "      <td>Double</td>\n",
       "      <td>{numeric}</td>\n",
       "    </tr>\n",
       "  </tbody>\n",
       "</table>\n",
       "</div>"
      ],
      "text/plain": [
       "            Physical Type Logical Type Semantic Tag(s)\n",
       "Data Column                                           \n",
       "job              category  Categorical      {category}\n",
       "state            category  Categorical      {category}\n",
       "zip               float64       Double       {numeric}\n",
       "action           category  Categorical      {category}\n",
       "amount            float64       Double       {numeric}"
      ]
     },
     "execution_count": 4,
     "metadata": {},
     "output_type": "execute_result"
    }
   ],
   "source": [
    "X = ww.DataTable(X, semantic_tags={'job': 'category'}, logical_types={'job': 'Categorical'})\n",
    "y = ww.DataColumn(y)\n",
    "X.types"
   ]
  },
  {
   "cell_type": "markdown",
   "metadata": {},
   "source": [
    "## Search for the best pipeline"
   ]
  },
  {
   "cell_type": "markdown",
   "metadata": {},
   "source": [
    "In order to validate the results of the pipeline creation and optimization process, we will save some of our data as a holdout set."
   ]
  },
  {
   "cell_type": "markdown",
   "metadata": {},
   "source": [
    "EvalML natively supports one-hot encoding and imputation so the above `NaN` and categorical values will be taken care of."
   ]
  },
  {
   "cell_type": "code",
   "execution_count": 5,
   "metadata": {},
   "outputs": [
    {
     "name": "stdout",
     "output_type": "stream",
     "text": [
      "            Physical Type Logical Type Semantic Tag(s)\n",
      "Data Column                                           \n",
      "job              category  Categorical      {category}\n",
      "state            category  Categorical      {category}\n",
      "zip               float64       Double       {numeric}\n",
      "action           category  Categorical      {category}\n",
      "amount            float64       Double       {numeric}\n"
     ]
    }
   ],
   "source": [
    "X_train, X_holdout, y_train, y_holdout = evalml.preprocessing.split_data(X, y, test_size=0.2, random_state=0)\n",
    "\n",
    "print(X.types)"
   ]
  },
  {
   "cell_type": "markdown",
   "metadata": {},
   "source": [
    "Because the lead scoring labels are binary, we will use `AutoMLSearch(problem_type='binary')`. When we call `.search()`, the search for the best pipeline will begin. "
   ]
  },
  {
   "cell_type": "code",
   "execution_count": 6,
   "metadata": {},
   "outputs": [
    {
     "name": "stdout",
     "output_type": "stream",
     "text": [
      "{'message': 'The following labels fall below 10% of the target: [True]', 'data_check_name': 'ClassImbalanceDataCheck', 'level': 'warning', 'code': 'CLASS_IMBALANCE_BELOW_THRESHOLD', 'details': {'target_values': [True]}}\n",
      "Generating pipelines to search over...\n",
      "*****************************\n",
      "* Beginning pipeline search *\n",
      "*****************************\n",
      "\n",
      "Optimizing for Lead Scoring. \n",
      "Greater score is better.\n",
      "\n",
      "Searching up to 5 pipelines. \n",
      "Allowed model families: extra_trees, random_forest, decision_tree, linear_model, xgboost, lightgbm, catboost\n",
      "\n"
     ]
    },
    {
     "data": {
      "application/vnd.jupyter.widget-view+json": {
       "model_id": "10dce5dee6ab49b1a28059a6ef6e0bde",
       "version_major": 2,
       "version_minor": 0
      },
      "text/plain": [
       "FigureWidget({\n",
       "    'data': [{'mode': 'lines+markers',\n",
       "              'name': 'Best Score',\n",
       "              'type'\u2026"
      ]
     },
     "metadata": {},
     "output_type": "display_data"
    },
    {
     "name": "stdout",
     "output_type": "stream",
     "text": [
      "Batch 1: (1/5) Mode Baseline Binary Classification P... Elapsed:00:00\n",
      "\tStarting cross validation\n",
      "\tFinished cross validation - mean Lead Scoring: 0.000\n",
      "2/5) Decision Tree Classifier w/ Imputer +... Elapsed:00:01\n",
      "\tStarting cross validation\n",
      "\tFinished cross validation - mean Lead Scoring: 40.075\n",
      "3/5) LightGBM Classifier w/ Imputer + One ... Elapsed:00:02\n",
      "\tStarting cross validation\n",
      "\tFinished cross validation - mean Lead Scoring: 39.155\n",
      "4/5) Extra Trees Classifier w/ Imputer + O... Elapsed:00:06\n",
      "\tStarting cross validation\n",
      "\tFinished cross validation - mean Lead Scoring: 38.373\n",
      "5/5) Elastic Net Classifier w/ Imputer + O... Elapsed:00:09\n",
      "\tStarting cross validation\n",
      "\tFinished cross validation - mean Lead Scoring: 42.140\n",
      "\n",
      "Search finished after 00:10            \n",
      "Best pipeline: Elastic Net Classifier w/ Imputer + One Hot Encoder + Standard Scaler\n",
      "Best pipeline Lead Scoring: 42.140250\n"
     ]
    }
   ],
   "source": [
    "automl = AutoMLSearch(problem_type='binary',\n",
    "                      objective=lead_scoring_objective,\n",
    "                      additional_objectives=['auc'],\n",
    "                      max_iterations=5,\n",
    "                      optimize_thresholds=True)\n",
    "\n",
    "automl.search(X_train, y_train)"
   ]
  },
  {
   "cell_type": "markdown",
   "metadata": {},
   "source": [
    "### View rankings and select pipeline\n",
    "\n",
    "Once the fitting process is done, we can see all of the pipelines that were searched, ranked by their score on the lead scoring objective we defined."
   ]
  },
  {
   "cell_type": "code",
   "execution_count": 7,
   "metadata": {},
   "outputs": [
    {
     "data": {
      "text/html": [
       "<div>\n",
       "<style scoped>\n",
       "    .dataframe tbody tr th:only-of-type {\n",
       "        vertical-align: middle;\n",
       "    }\n",
       "\n",
       "    .dataframe tbody tr th {\n",
       "        vertical-align: top;\n",
       "    }\n",
       "\n",
       "    .dataframe thead th {\n",
       "        text-align: right;\n",
       "    }\n",
       "</style>\n",
       "<table border=\"1\" class=\"dataframe\">\n",
       "  <thead>\n",
       "    <tr style=\"text-align: right;\">\n",
       "      <th></th>\n",
       "      <th>id</th>\n",
       "      <th>pipeline_name</th>\n",
       "      <th>score</th>\n",
       "      <th>validation_score</th>\n",
       "      <th>percent_better_than_baseline</th>\n",
       "      <th>high_variance_cv</th>\n",
       "      <th>parameters</th>\n",
       "    </tr>\n",
       "  </thead>\n",
       "  <tbody>\n",
       "    <tr>\n",
       "      <th>0</th>\n",
       "      <td>4</td>\n",
       "      <td>Elastic Net Classifier w/ Imputer + One Hot En...</td>\n",
       "      <td>42.140250</td>\n",
       "      <td>42.129032</td>\n",
       "      <td>NaN</td>\n",
       "      <td>False</td>\n",
       "      <td>{'Imputer': {'categorical_impute_strategy': 'm...</td>\n",
       "    </tr>\n",
       "    <tr>\n",
       "      <th>1</th>\n",
       "      <td>1</td>\n",
       "      <td>Decision Tree Classifier w/ Imputer + One Hot ...</td>\n",
       "      <td>40.074770</td>\n",
       "      <td>42.077419</td>\n",
       "      <td>NaN</td>\n",
       "      <td>False</td>\n",
       "      <td>{'Imputer': {'categorical_impute_strategy': 'm...</td>\n",
       "    </tr>\n",
       "    <tr>\n",
       "      <th>2</th>\n",
       "      <td>2</td>\n",
       "      <td>LightGBM Classifier w/ Imputer + One Hot Encoder</td>\n",
       "      <td>39.154826</td>\n",
       "      <td>35.367742</td>\n",
       "      <td>NaN</td>\n",
       "      <td>False</td>\n",
       "      <td>{'Imputer': {'categorical_impute_strategy': 'm...</td>\n",
       "    </tr>\n",
       "    <tr>\n",
       "      <th>3</th>\n",
       "      <td>3</td>\n",
       "      <td>Extra Trees Classifier w/ Imputer + One Hot En...</td>\n",
       "      <td>38.372643</td>\n",
       "      <td>32.329032</td>\n",
       "      <td>NaN</td>\n",
       "      <td>False</td>\n",
       "      <td>{'Imputer': {'categorical_impute_strategy': 'm...</td>\n",
       "    </tr>\n",
       "    <tr>\n",
       "      <th>4</th>\n",
       "      <td>0</td>\n",
       "      <td>Mode Baseline Binary Classification Pipeline</td>\n",
       "      <td>0.000000</td>\n",
       "      <td>0.000000</td>\n",
       "      <td>NaN</td>\n",
       "      <td>False</td>\n",
       "      <td>{'Baseline Classifier': {'strategy': 'mode'}}</td>\n",
       "    </tr>\n",
       "  </tbody>\n",
       "</table>\n",
       "</div>"
      ],
      "text/plain": [
       "   id                                      pipeline_name      score  \\\n",
       "0   4  Elastic Net Classifier w/ Imputer + One Hot En...  42.140250   \n",
       "1   1  Decision Tree Classifier w/ Imputer + One Hot ...  40.074770   \n",
       "2   2   LightGBM Classifier w/ Imputer + One Hot Encoder  39.154826   \n",
       "3   3  Extra Trees Classifier w/ Imputer + One Hot En...  38.372643   \n",
       "4   0       Mode Baseline Binary Classification Pipeline   0.000000   \n",
       "\n",
       "   validation_score  percent_better_than_baseline  high_variance_cv  \\\n",
       "0         42.129032                           NaN             False   \n",
       "1         42.077419                           NaN             False   \n",
       "2         35.367742                           NaN             False   \n",
       "3         32.329032                           NaN             False   \n",
       "4          0.000000                           NaN             False   \n",
       "\n",
       "                                          parameters  \n",
       "0  {'Imputer': {'categorical_impute_strategy': 'm...  \n",
       "1  {'Imputer': {'categorical_impute_strategy': 'm...  \n",
       "2  {'Imputer': {'categorical_impute_strategy': 'm...  \n",
       "3  {'Imputer': {'categorical_impute_strategy': 'm...  \n",
       "4      {'Baseline Classifier': {'strategy': 'mode'}}  "
      ]
     },
     "execution_count": 7,
     "metadata": {},
     "output_type": "execute_result"
    }
   ],
   "source": [
    "automl.rankings"
   ]
  },
  {
   "cell_type": "markdown",
   "metadata": {},
   "source": [
    "to select the best pipeline we can run"
   ]
  },
  {
   "cell_type": "code",
   "execution_count": 8,
   "metadata": {},
   "outputs": [],
   "source": [
    "best_pipeline = automl.best_pipeline"
   ]
  },
  {
   "cell_type": "markdown",
   "metadata": {},
   "source": [
    "### Describe pipeline\n",
    "\n",
    "You can get more details about any pipeline, including how it performed on other objective functions by calling `.describe_pipeline()` and specifying the `id` of the pipeline."
   ]
  },
  {
   "cell_type": "code",
   "execution_count": 9,
   "metadata": {},
   "outputs": [
    {
     "name": "stdout",
     "output_type": "stream",
     "text": [
      "*************************************************************************\n",
      "* Elastic Net Classifier w/ Imputer + One Hot Encoder + Standard Scaler *\n",
      "*************************************************************************\n",
      "\n",
      "Problem Type: binary\n",
      "Model Family: Linear\n",
      "\n",
      "Pipeline Steps\n",
      "==============\n",
      "1. Imputer\n",
      "\t * categorical_impute_strategy : most_frequent\n",
      "\t * numeric_impute_strategy : mean\n",
      "\t * categorical_fill_value : None\n",
      "\t * numeric_fill_value : None\n",
      "2. One Hot Encoder\n",
      "\t * top_n : 10\n",
      "\t * features_to_encode : None\n",
      "\t * categories : None\n",
      "\t * drop : None\n",
      "\t * handle_unknown : ignore\n",
      "\t * handle_missing : error\n",
      "3. Standard Scaler\n",
      "4. Elastic Net Classifier\n",
      "\t * alpha : 0.5\n",
      "\t * l1_ratio : 0.5\n",
      "\t * n_jobs : -1\n",
      "\t * max_iter : 1000\n",
      "\t * penalty : elasticnet\n",
      "\t * loss : log\n",
      "\n",
      "Training\n",
      "========\n",
      "Training for binary problems.\n",
      "Objective to optimize binary classification pipeline thresholds for: <evalml.objectives.lead_scoring.LeadScoring object at 0x13f841610>\n",
      "Total training time (including CV): 1.3 seconds\n",
      "\n",
      "Cross Validation\n",
      "----------------\n",
      "             Lead Scoring   AUC # Training # Testing\n",
      "0                  42.129 0.500   2479.000  1550.000\n",
      "1                  42.129 0.500   2479.000  1550.000\n",
      "2                  42.163 0.500   2480.000  1549.000\n",
      "mean               42.140 0.500          -         -\n",
      "std                 0.019 0.000          -         -\n",
      "coef of var         0.000 0.000          -         -\n"
     ]
    }
   ],
   "source": [
    "automl.describe_pipeline(automl.rankings.iloc[0][\"id\"])"
   ]
  },
  {
   "cell_type": "markdown",
   "metadata": {},
   "source": [
    "## Evaluate on hold out\n",
    "\n",
    "Finally, we retrain the best pipeline on all of the training data and evaluate it on the holdout dataset."
   ]
  },
  {
   "cell_type": "code",
   "execution_count": 10,
   "metadata": {},
   "outputs": [
    {
     "data": {
      "text/plain": [
       "GeneratedPipeline(parameters={'Imputer':{'categorical_impute_strategy': 'most_frequent', 'numeric_impute_strategy': 'mean', 'categorical_fill_value': None, 'numeric_fill_value': None}, 'One Hot Encoder':{'top_n': 10, 'features_to_encode': None, 'categories': None, 'drop': None, 'handle_unknown': 'ignore', 'handle_missing': 'error'}, 'Elastic Net Classifier':{'alpha': 0.5, 'l1_ratio': 0.5, 'n_jobs': -1, 'max_iter': 1000, 'penalty': 'elasticnet', 'loss': 'log'},})"
      ]
     },
     "execution_count": 10,
     "metadata": {},
     "output_type": "execute_result"
    }
   ],
   "source": [
    "best_pipeline.fit(X_train, y_train)"
   ]
  },
  {
   "cell_type": "markdown",
   "metadata": {},
   "source": [
    "Now, we can score the pipeline on the holdout data using both the lead scoring score and the AUC."
   ]
  },
  {
   "cell_type": "code",
   "execution_count": 11,
   "metadata": {},
   "outputs": [
    {
     "data": {
      "text/plain": [
       "OrderedDict([('AUC', 0.5), ('Lead Scoring', 0.0)])"
      ]
     },
     "execution_count": 11,
     "metadata": {},
     "output_type": "execute_result"
    }
   ],
   "source": [
    "best_pipeline.score(X_holdout, y_holdout, objectives=[\"auc\", lead_scoring_objective])"
   ]
  },
  {
   "cell_type": "markdown",
   "metadata": {},
   "source": [
    "## Why optimize for a problem-specific objective?\n",
    "\n",
    "To demonstrate the importance of optimizing for the right objective, let's search for another pipeline using AUC, a common machine learning metric. After that, we will score the holdout data using the lead scoring objective to see how the best pipelines compare."
   ]
  },
  {
   "cell_type": "code",
   "execution_count": 12,
   "metadata": {},
   "outputs": [
    {
     "name": "stdout",
     "output_type": "stream",
     "text": [
      "{'message': 'The following labels fall below 10% of the target: [True]', 'data_check_name': 'ClassImbalanceDataCheck', 'level': 'warning', 'code': 'CLASS_IMBALANCE_BELOW_THRESHOLD', 'details': {'target_values': [True]}}\n",
      "Generating pipelines to search over...\n",
      "*****************************\n",
      "* Beginning pipeline search *\n",
      "*****************************\n",
      "\n",
      "Optimizing for AUC. \n",
      "Greater score is better.\n",
      "\n",
      "Searching up to 5 pipelines. \n",
      "Allowed model families: extra_trees, random_forest, decision_tree, linear_model, xgboost, lightgbm, catboost\n",
      "\n"
     ]
    },
    {
     "data": {
      "application/vnd.jupyter.widget-view+json": {
       "model_id": "f83d9162ee71406b99b48ece49a78540",
       "version_major": 2,
       "version_minor": 0
      },
      "text/plain": [
       "FigureWidget({\n",
       "    'data': [{'mode': 'lines+markers',\n",
       "              'name': 'Best Score',\n",
       "              'type'\u2026"
      ]
     },
     "metadata": {},
     "output_type": "display_data"
    },
    {
     "name": "stdout",
     "output_type": "stream",
     "text": [
      "Batch 1: (1/5) Mode Baseline Binary Classification P... Elapsed:00:00\n",
      "\tStarting cross validation\n",
      "\tFinished cross validation - mean AUC: 0.500\n",
      "2/5) Decision Tree Classifier w/ Imputer +... Elapsed:00:00\n",
      "\tStarting cross validation\n",
      "\tFinished cross validation - mean AUC: 0.600\n",
      "3/5) LightGBM Classifier w/ Imputer + One ... Elapsed:00:00\n",
      "\tStarting cross validation\n",
      "\tFinished cross validation - mean AUC: 0.677\n",
      "4/5) Extra Trees Classifier w/ Imputer + O... Elapsed:00:01\n",
      "\tStarting cross validation\n",
      "\tFinished cross validation - mean AUC: 0.707\n",
      "5/5) Elastic Net Classifier w/ Imputer + O... Elapsed:00:02\n",
      "\tStarting cross validation\n",
      "\tFinished cross validation - mean AUC: 0.500\n",
      "\n",
      "Search finished after 00:02            \n",
      "Best pipeline: Extra Trees Classifier w/ Imputer + One Hot Encoder\n",
      "Best pipeline AUC: 0.707141\n"
     ]
    }
   ],
   "source": [
    "automl_auc = evalml.AutoMLSearch(problem_type='binary',\n",
    "                                 objective='auc',\n",
    "                                 additional_objectives=[],\n",
    "                                 max_iterations=5,\n",
    "                                 optimize_thresholds=True)\n",
    "\n",
    "automl_auc.search(X_train, y_train)"
   ]
  },
  {
   "cell_type": "code",
   "execution_count": 13,
   "metadata": {},
   "outputs": [
    {
     "data": {
      "text/html": [
       "<div>\n",
       "<style scoped>\n",
       "    .dataframe tbody tr th:only-of-type {\n",
       "        vertical-align: middle;\n",
       "    }\n",
       "\n",
       "    .dataframe tbody tr th {\n",
       "        vertical-align: top;\n",
       "    }\n",
       "\n",
       "    .dataframe thead th {\n",
       "        text-align: right;\n",
       "    }\n",
       "</style>\n",
       "<table border=\"1\" class=\"dataframe\">\n",
       "  <thead>\n",
       "    <tr style=\"text-align: right;\">\n",
       "      <th></th>\n",
       "      <th>id</th>\n",
       "      <th>pipeline_name</th>\n",
       "      <th>score</th>\n",
       "      <th>validation_score</th>\n",
       "      <th>percent_better_than_baseline</th>\n",
       "      <th>high_variance_cv</th>\n",
       "      <th>parameters</th>\n",
       "    </tr>\n",
       "  </thead>\n",
       "  <tbody>\n",
       "    <tr>\n",
       "      <th>0</th>\n",
       "      <td>3</td>\n",
       "      <td>Extra Trees Classifier w/ Imputer + One Hot En...</td>\n",
       "      <td>0.707141</td>\n",
       "      <td>0.672147</td>\n",
       "      <td>41.428152</td>\n",
       "      <td>False</td>\n",
       "      <td>{'Imputer': {'categorical_impute_strategy': 'm...</td>\n",
       "    </tr>\n",
       "    <tr>\n",
       "      <th>1</th>\n",
       "      <td>2</td>\n",
       "      <td>LightGBM Classifier w/ Imputer + One Hot Encoder</td>\n",
       "      <td>0.676588</td>\n",
       "      <td>0.677781</td>\n",
       "      <td>35.317591</td>\n",
       "      <td>False</td>\n",
       "      <td>{'Imputer': {'categorical_impute_strategy': 'm...</td>\n",
       "    </tr>\n",
       "    <tr>\n",
       "      <th>2</th>\n",
       "      <td>1</td>\n",
       "      <td>Decision Tree Classifier w/ Imputer + One Hot ...</td>\n",
       "      <td>0.600027</td>\n",
       "      <td>0.609065</td>\n",
       "      <td>20.005390</td>\n",
       "      <td>False</td>\n",
       "      <td>{'Imputer': {'categorical_impute_strategy': 'm...</td>\n",
       "    </tr>\n",
       "    <tr>\n",
       "      <th>3</th>\n",
       "      <td>0</td>\n",
       "      <td>Mode Baseline Binary Classification Pipeline</td>\n",
       "      <td>0.500000</td>\n",
       "      <td>0.500000</td>\n",
       "      <td>0.000000</td>\n",
       "      <td>False</td>\n",
       "      <td>{'Baseline Classifier': {'strategy': 'mode'}}</td>\n",
       "    </tr>\n",
       "    <tr>\n",
       "      <th>4</th>\n",
       "      <td>4</td>\n",
       "      <td>Elastic Net Classifier w/ Imputer + One Hot En...</td>\n",
       "      <td>0.500000</td>\n",
       "      <td>0.500000</td>\n",
       "      <td>0.000000</td>\n",
       "      <td>False</td>\n",
       "      <td>{'Imputer': {'categorical_impute_strategy': 'm...</td>\n",
       "    </tr>\n",
       "  </tbody>\n",
       "</table>\n",
       "</div>"
      ],
      "text/plain": [
       "   id                                      pipeline_name     score  \\\n",
       "0   3  Extra Trees Classifier w/ Imputer + One Hot En...  0.707141   \n",
       "1   2   LightGBM Classifier w/ Imputer + One Hot Encoder  0.676588   \n",
       "2   1  Decision Tree Classifier w/ Imputer + One Hot ...  0.600027   \n",
       "3   0       Mode Baseline Binary Classification Pipeline  0.500000   \n",
       "4   4  Elastic Net Classifier w/ Imputer + One Hot En...  0.500000   \n",
       "\n",
       "   validation_score  percent_better_than_baseline  high_variance_cv  \\\n",
       "0          0.672147                     41.428152             False   \n",
       "1          0.677781                     35.317591             False   \n",
       "2          0.609065                     20.005390             False   \n",
       "3          0.500000                      0.000000             False   \n",
       "4          0.500000                      0.000000             False   \n",
       "\n",
       "                                          parameters  \n",
       "0  {'Imputer': {'categorical_impute_strategy': 'm...  \n",
       "1  {'Imputer': {'categorical_impute_strategy': 'm...  \n",
       "2  {'Imputer': {'categorical_impute_strategy': 'm...  \n",
       "3      {'Baseline Classifier': {'strategy': 'mode'}}  \n",
       "4  {'Imputer': {'categorical_impute_strategy': 'm...  "
      ]
     },
     "execution_count": 13,
     "metadata": {},
     "output_type": "execute_result"
    }
   ],
   "source": [
    "automl_auc.rankings"
   ]
  },
  {
   "cell_type": "markdown",
   "metadata": {},
   "source": [
    "Like before, we can look at the rankings and pick the best pipeline."
   ]
  },
  {
   "cell_type": "code",
   "execution_count": 14,
   "metadata": {},
   "outputs": [
    {
     "data": {
      "text/plain": [
       "GeneratedPipeline(parameters={'Imputer':{'categorical_impute_strategy': 'most_frequent', 'numeric_impute_strategy': 'mean', 'categorical_fill_value': None, 'numeric_fill_value': None}, 'One Hot Encoder':{'top_n': 10, 'features_to_encode': None, 'categories': None, 'drop': None, 'handle_unknown': 'ignore', 'handle_missing': 'error'}, 'Extra Trees Classifier':{'n_estimators': 100, 'max_features': 'auto', 'max_depth': 6, 'min_samples_split': 2, 'min_weight_fraction_leaf': 0.0, 'n_jobs': -1},})"
      ]
     },
     "execution_count": 14,
     "metadata": {},
     "output_type": "execute_result"
    }
   ],
   "source": [
    "best_pipeline_auc = automl_auc.best_pipeline\n",
    "\n",
    "# train on the full training data\n",
    "best_pipeline_auc.fit(X_train, y_train)"
   ]
  },
  {
   "cell_type": "code",
   "execution_count": 15,
   "metadata": {},
   "outputs": [
    {
     "data": {
      "text/plain": [
       "OrderedDict([('AUC', 0.6735040797824116),\n",
       "             ('Lead Scoring', -0.017196904557179708)])"
      ]
     },
     "execution_count": 15,
     "metadata": {},
     "output_type": "execute_result"
    }
   ],
   "source": [
    "# get the auc and lead scoring score on holdout data\n",
    "best_pipeline_auc.score(X_holdout, y_holdout,  objectives=[\"auc\", lead_scoring_objective])"
   ]
  },
  {
   "cell_type": "markdown",
   "metadata": {},
   "source": [
    "When we optimize for AUC, we can see that the AUC score from this pipeline is better than the AUC score from the pipeline optimized for lead scoring. However, the revenue per lead gained was only `$7` per lead when optimized for AUC and was `$45` when optimized for lead scoring. As a result, we would gain up to 6x the amount of revenue if we optimized for lead scoring.\n",
    "\n",
    "This happens because optimizing for AUC does not take into account the user-specified true_positive (dollar amount to be gained with a successful lead) and false_positive (dollar amount to be lost with an unsuccessful lead) values. Thus, the best pipelines may produce the highest AUC but may not actually generate the most revenue through lead scoring.\n",
    "\n",
    "This example highlights how performance in the real world can diverge greatly from machine learning metrics."
   ]
  }
 ],
 "metadata": {
  "kernelspec": {
   "display_name": "Python 3",
   "language": "python",
   "name": "python3"
  },
  "language_info": {
   "codemirror_mode": {
    "name": "ipython",
    "version": 3
   },
   "file_extension": ".py",
   "mimetype": "text/x-python",
   "name": "python",
   "nbconvert_exporter": "python",
   "pygments_lexer": "ipython3",
   "version": "3.8.6"
  }
 },
 "nbformat": 4,
 "nbformat_minor": 4
}