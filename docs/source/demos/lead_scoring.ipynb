{
 "cells": [
  {
   "cell_type": "markdown",
   "metadata": {},
   "source": [
    "# Building a Lead Scoring Model with EvalML\n",
    "\n",
    "In this demo, we will build an optimized lead scoring model using EvalML. To optimize the pipeline, we will set up an objective function to maximize the revenue generated with true positives while taking into account the cost of false positives. At the end of this demo, we also show you how introducing the right objective during the training is over 6x better than using a generic machine learning metric like AUC."
   ]
  },
  {
   "cell_type": "code",
   "execution_count": 1,
   "metadata": {},
   "outputs": [],
   "source": [
    "import evalml\n",
    "from evalml.objectives import LeadScoring"
   ]
  },
  {
   "cell_type": "markdown",
   "metadata": {},
   "source": [
    "## Configure LeadScoring \n",
    "\n",
    "To optimize the pipelines toward the specific business needs of this model, you can set your own assumptions for how much value is gained through true positives and the cost associated with false positives. These parameters are\n",
    "\n",
    "* `true_positive` - dollar amount to be gained with a successful lead\n",
    "* `false_positive` - dollar amount to be lost with an unsuccessful lead\n",
    "\n",
    "Using these parameters, EvalML builds a pileline that will maximize the amount of revenue per lead generated."
   ]
  },
  {
   "cell_type": "code",
   "execution_count": 2,
   "metadata": {},
   "outputs": [],
   "source": [
    "lead_scoring_objective = LeadScoring(\n",
    "    true_positives=1000,\n",
    "    false_positives=-10\n",
    ")"
   ]
  },
  {
   "cell_type": "markdown",
   "metadata": {},
   "source": [
    "## Dataset\n",
    "\n",
    "We will be utilizing a dataset detailing a customer's job, country, state, zip, online action, the dollar amount of that action and whether they were a successful lead."
   ]
  },
  {
   "cell_type": "code",
   "execution_count": 3,
   "metadata": {},
   "outputs": [
    {
     "data": {
      "text/html": [
       "<div>\n",
       "<style scoped>\n",
       "    .dataframe tbody tr th:only-of-type {\n",
       "        vertical-align: middle;\n",
       "    }\n",
       "\n",
       "    .dataframe tbody tr th {\n",
       "        vertical-align: top;\n",
       "    }\n",
       "\n",
       "    .dataframe thead th {\n",
       "        text-align: right;\n",
       "    }\n",
       "</style>\n",
       "<table border=\"1\" class=\"dataframe\">\n",
       "  <thead>\n",
       "    <tr style=\"text-align: right;\">\n",
       "      <th></th>\n",
       "      <th>job</th>\n",
       "      <th>country</th>\n",
       "      <th>state</th>\n",
       "      <th>zip</th>\n",
       "      <th>action</th>\n",
       "      <th>amount</th>\n",
       "    </tr>\n",
       "  </thead>\n",
       "  <tbody>\n",
       "    <tr>\n",
       "      <th>0</th>\n",
       "      <td>Engineer, mining</td>\n",
       "      <td>NaN</td>\n",
       "      <td>NY</td>\n",
       "      <td>60091.0</td>\n",
       "      <td>page_view</td>\n",
       "      <td>NaN</td>\n",
       "    </tr>\n",
       "    <tr>\n",
       "      <th>1</th>\n",
       "      <td>Psychologist, forensic</td>\n",
       "      <td>US</td>\n",
       "      <td>CA</td>\n",
       "      <td>NaN</td>\n",
       "      <td>purchase</td>\n",
       "      <td>135.23</td>\n",
       "    </tr>\n",
       "    <tr>\n",
       "      <th>2</th>\n",
       "      <td>Psychologist, forensic</td>\n",
       "      <td>US</td>\n",
       "      <td>CA</td>\n",
       "      <td>NaN</td>\n",
       "      <td>page_view</td>\n",
       "      <td>NaN</td>\n",
       "    </tr>\n",
       "    <tr>\n",
       "      <th>3</th>\n",
       "      <td>Air cabin crew</td>\n",
       "      <td>US</td>\n",
       "      <td>NaN</td>\n",
       "      <td>60091.0</td>\n",
       "      <td>download</td>\n",
       "      <td>NaN</td>\n",
       "    </tr>\n",
       "    <tr>\n",
       "      <th>4</th>\n",
       "      <td>Air cabin crew</td>\n",
       "      <td>US</td>\n",
       "      <td>NaN</td>\n",
       "      <td>60091.0</td>\n",
       "      <td>page_view</td>\n",
       "      <td>NaN</td>\n",
       "    </tr>\n",
       "  </tbody>\n",
       "</table>\n",
       "</div>"
      ],
      "text/plain": [
       "                      job country state      zip     action  amount\n",
       "0        Engineer, mining     NaN    NY  60091.0  page_view     NaN\n",
       "1  Psychologist, forensic      US    CA      NaN   purchase  135.23\n",
       "2  Psychologist, forensic      US    CA      NaN  page_view     NaN\n",
       "3          Air cabin crew      US   NaN  60091.0   download     NaN\n",
       "4          Air cabin crew      US   NaN  60091.0  page_view     NaN"
      ]
     },
     "metadata": {},
     "output_type": "display_data"
    }
   ],
   "source": [
    "import pandas as pd\n",
    "\n",
    "customers = pd.read_csv('s3://featurelabs-static/lead_scoring_ml_apps/customers.csv')\n",
    "interactions = pd.read_csv('s3://featurelabs-static/lead_scoring_ml_apps/interactions.csv')\n",
    "leads = pd.read_csv('s3://featurelabs-static/lead_scoring_ml_apps/previous_leads.csv')\n",
    "\n",
    "X = customers.merge(interactions, on='customer_id').merge(leads, on='customer_id')\n",
    "y = X['label']\n",
    "\n",
    "X = X.drop(['customer_id', 'date_registered', 'birthday','phone', 'email',\n",
    "        'owner', 'company', 'id', 'time_x',\n",
    "        'session', 'referrer', 'time_y', 'label'], axis=1)\n",
    "\n",
    "display(X.head())"
   ]
  },
  {
   "cell_type": "markdown",
   "metadata": {},
   "source": [
    "## Search for best pipeline"
   ]
  },
  {
   "cell_type": "markdown",
   "metadata": {},
   "source": [
    "In order to validate the results of the pipeline creation and optimization process, we will save some of our data as a holdout set"
   ]
  },
  {
   "cell_type": "markdown",
   "metadata": {},
   "source": [
    "EvalML natively supports one-hot encoding and imputation so the above `NaN` and categorical values will be taken care of."
   ]
  },
  {
   "cell_type": "code",
   "execution_count": 4,
   "metadata": {},
   "outputs": [
    {
     "name": "stdout",
     "output_type": "stream",
     "text": [
      "job         object\n",
      "country     object\n",
      "state       object\n",
      "zip        float64\n",
      "action      object\n",
      "amount     float64\n",
      "dtype: object\n"
     ]
    }
   ],
   "source": [
    "X_train, X_holdout, y_train, y_holdout = evalml.preprocessing.split_data(X, y, test_size=0.2, random_state=0)\n",
    "\n",
    "print(X.dtypes)"
   ]
  },
  {
   "cell_type": "markdown",
   "metadata": {},
   "source": [
    "Because the lead scoring labels are binary, we will use `AutoClassifier`. When we call `.fit()`, the search for the best pipeline will begin. "
   ]
  },
  {
   "cell_type": "code",
   "execution_count": 5,
   "metadata": {},
   "outputs": [
    {
     "name": "stdout",
     "output_type": "stream",
     "text": [
      "\u001b[1m*****************************\u001b[0m\n",
      "\u001b[1m* Beginning pipeline search *\u001b[0m\n",
      "\u001b[1m*****************************\u001b[0m\n",
      "\n",
      "Optimizing for Lead Scoring. Greater score is better.\n",
      "\n",
      "Searching up to 5 pipelines. \n",
      "Possible model types: xgboost, random_forest, linear_model\n",
      "\n",
      "✔ XGBoost Classifier w/ One Hot Encod...     0%|          | Elapsed:00:05\n",
      "✔ XGBoost Classifier w/ One Hot Encod...    20%|██        | Elapsed:00:10\n",
      "✔ Random Forest Classifier w/ One Hot...    40%|████      | Elapsed:00:21\n",
      "✔ XGBoost Classifier w/ One Hot Encod...    60%|██████    | Elapsed:00:26\n",
      "✔ Logistic Regression Classifier w/ O...    80%|████████  | Elapsed:00:32\n",
      "✔ Logistic Regression Classifier w/ O...   100%|██████████| Elapsed:00:32\n",
      "\n",
      "✔ Optimization finished\n"
     ]
    }
   ],
   "source": [
    "clf = evalml.AutoClassifier(objective=lead_scoring_objective,\n",
    "                            additional_objectives=['auc'],\n",
    "                            max_pipelines=5)\n",
    "\n",
    "clf.fit(X_train, y_train)"
   ]
  },
  {
   "cell_type": "markdown",
   "metadata": {},
   "source": [
    "### View rankings and select pipeline\n",
    "\n",
    "Once the fitting process is done, we can see all of the pipelines that were searched, ranked by their score on the lead scoring objective we defined"
   ]
  },
  {
   "cell_type": "code",
   "execution_count": 6,
   "metadata": {},
   "outputs": [
    {
     "data": {
      "text/html": [
       "<div>\n",
       "<style scoped>\n",
       "    .dataframe tbody tr th:only-of-type {\n",
       "        vertical-align: middle;\n",
       "    }\n",
       "\n",
       "    .dataframe tbody tr th {\n",
       "        vertical-align: top;\n",
       "    }\n",
       "\n",
       "    .dataframe thead th {\n",
       "        text-align: right;\n",
       "    }\n",
       "</style>\n",
       "<table border=\"1\" class=\"dataframe\">\n",
       "  <thead>\n",
       "    <tr style=\"text-align: right;\">\n",
       "      <th></th>\n",
       "      <th>id</th>\n",
       "      <th>pipeline_name</th>\n",
       "      <th>score</th>\n",
       "      <th>high_variance_cv</th>\n",
       "      <th>parameters</th>\n",
       "    </tr>\n",
       "  </thead>\n",
       "  <tbody>\n",
       "    <tr>\n",
       "      <th>0</th>\n",
       "      <td>4</td>\n",
       "      <td>LogisticRegressionPipeline</td>\n",
       "      <td>42.988250</td>\n",
       "      <td>False</td>\n",
       "      <td>{'penalty': 'l2', 'C': 8.444214828324364, 'imp...</td>\n",
       "    </tr>\n",
       "    <tr>\n",
       "      <th>1</th>\n",
       "      <td>0</td>\n",
       "      <td>XGBoostPipeline</td>\n",
       "      <td>42.140250</td>\n",
       "      <td>False</td>\n",
       "      <td>{'eta': 0.5928446182250184, 'min_child_weight'...</td>\n",
       "    </tr>\n",
       "    <tr>\n",
       "      <th>2</th>\n",
       "      <td>3</td>\n",
       "      <td>XGBoostPipeline</td>\n",
       "      <td>42.140250</td>\n",
       "      <td>False</td>\n",
       "      <td>{'eta': 0.5288949197529046, 'min_child_weight'...</td>\n",
       "    </tr>\n",
       "    <tr>\n",
       "      <th>3</th>\n",
       "      <td>1</td>\n",
       "      <td>XGBoostPipeline</td>\n",
       "      <td>42.101515</td>\n",
       "      <td>False</td>\n",
       "      <td>{'eta': 0.38438170729269994, 'min_child_weight...</td>\n",
       "    </tr>\n",
       "    <tr>\n",
       "      <th>4</th>\n",
       "      <td>2</td>\n",
       "      <td>RFClassificationPipeline</td>\n",
       "      <td>41.146060</td>\n",
       "      <td>False</td>\n",
       "      <td>{'n_estimators': 569, 'max_depth': 22, 'impute...</td>\n",
       "    </tr>\n",
       "  </tbody>\n",
       "</table>\n",
       "</div>"
      ],
      "text/plain": [
       "   id               pipeline_name      score  high_variance_cv  \\\n",
       "0   4  LogisticRegressionPipeline  42.988250             False   \n",
       "1   0             XGBoostPipeline  42.140250             False   \n",
       "2   3             XGBoostPipeline  42.140250             False   \n",
       "3   1             XGBoostPipeline  42.101515             False   \n",
       "4   2    RFClassificationPipeline  41.146060             False   \n",
       "\n",
       "                                          parameters  \n",
       "0  {'penalty': 'l2', 'C': 8.444214828324364, 'imp...  \n",
       "1  {'eta': 0.5928446182250184, 'min_child_weight'...  \n",
       "2  {'eta': 0.5288949197529046, 'min_child_weight'...  \n",
       "3  {'eta': 0.38438170729269994, 'min_child_weight...  \n",
       "4  {'n_estimators': 569, 'max_depth': 22, 'impute...  "
      ]
     },
     "execution_count": 6,
     "metadata": {},
     "output_type": "execute_result"
    }
   ],
   "source": [
    "clf.rankings"
   ]
  },
  {
   "cell_type": "markdown",
   "metadata": {},
   "source": [
    "to select the best pipeline we can run"
   ]
  },
  {
   "cell_type": "code",
   "execution_count": 7,
   "metadata": {},
   "outputs": [],
   "source": [
    "best_pipeline = clf.best_pipeline"
   ]
  },
  {
   "cell_type": "markdown",
   "metadata": {},
   "source": [
    "### Describe pipeline\n",
    "\n",
    "You can get more details about any pipeline. Including how it performed on other objective functions."
   ]
  },
  {
   "cell_type": "code",
   "execution_count": 8,
   "metadata": {},
   "outputs": [
    {
     "name": "stdout",
     "output_type": "stream",
     "text": [
      "\u001b[1m****************************************************************************************\u001b[0m\n",
      "\u001b[1m* Logistic Regression Classifier w/ One Hot Encoder + Simple Imputer + Standard Scaler *\u001b[0m\n",
      "\u001b[1m****************************************************************************************\u001b[0m\n",
      "\n",
      "Problem Types: Binary Classification, Multiclass Classification\n",
      "Model Type: Linear Model\n",
      "Objective to Optimize: Lead Scoring (greater is better)\n",
      "Number of features: 229\n",
      "\n",
      "Pipeline Steps\n",
      "==============\n",
      "1. One Hot Encoder\n",
      "2. Simple Imputer\n",
      "\t * impute_strategy : most_frequent\n",
      "3. Standard Scaler\n",
      "4. Logistic Regression Classifier\n",
      "\t * penalty : l2\n",
      "\t * C : 8.444214828324364\n",
      "\n",
      "Training\n",
      "========\n",
      "Training for Binary Classification problems.\n",
      "Total training time (including CV): 6.9 seconds\n",
      "\n",
      "Cross Validation\n",
      "----------------\n",
      "             Lead Scoring   AUC # Training # Testing\n",
      "0                  39.652 0.909   3099.000  1550.000\n",
      "1                  43.948 0.908   3099.000  1550.000\n",
      "2                  45.365 0.926   3100.000  1549.000\n",
      "mean               42.988 0.915          -         -\n",
      "std                 2.975 0.010          -         -\n",
      "coef of var         0.069 0.011          -         -\n"
     ]
    }
   ],
   "source": [
    "clf.describe_pipeline(clf.rankings.iloc[0][\"id\"])"
   ]
  },
  {
   "cell_type": "markdown",
   "metadata": {},
   "source": [
    "## Evaluate on hold out\n",
    "\n",
    "Finally, we retrain the best pipeline on all of the training data and evaluate on the holdout"
   ]
  },
  {
   "cell_type": "code",
   "execution_count": 9,
   "metadata": {},
   "outputs": [
    {
     "data": {
      "text/plain": [
       "<evalml.pipelines.classification.logistic_regression.LogisticRegressionPipeline at 0x1302b4750>"
      ]
     },
     "execution_count": 9,
     "metadata": {},
     "output_type": "execute_result"
    }
   ],
   "source": [
    "best_pipeline.fit(X_train, y_train)"
   ]
  },
  {
   "cell_type": "markdown",
   "metadata": {},
   "source": [
    "Now, we can score the pipeline on the hold out data using both the lead scoring score and the AUC."
   ]
  },
  {
   "cell_type": "code",
   "execution_count": 10,
   "metadata": {},
   "outputs": [
    {
     "data": {
      "text/plain": [
       "(45.55460017196904,\n",
       " OrderedDict([('AUC', 0.8962224236929586),\n",
       "              ('Lead Scoring', 45.55460017196904)]))"
      ]
     },
     "execution_count": 10,
     "metadata": {},
     "output_type": "execute_result"
    }
   ],
   "source": [
    "best_pipeline.score(X_holdout, y_holdout, other_objectives=[\"auc\", lead_scoring_objective])"
   ]
  },
  {
   "cell_type": "markdown",
   "metadata": {},
   "source": [
    "## Why optimize for a problem-specific objective?\n",
    "\n",
    "To demonstrate the importance of optimizing for the right objective, let's search for another pipeline using AUC, a common machine learning metric. After that, we will score the holdout data using the lead scoring objective to see how the best pipelines compare."
   ]
  },
  {
   "cell_type": "code",
   "execution_count": 11,
   "metadata": {},
   "outputs": [
    {
     "name": "stdout",
     "output_type": "stream",
     "text": [
      "\u001b[1m*****************************\u001b[0m\n",
      "\u001b[1m* Beginning pipeline search *\u001b[0m\n",
      "\u001b[1m*****************************\u001b[0m\n",
      "\n",
      "Optimizing for AUC. Greater score is better.\n",
      "\n",
      "Searching up to 5 pipelines. \n",
      "Possible model types: xgboost, random_forest, linear_model\n",
      "\n",
      "✔ XGBoost Classifier w/ One Hot Encod...     0%|          | Elapsed:00:02\n",
      "✔ XGBoost Classifier w/ One Hot Encod...    20%|██        | Elapsed:00:05\n",
      "✔ Random Forest Classifier w/ One Hot...    40%|████      | Elapsed:00:12\n",
      "✔ XGBoost Classifier w/ One Hot Encod...    60%|██████    | Elapsed:00:15\n",
      "✔ Logistic Regression Classifier w/ O...    80%|████████  | Elapsed:00:21\n",
      "✔ Logistic Regression Classifier w/ O...   100%|██████████| Elapsed:00:21\n",
      "\n",
      "✔ Optimization finished\n"
     ]
    }
   ],
   "source": [
    "clf_auc = evalml.AutoClassifier(objective='auc',\n",
    "                                additional_objectives=[],\n",
    "                                max_pipelines=5)\n",
    "\n",
    "clf_auc.fit(X_train, y_train)"
   ]
  },
  {
   "cell_type": "markdown",
   "metadata": {},
   "source": [
    "like before, we can look at the rankings and pick the best pipeline"
   ]
  },
  {
   "cell_type": "code",
   "execution_count": 12,
   "metadata": {},
   "outputs": [
    {
     "data": {
      "text/html": [
       "<div>\n",
       "<style scoped>\n",
       "    .dataframe tbody tr th:only-of-type {\n",
       "        vertical-align: middle;\n",
       "    }\n",
       "\n",
       "    .dataframe tbody tr th {\n",
       "        vertical-align: top;\n",
       "    }\n",
       "\n",
       "    .dataframe thead th {\n",
       "        text-align: right;\n",
       "    }\n",
       "</style>\n",
       "<table border=\"1\" class=\"dataframe\">\n",
       "  <thead>\n",
       "    <tr style=\"text-align: right;\">\n",
       "      <th></th>\n",
       "      <th>id</th>\n",
       "      <th>pipeline_name</th>\n",
       "      <th>score</th>\n",
       "      <th>high_variance_cv</th>\n",
       "      <th>parameters</th>\n",
       "    </tr>\n",
       "  </thead>\n",
       "  <tbody>\n",
       "    <tr>\n",
       "      <th>0</th>\n",
       "      <td>4</td>\n",
       "      <td>LogisticRegressionPipeline</td>\n",
       "      <td>0.920612</td>\n",
       "      <td>False</td>\n",
       "      <td>{'penalty': 'l2', 'C': 8.444214828324364, 'imp...</td>\n",
       "    </tr>\n",
       "    <tr>\n",
       "      <th>1</th>\n",
       "      <td>2</td>\n",
       "      <td>RFClassificationPipeline</td>\n",
       "      <td>0.548868</td>\n",
       "      <td>False</td>\n",
       "      <td>{'n_estimators': 569, 'max_depth': 22, 'impute...</td>\n",
       "    </tr>\n",
       "    <tr>\n",
       "      <th>2</th>\n",
       "      <td>1</td>\n",
       "      <td>XGBoostPipeline</td>\n",
       "      <td>0.545493</td>\n",
       "      <td>False</td>\n",
       "      <td>{'eta': 0.38438170729269994, 'min_child_weight...</td>\n",
       "    </tr>\n",
       "    <tr>\n",
       "      <th>3</th>\n",
       "      <td>0</td>\n",
       "      <td>XGBoostPipeline</td>\n",
       "      <td>0.515050</td>\n",
       "      <td>False</td>\n",
       "      <td>{'eta': 0.5928446182250184, 'min_child_weight'...</td>\n",
       "    </tr>\n",
       "    <tr>\n",
       "      <th>4</th>\n",
       "      <td>3</td>\n",
       "      <td>XGBoostPipeline</td>\n",
       "      <td>0.500000</td>\n",
       "      <td>False</td>\n",
       "      <td>{'eta': 0.5288949197529046, 'min_child_weight'...</td>\n",
       "    </tr>\n",
       "  </tbody>\n",
       "</table>\n",
       "</div>"
      ],
      "text/plain": [
       "   id               pipeline_name     score  high_variance_cv  \\\n",
       "0   4  LogisticRegressionPipeline  0.920612             False   \n",
       "1   2    RFClassificationPipeline  0.548868             False   \n",
       "2   1             XGBoostPipeline  0.545493             False   \n",
       "3   0             XGBoostPipeline  0.515050             False   \n",
       "4   3             XGBoostPipeline  0.500000             False   \n",
       "\n",
       "                                          parameters  \n",
       "0  {'penalty': 'l2', 'C': 8.444214828324364, 'imp...  \n",
       "1  {'n_estimators': 569, 'max_depth': 22, 'impute...  \n",
       "2  {'eta': 0.38438170729269994, 'min_child_weight...  \n",
       "3  {'eta': 0.5928446182250184, 'min_child_weight'...  \n",
       "4  {'eta': 0.5288949197529046, 'min_child_weight'...  "
      ]
     },
     "execution_count": 12,
     "metadata": {},
     "output_type": "execute_result"
    }
   ],
   "source": [
    "clf_auc.rankings"
   ]
  },
  {
   "cell_type": "code",
   "execution_count": 13,
   "metadata": {},
   "outputs": [
    {
     "data": {
      "text/plain": [
       "<evalml.pipelines.classification.logistic_regression.LogisticRegressionPipeline at 0x130358050>"
      ]
     },
     "execution_count": 13,
     "metadata": {},
     "output_type": "execute_result"
    }
   ],
   "source": [
    "best_pipeline_auc = clf_auc.best_pipeline\n",
    "\n",
    "# train on the full training data\n",
    "best_pipeline_auc.fit(X_train, y_train)"
   ]
  },
  {
   "cell_type": "code",
   "execution_count": 14,
   "metadata": {},
   "outputs": [
    {
     "data": {
      "text/plain": [
       "(0.9272136597159263,\n",
       " OrderedDict([('AUC', 0.9272136597159263),\n",
       "              ('Lead Scoring', 7.67841788478074)]))"
      ]
     },
     "execution_count": 14,
     "metadata": {},
     "output_type": "execute_result"
    }
   ],
   "source": [
    "# get the fraud score on holdout data\n",
    "best_pipeline_auc.score(X_holdout, y_holdout,  other_objectives=[\"auc\", lead_scoring_objective])"
   ]
  },
  {
   "cell_type": "markdown",
   "metadata": {},
   "source": [
    "When we optimize for AUC, we can see that the AUC score from this pipeline is better than the AUC score from the pipeline optimized for lead scoring. However, the revenue per lead gained was only `$7` per lead when optimized for AUC and was `$45` when optimized for lead scoring. As a result, we would gain up to 6x the amount of revenue if we optimized for lead scoring.\n",
    "\n",
    "This happens because optimizing for AUC does not take into account the user-specified true_positive (dollar amount to be gained with a successful lead) and false_positive (dollar amount to be lost with an unsuccessful lead) values. Thus, the best pipelines may produce the highest AUC but may not actually generate the most revenue through lead scoring.\n",
    "\n",
    "This example highlights how performance in the real world can diverge greatly from machine learning metrics."
   ]
  }
 ],
 "metadata": {
  "kernelspec": {
   "display_name": "Python 3",
   "language": "python",
   "name": "python3"
  },
  "language_info": {
   "codemirror_mode": {
    "name": "ipython",
    "version": 3
   },
   "file_extension": ".py",
   "mimetype": "text/x-python",
   "name": "python",
   "nbconvert_exporter": "python",
   "pygments_lexer": "ipython3",
   "version": "3.7.4"
  }
 },
 "nbformat": 4,
 "nbformat_minor": 4
}
