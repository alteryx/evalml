{
 "cells": [
  {
   "cell_type": "markdown",
   "metadata": {},
   "source": [
    "# Regression Example"
   ]
  },
  {
   "cell_type": "code",
   "execution_count": 1,
   "metadata": {},
   "outputs": [
    {
     "name": "stdout",
     "output_type": "stream",
     "text": [
      "\u001b[1m*****************************\u001b[0m\n",
      "\u001b[1m* Beginning pipeline search *\u001b[0m\n",
      "\u001b[1m*****************************\u001b[0m\n",
      "\n",
      "Optimizing for R2. Greater score is better.\n",
      "\n",
      "Searching up to 5 pipelines. No time limit is set. Set one using max_time parameter.\n",
      "\n",
      "Possible model types: random_forest\n",
      "\n",
      "✔ Random Forest w/ imputation:               0%|          | Elapsed:00:05\n",
      "✔ Random Forest w/ imputation:              20%|██        | Elapsed:00:10\n",
      "✔ Random Forest w/ imputation:              40%|████      | Elapsed:00:16\n",
      "✔ Random Forest w/ imputation:              60%|██████    | Elapsed:00:22\n",
      "✔ Random Forest w/ imputation:              80%|████████  | Elapsed:00:30\n",
      "✔ Random Forest w/ imputation:             100%|██████████| Elapsed:00:30\n",
      "\n",
      "✔ Optimization finished\n"
     ]
    }
   ],
   "source": [
    "import evalml\n",
    "from evalml.demos import load_diabetes\n",
    "from evalml.pipelines import PipelineBase, get_pipelines\n",
    "\n",
    "\n",
    "X, y = evalml.demos.load_diabetes()\n",
    "\n",
    "clf = evalml.AutoRegressor(objective=\"R2\", max_pipelines=5)\n",
    "\n",
    "clf.fit(X, y)"
   ]
  },
  {
   "cell_type": "code",
   "execution_count": 2,
   "metadata": {},
   "outputs": [
    {
     "data": {
      "text/html": [
       "<div>\n",
       "<style scoped>\n",
       "    .dataframe tbody tr th:only-of-type {\n",
       "        vertical-align: middle;\n",
       "    }\n",
       "\n",
       "    .dataframe tbody tr th {\n",
       "        vertical-align: top;\n",
       "    }\n",
       "\n",
       "    .dataframe thead th {\n",
       "        text-align: right;\n",
       "    }\n",
       "</style>\n",
       "<table border=\"1\" class=\"dataframe\">\n",
       "  <thead>\n",
       "    <tr style=\"text-align: right;\">\n",
       "      <th></th>\n",
       "      <th>id</th>\n",
       "      <th>pipeline_name</th>\n",
       "      <th>score</th>\n",
       "      <th>high_variance_cv</th>\n",
       "      <th>parameters</th>\n",
       "    </tr>\n",
       "  </thead>\n",
       "  <tbody>\n",
       "    <tr>\n",
       "      <td>0</td>\n",
       "      <td>0</td>\n",
       "      <td>RFRegressionPipeline</td>\n",
       "      <td>0.422322</td>\n",
       "      <td>False</td>\n",
       "      <td>{'n_estimators': 569, 'max_depth': 22, 'impute...</td>\n",
       "    </tr>\n",
       "    <tr>\n",
       "      <td>1</td>\n",
       "      <td>4</td>\n",
       "      <td>RFRegressionPipeline</td>\n",
       "      <td>0.417416</td>\n",
       "      <td>False</td>\n",
       "      <td>{'n_estimators': 859, 'max_depth': 6, 'impute_...</td>\n",
       "    </tr>\n",
       "    <tr>\n",
       "      <td>2</td>\n",
       "      <td>3</td>\n",
       "      <td>RFRegressionPipeline</td>\n",
       "      <td>0.391463</td>\n",
       "      <td>False</td>\n",
       "      <td>{'n_estimators': 715, 'max_depth': 7, 'impute_...</td>\n",
       "    </tr>\n",
       "    <tr>\n",
       "      <td>3</td>\n",
       "      <td>2</td>\n",
       "      <td>RFRegressionPipeline</td>\n",
       "      <td>0.383134</td>\n",
       "      <td>False</td>\n",
       "      <td>{'n_estimators': 609, 'max_depth': 7, 'impute_...</td>\n",
       "    </tr>\n",
       "    <tr>\n",
       "      <td>4</td>\n",
       "      <td>1</td>\n",
       "      <td>RFRegressionPipeline</td>\n",
       "      <td>0.381204</td>\n",
       "      <td>False</td>\n",
       "      <td>{'n_estimators': 369, 'max_depth': 10, 'impute...</td>\n",
       "    </tr>\n",
       "  </tbody>\n",
       "</table>\n",
       "</div>"
      ],
      "text/plain": [
       "   id         pipeline_name     score  high_variance_cv  \\\n",
       "0   0  RFRegressionPipeline  0.422322             False   \n",
       "1   4  RFRegressionPipeline  0.417416             False   \n",
       "2   3  RFRegressionPipeline  0.391463             False   \n",
       "3   2  RFRegressionPipeline  0.383134             False   \n",
       "4   1  RFRegressionPipeline  0.381204             False   \n",
       "\n",
       "                                          parameters  \n",
       "0  {'n_estimators': 569, 'max_depth': 22, 'impute...  \n",
       "1  {'n_estimators': 859, 'max_depth': 6, 'impute_...  \n",
       "2  {'n_estimators': 715, 'max_depth': 7, 'impute_...  \n",
       "3  {'n_estimators': 609, 'max_depth': 7, 'impute_...  \n",
       "4  {'n_estimators': 369, 'max_depth': 10, 'impute...  "
      ]
     },
     "execution_count": 2,
     "metadata": {},
     "output_type": "execute_result"
    }
   ],
   "source": [
    "clf.rankings"
   ]
  },
  {
   "cell_type": "code",
   "execution_count": 3,
   "metadata": {},
   "outputs": [
    {
     "data": {
      "text/plain": [
       "<evalml.pipelines.regression.random_forest.RFRegressionPipeline at 0x129924690>"
      ]
     },
     "execution_count": 3,
     "metadata": {},
     "output_type": "execute_result"
    }
   ],
   "source": [
    "clf.best_pipeline"
   ]
  },
  {
   "cell_type": "code",
   "execution_count": 4,
   "metadata": {},
   "outputs": [
    {
     "data": {
      "text/plain": [
       "<evalml.pipelines.regression.random_forest.RFRegressionPipeline at 0x129924690>"
      ]
     },
     "execution_count": 4,
     "metadata": {},
     "output_type": "execute_result"
    }
   ],
   "source": [
    "clf.get_pipeline(0)"
   ]
  },
  {
   "cell_type": "code",
   "execution_count": 5,
   "metadata": {},
   "outputs": [
    {
     "name": "stdout",
     "output_type": "stream",
     "text": [
      "\u001b[1m************************\u001b[0m\n",
      "\u001b[1m* Pipeline Description *\u001b[0m\n",
      "\u001b[1m************************\u001b[0m\n",
      "\n",
      "Pipeline Name: Random Forest w/ imputation\n",
      "Model type: ModelTypes.RANDOM_FOREST\n",
      "Objective: R2 (greater is better)\n",
      "Total training time (including CV): 5.8 seconds\n",
      "\n",
      "Parameters\n",
      "==========\n",
      "• n_estimators: 569\n",
      "• max_depth: 22\n",
      "• impute_strategy: most_frequent\n",
      "• percent_features: 0.8593661614465293\n",
      "\n",
      "Cross Validation\n",
      "=================\n",
      "               R2 # Training # Testing\n",
      "0           0.427    294.000   148.000\n",
      "1           0.450    295.000   147.000\n",
      "2           0.390    295.000   147.000\n",
      "mean        0.422          -         -\n",
      "std         0.031          -         -\n",
      "coef of var 0.072          -         -\n"
     ]
    }
   ],
   "source": [
    "clf.describe_pipeline(0)"
   ]
  }
 ],
 "metadata": {
  "kernelspec": {
   "display_name": "Python 3",
   "language": "python",
   "name": "python3"
  },
  "language_info": {
   "codemirror_mode": {
    "name": "ipython",
    "version": 3
   },
   "file_extension": ".py",
   "mimetype": "text/x-python",
   "name": "python",
   "nbconvert_exporter": "python",
   "pygments_lexer": "ipython3",
   "version": "3.7.4"
  }
 },
 "nbformat": 4,
 "nbformat_minor": 4
}
