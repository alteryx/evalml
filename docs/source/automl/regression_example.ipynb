{
 "cells": [
  {
   "cell_type": "markdown",
   "metadata": {},
   "source": [
    "# Regression Example"
   ]
  },
  {
   "cell_type": "code",
   "execution_count": 1,
   "metadata": {},
   "outputs": [
    {
     "name": "stdout",
     "output_type": "stream",
     "text": [
      "\u001b[1m*****************************\u001b[0m\n",
      "\u001b[1m* Beginning pipeline search *\u001b[0m\n",
      "\u001b[1m*****************************\u001b[0m\n",
      "\n",
      "Optimizing for R2. Greater score is better.\n",
      "\n",
      "Searching up to 5 pipelines. No time limit is set. Set one using max_time parameter.\n",
      "\n",
      "Possible model types: random_forest\n",
      "\n",
      "Testing Random Forest w/ imputation: 100%|██████████| 5/5 [00:49<00:00,  9.99s/it]\n",
      "\n",
      "✔ Optimization finished\n"
     ]
    }
   ],
   "source": [
    "import evalml\n",
    "from evalml.demos import load_diabetes\n",
    "from evalml.pipelines import PipelineBase, get_pipelines\n",
    "\n",
    "\n",
    "X, y = evalml.demos.load_diabetes()\n",
    "\n",
    "clf = evalml.AutoRegressor(objective=\"R2\")\n",
    "\n",
    "clf.fit(X, y)"
   ]
  },
  {
   "cell_type": "code",
   "execution_count": 2,
   "metadata": {},
   "outputs": [
    {
     "data": {
      "text/html": [
       "<div>\n",
       "<style scoped>\n",
       "    .dataframe tbody tr th:only-of-type {\n",
       "        vertical-align: middle;\n",
       "    }\n",
       "\n",
       "    .dataframe tbody tr th {\n",
       "        vertical-align: top;\n",
       "    }\n",
       "\n",
       "    .dataframe thead th {\n",
       "        text-align: right;\n",
       "    }\n",
       "</style>\n",
       "<table border=\"1\" class=\"dataframe\">\n",
       "  <thead>\n",
       "    <tr style=\"text-align: right;\">\n",
       "      <th></th>\n",
       "      <th>id</th>\n",
       "      <th>pipeline_name</th>\n",
       "      <th>score</th>\n",
       "      <th>high_variance_cv</th>\n",
       "      <th>parameters</th>\n",
       "    </tr>\n",
       "  </thead>\n",
       "  <tbody>\n",
       "    <tr>\n",
       "      <th>0</th>\n",
       "      <td>1</td>\n",
       "      <td>RFRegressionPipeline</td>\n",
       "      <td>-0.055946</td>\n",
       "      <td>False</td>\n",
       "      <td>{'n_estimators': 369, 'max_depth': 10, 'impute...</td>\n",
       "    </tr>\n",
       "    <tr>\n",
       "      <th>1</th>\n",
       "      <td>2</td>\n",
       "      <td>RFRegressionPipeline</td>\n",
       "      <td>-0.081796</td>\n",
       "      <td>False</td>\n",
       "      <td>{'n_estimators': 609, 'max_depth': 71, 'impute...</td>\n",
       "    </tr>\n",
       "    <tr>\n",
       "      <th>2</th>\n",
       "      <td>3</td>\n",
       "      <td>RFRegressionPipeline</td>\n",
       "      <td>-0.082464</td>\n",
       "      <td>False</td>\n",
       "      <td>{'n_estimators': 715, 'max_depth': 487, 'imput...</td>\n",
       "    </tr>\n",
       "    <tr>\n",
       "      <th>3</th>\n",
       "      <td>0</td>\n",
       "      <td>RFRegressionPipeline</td>\n",
       "      <td>-0.082491</td>\n",
       "      <td>False</td>\n",
       "      <td>{'n_estimators': 569, 'max_depth': 630, 'imput...</td>\n",
       "    </tr>\n",
       "    <tr>\n",
       "      <th>4</th>\n",
       "      <td>4</td>\n",
       "      <td>RFRegressionPipeline</td>\n",
       "      <td>-0.082690</td>\n",
       "      <td>False</td>\n",
       "      <td>{'n_estimators': 859, 'max_depth': 678, 'imput...</td>\n",
       "    </tr>\n",
       "  </tbody>\n",
       "</table>\n",
       "</div>"
      ],
      "text/plain": [
       "   id         pipeline_name     score  high_variance_cv  \\\n",
       "0   1  RFRegressionPipeline -0.055946             False   \n",
       "1   2  RFRegressionPipeline -0.081796             False   \n",
       "2   3  RFRegressionPipeline -0.082464             False   \n",
       "3   0  RFRegressionPipeline -0.082491             False   \n",
       "4   4  RFRegressionPipeline -0.082690             False   \n",
       "\n",
       "                                          parameters  \n",
       "0  {'n_estimators': 369, 'max_depth': 10, 'impute...  \n",
       "1  {'n_estimators': 609, 'max_depth': 71, 'impute...  \n",
       "2  {'n_estimators': 715, 'max_depth': 487, 'imput...  \n",
       "3  {'n_estimators': 569, 'max_depth': 630, 'imput...  \n",
       "4  {'n_estimators': 859, 'max_depth': 678, 'imput...  "
      ]
     },
     "execution_count": 2,
     "metadata": {},
     "output_type": "execute_result"
    }
   ],
   "source": [
    "clf.rankings"
   ]
  },
  {
   "cell_type": "code",
   "execution_count": 3,
   "metadata": {},
   "outputs": [
    {
     "data": {
      "text/plain": [
       "<evalml.pipelines.regression.random_forest.RFRegressionPipeline at 0x11e744f28>"
      ]
     },
     "execution_count": 3,
     "metadata": {},
     "output_type": "execute_result"
    }
   ],
   "source": [
    "clf.best_pipeline"
   ]
  },
  {
   "cell_type": "code",
   "execution_count": 4,
   "metadata": {},
   "outputs": [
    {
     "data": {
      "text/plain": [
       "<evalml.pipelines.regression.random_forest.RFRegressionPipeline at 0x11e69b828>"
      ]
     },
     "execution_count": 4,
     "metadata": {},
     "output_type": "execute_result"
    }
   ],
   "source": [
    "clf.get_pipeline(0)"
   ]
  },
  {
   "cell_type": "code",
   "execution_count": 5,
   "metadata": {},
   "outputs": [
    {
     "name": "stdout",
     "output_type": "stream",
     "text": [
      "\u001b[1m************************\u001b[0m\n",
      "\u001b[1m* Pipeline Description *\u001b[0m\n",
      "\u001b[1m************************\u001b[0m\n",
      "\n",
      "Pipeline Name: Random Forest w/ imputation\n",
      "Model type: random_forest\n",
      "Objective: R2 (greater is better)\n",
      "Total training time (including CV): 8.1 seconds\n",
      "\n",
      "Parameters\n",
      "==========\n",
      "• n_estimators: 569\n",
      "• max_depth: 630\n",
      "• impute_strategy: most_frequent\n",
      "• percent_features: 0.8593661614465293\n",
      "\n",
      "Cross Validation\n",
      "=================\n",
      "         R2\n",
      "0     0.185\n",
      "1     0.050\n",
      "2    -0.082\n",
      "mean  0.051\n",
      "std   0.134\n"
     ]
    }
   ],
   "source": [
    "clf.describe_pipeline(0)"
   ]
  }
 ],
 "metadata": {
  "kernelspec": {
   "display_name": "Python 3",
   "language": "python",
   "name": "python3"
  },
  "language_info": {
   "codemirror_mode": {
    "name": "ipython",
    "version": 3
   },
   "file_extension": ".py",
   "mimetype": "text/x-python",
   "name": "python",
   "nbconvert_exporter": "python",
   "pygments_lexer": "ipython3",
   "version": "3.7.4"
  }
 },
 "nbformat": 4,
 "nbformat_minor": 4
}
