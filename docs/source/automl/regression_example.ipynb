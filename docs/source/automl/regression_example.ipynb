{
 "cells": [
  {
   "cell_type": "markdown",
   "metadata": {},
   "source": [
    "# Regression Example"
   ]
  },
  {
   "cell_type": "code",
   "execution_count": 1,
   "metadata": {},
   "outputs": [
    {
     "name": "stdout",
     "output_type": "stream",
     "text": [
      "\u001b[1m*****************************\u001b[0m\n",
      "\u001b[1m* Beginning pipeline search *\u001b[0m\n",
      "\u001b[1m*****************************\u001b[0m\n",
      "\n",
      "Optimizing for R2. Greater score is better.\n",
      "\n",
      "Searching up to 5 pipelines. \n",
      "Possible model types: linear_model, random_forest\n",
      "\n",
      "✔ Random Forest Regressor w/ One Hot ...     0%|          | Elapsed:00:05\n",
      "✔ Random Forest Regressor w/ One Hot ...    20%|██        | Elapsed:00:09\n",
      "✔ Linear Regressor w/ One Hot Encoder...    40%|████      | Elapsed:00:09\n",
      "✔ Random Forest Regressor w/ One Hot ...    40%|████      | Elapsed:00:15\n",
      "✔ Random Forest Regressor w/ One Hot ...    80%|████████  | Elapsed:00:21\n",
      "✔ Random Forest Regressor w/ One Hot ...   100%|██████████| Elapsed:00:21\n",
      "\n",
      "✔ Optimization finished\n"
     ]
    }
   ],
   "source": [
    "import evalml\n",
    "from evalml.demos import load_diabetes\n",
    "from evalml.pipelines import PipelineBase, get_pipelines\n",
    "\n",
    "\n",
    "X, y = evalml.demos.load_diabetes()\n",
    "\n",
    "clf = evalml.AutoRegressor(objective=\"R2\", max_pipelines=5)\n",
    "\n",
    "clf.fit(X, y)"
   ]
  },
  {
   "cell_type": "code",
   "execution_count": 2,
   "metadata": {},
   "outputs": [
    {
     "data": {
      "text/html": [
       "<div>\n",
       "<style scoped>\n",
       "    .dataframe tbody tr th:only-of-type {\n",
       "        vertical-align: middle;\n",
       "    }\n",
       "\n",
       "    .dataframe tbody tr th {\n",
       "        vertical-align: top;\n",
       "    }\n",
       "\n",
       "    .dataframe thead th {\n",
       "        text-align: right;\n",
       "    }\n",
       "</style>\n",
       "<table border=\"1\" class=\"dataframe\">\n",
       "  <thead>\n",
       "    <tr style=\"text-align: right;\">\n",
       "      <th></th>\n",
       "      <th>id</th>\n",
       "      <th>pipeline_name</th>\n",
       "      <th>score</th>\n",
       "      <th>high_variance_cv</th>\n",
       "      <th>parameters</th>\n",
       "    </tr>\n",
       "  </thead>\n",
       "  <tbody>\n",
       "    <tr>\n",
       "      <td>0</td>\n",
       "      <td>2</td>\n",
       "      <td>LinearRegressionPipeline</td>\n",
       "      <td>0.488703</td>\n",
       "      <td>False</td>\n",
       "      <td>{'impute_strategy': 'mean', 'normalize': True,...</td>\n",
       "    </tr>\n",
       "    <tr>\n",
       "      <td>1</td>\n",
       "      <td>0</td>\n",
       "      <td>RFRegressionPipeline</td>\n",
       "      <td>0.422322</td>\n",
       "      <td>False</td>\n",
       "      <td>{'n_estimators': 569, 'max_depth': 22, 'impute...</td>\n",
       "    </tr>\n",
       "    <tr>\n",
       "      <td>2</td>\n",
       "      <td>4</td>\n",
       "      <td>RFRegressionPipeline</td>\n",
       "      <td>0.391463</td>\n",
       "      <td>False</td>\n",
       "      <td>{'n_estimators': 715, 'max_depth': 7, 'impute_...</td>\n",
       "    </tr>\n",
       "    <tr>\n",
       "      <td>3</td>\n",
       "      <td>3</td>\n",
       "      <td>RFRegressionPipeline</td>\n",
       "      <td>0.383134</td>\n",
       "      <td>False</td>\n",
       "      <td>{'n_estimators': 609, 'max_depth': 7, 'impute_...</td>\n",
       "    </tr>\n",
       "    <tr>\n",
       "      <td>4</td>\n",
       "      <td>1</td>\n",
       "      <td>RFRegressionPipeline</td>\n",
       "      <td>0.381204</td>\n",
       "      <td>False</td>\n",
       "      <td>{'n_estimators': 369, 'max_depth': 10, 'impute...</td>\n",
       "    </tr>\n",
       "  </tbody>\n",
       "</table>\n",
       "</div>"
      ],
      "text/plain": [
       "   id             pipeline_name     score  high_variance_cv  \\\n",
       "0   2  LinearRegressionPipeline  0.488703             False   \n",
       "1   0      RFRegressionPipeline  0.422322             False   \n",
       "2   4      RFRegressionPipeline  0.391463             False   \n",
       "3   3      RFRegressionPipeline  0.383134             False   \n",
       "4   1      RFRegressionPipeline  0.381204             False   \n",
       "\n",
       "                                          parameters  \n",
       "0  {'impute_strategy': 'mean', 'normalize': True,...  \n",
       "1  {'n_estimators': 569, 'max_depth': 22, 'impute...  \n",
       "2  {'n_estimators': 715, 'max_depth': 7, 'impute_...  \n",
       "3  {'n_estimators': 609, 'max_depth': 7, 'impute_...  \n",
       "4  {'n_estimators': 369, 'max_depth': 10, 'impute...  "
      ]
     },
     "execution_count": 2,
     "metadata": {},
     "output_type": "execute_result"
    }
   ],
   "source": [
    "clf.rankings"
   ]
  },
  {
   "cell_type": "code",
   "execution_count": 3,
   "metadata": {},
   "outputs": [
    {
     "data": {
      "text/plain": [
       "<evalml.pipelines.regression.linear_regression.LinearRegressionPipeline at 0x1308f16d0>"
      ]
     },
     "execution_count": 3,
     "metadata": {},
     "output_type": "execute_result"
    }
   ],
   "source": [
    "clf.best_pipeline"
   ]
  },
  {
   "cell_type": "code",
   "execution_count": 4,
   "metadata": {},
   "outputs": [
    {
     "data": {
      "text/plain": [
       "<evalml.pipelines.regression.random_forest.RFRegressionPipeline at 0x12d737610>"
      ]
     },
     "execution_count": 4,
     "metadata": {},
     "output_type": "execute_result"
    }
   ],
   "source": [
    "clf.get_pipeline(0)"
   ]
  },
  {
   "cell_type": "code",
   "execution_count": 5,
   "metadata": {},
   "outputs": [
    {
     "name": "stdout",
     "output_type": "stream",
     "text": [
      "\u001b[1m************************************************************************************************\u001b[0m\n",
      "\u001b[1m* Random Forest Regressor w/ One Hot Encoder + Simple Imputer + RF Regressor Select From Model *\u001b[0m\n",
      "\u001b[1m************************************************************************************************\u001b[0m\n",
      "\n",
      "Problem Types: Regression\n",
      "Model Type: Random Forest\n",
      "Objective to Optimize: R2 (greater is better)\n",
      "Number of features: 8\n",
      "\n",
      "Pipeline Steps\n",
      "==============\n",
      "1. One Hot Encoder\n",
      "2. Simple Imputer\n",
      "\t * impute_strategy : most_frequent\n",
      "3. RF Regressor Select From Model\n",
      "\t * percent_features : 0.8593661614465293\n",
      "\t * threshold : -inf\n",
      "4. Random Forest Regressor\n",
      "\t * n_estimators : 569\n",
      "\t * max_depth : 22\n",
      "\n",
      "Training\n",
      "========\n",
      "Training for Regression problems.\n",
      "Total training time (including CV): 5.6 seconds\n",
      "\n",
      "Cross Validation\n",
      "----------------\n",
      "               R2    MAE      MSE  MSLE  MedianAE  MaxError  ExpVariance # Training # Testing\n",
      "0           0.427 46.033 3276.018 0.194    39.699   161.858        0.428    294.000   148.000\n",
      "1           0.450 48.953 3487.566 0.193    44.344   160.513        0.451    295.000   147.000\n",
      "2           0.390 47.401 3477.117 0.193    41.297   171.420        0.390    295.000   147.000\n",
      "mean        0.422 47.462 3413.567 0.193    41.780   164.597        0.423          -         -\n",
      "std         0.031  1.461  119.235 0.000     2.360     5.947        0.031          -         -\n",
      "coef of var 0.072  0.031    0.035 0.002     0.056     0.036        0.073          -         -\n"
     ]
    }
   ],
   "source": [
    "clf.describe_pipeline(0)"
   ]
  }
 ],
 "metadata": {
  "kernelspec": {
   "display_name": "Python 3",
   "language": "python",
   "name": "python3"
  },
  "language_info": {
   "codemirror_mode": {
    "name": "ipython",
    "version": 3
   },
   "file_extension": ".py",
   "mimetype": "text/x-python",
   "name": "python",
   "nbconvert_exporter": "python",
   "pygments_lexer": "ipython3",
   "version": "3.7.4"
  }
 },
 "nbformat": 4,
 "nbformat_minor": 4
}
