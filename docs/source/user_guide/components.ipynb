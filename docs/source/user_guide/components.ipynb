{
 "cells": [
  {
   "cell_type": "markdown",
   "metadata": {},
   "source": [
    "# EvalML Components"
   ]
  },
  {
   "cell_type": "markdown",
   "metadata": {},
   "source": [
    "Components are the lowest level of building blocks in EvalML. Each component represents a fundamental operation to be applied to data.\n",
    "\n",
    "All components accept parameters as keyword arguments to their `__init__` methods. These parameters can be used to configure behavior.\n",
    "\n",
    "Each component class definition must include a human-readable `name` for the component. Additionally, each component class may expose parameters for AutoML search by defining a `hyperparameter_ranges` attribute containing the parameters in question.\n",
    "\n",
    "EvalML splits components into two categories: **transformers** and **estimators**."
   ]
  },
  {
   "cell_type": "markdown",
   "metadata": {},
   "source": [
    "## Transformers\n",
    "\n",
    "Transformers subclass the `Transformer` class, and define a `fit` method to learn information from training data and a `transform` method to apply a learned transformation to new data.\n",
    "\n",
    "For example, an [imputer](../generated/evalml.pipelines.components.SimpleImputer.ipynb) is configured with the desired impute strategy to follow, for instance the mean value. The imputers `fit` method would learn the mean from the training data, and the `transform` method would fill the learned mean value in for any missing values in new data.\n",
    "\n",
    "All transformers can execute `fit` and `transform` separately or in one step by calling `fit_transform`. Defining a custom `fit_transform` method can facilitate useful performance optimizations in some cases."
   ]
  },
  {
   "cell_type": "code",
   "execution_count": 1,
   "metadata": {},
   "outputs": [
    {
     "data": {
      "text/html": [
       "<div>\n",
       "<style scoped>\n",
       "    .dataframe tbody tr th:only-of-type {\n",
       "        vertical-align: middle;\n",
       "    }\n",
       "\n",
       "    .dataframe tbody tr th {\n",
       "        vertical-align: top;\n",
       "    }\n",
       "\n",
       "    .dataframe thead th {\n",
       "        text-align: right;\n",
       "    }\n",
       "</style>\n",
       "<table border=\"1\" class=\"dataframe\">\n",
       "  <thead>\n",
       "    <tr style=\"text-align: right;\">\n",
       "      <th></th>\n",
       "      <th>0</th>\n",
       "      <th>1</th>\n",
       "      <th>2</th>\n",
       "    </tr>\n",
       "  </thead>\n",
       "  <tbody>\n",
       "    <tr>\n",
       "      <th>0</th>\n",
       "      <td>1</td>\n",
       "      <td>2.0</td>\n",
       "      <td>3</td>\n",
       "    </tr>\n",
       "    <tr>\n",
       "      <th>1</th>\n",
       "      <td>1</td>\n",
       "      <td>NaN</td>\n",
       "      <td>3</td>\n",
       "    </tr>\n",
       "  </tbody>\n",
       "</table>\n",
       "</div>"
      ],
      "text/plain": [
       "   0    1  2\n",
       "0  1  2.0  3\n",
       "1  1  NaN  3"
      ]
     },
     "metadata": {},
     "output_type": "display_data"
    }
   ],
   "source": [
    "import numpy as np\n",
    "import pandas as pd\n",
    "from evalml.pipelines.components import SimpleImputer\n",
    "\n",
    "X = pd.DataFrame([[1, 2, 3], [1, np.nan, 3]])\n",
    "display(X)"
   ]
  },
  {
   "cell_type": "code",
   "execution_count": null,
   "metadata": {},
   "outputs": [],
   "source": [
    "imp = SimpleImputer(impute_strategy=\"mean\")\n",
    "X = imp.fit_transform(X)\n",
    "\n",
    "display(X)"
   ]
  },
  {
   "cell_type": "markdown",
   "metadata": {},
   "source": [
    "Below is a list of all transformers included with EvalML:"
   ]
  },
  {
   "cell_type": "code",
   "execution_count": 26,
   "metadata": {},
   "outputs": [
    {
     "name": "stdout",
     "output_type": "stream",
     "text": [
      "Transformer: Text Featurization Component\n",
      "Transformer: Drop Null Columns Transformer\n",
      "Transformer: DateTime Featurization Component\n",
      "Transformer: Select Columns Transformer\n",
      "Transformer: Drop Columns Transformer\n",
      "Transformer: Standard Scaler\n",
      "Transformer: Per Column Imputer\n",
      "Transformer: Simple Imputer\n",
      "Transformer: RF Regressor Select From Model\n",
      "Transformer: RF Classifier Select From Model\n",
      "Transformer: One Hot Encoder\n"
     ]
    }
   ],
   "source": [
    "from evalml.pipelines.components.utils import all_components, Estimator, Transformer\n",
    "for component in all_components:\n",
    "    if issubclass(component, Transformer):\n",
    "        print(f\"Transformer: {component.name}\")"
   ]
  },
  {
   "cell_type": "markdown",
   "metadata": {},
   "source": [
    "## Estimators\n",
    "\n",
    "Each estimator wraps an ML algorithm. Estimators subclass the `Estimator` class, and define a `fit` method to learn information from training data and a `predict` method for generating predictions. Classification estimators should also define a `predict_proba` method for generating predicted probabilities.\n",
    "\n",
    "Estimator classes each define a `model_family` attribute indicating what type of model is used.\n",
    "\n",
    "Here's an example of using the [`LogisticRegressionClassifier`](../generated/evalml.pipelines.components.LogisticRegressionClassifier.ipynb) estimator to fit and predict on a simple dataset:"
   ]
  },
  {
   "cell_type": "code",
   "execution_count": null,
   "metadata": {},
   "outputs": [],
   "source": [
    "from evalml.pipelines.components import LogisticRegressionClassifier\n",
    "\n",
    "clf = LogisticRegressionClassifier()\n",
    "\n",
    "X = X\n",
    "y = [1, 0]\n",
    "\n",
    "clf.fit(X, y)\n",
    "clf.predict(X)"
   ]
  },
  {
   "cell_type": "markdown",
   "metadata": {},
   "source": [
    "Below is a list of all estimators included with EvalML:"
   ]
  },
  {
   "cell_type": "code",
   "execution_count": 28,
   "metadata": {},
   "outputs": [
    {
     "name": "stdout",
     "output_type": "stream",
     "text": [
      "Estimator: Baseline Regressor\n",
      "Estimator: Extra Trees Regressor\n",
      "Estimator: XGBoost Regressor\n",
      "Estimator: CatBoost Regressor\n",
      "Estimator: Random Forest Regressor\n",
      "Estimator: Linear Regressor\n",
      "Estimator: Elastic Net Regressor\n",
      "Estimator: Baseline Classifier\n",
      "Estimator: Extra Trees Classifier\n",
      "Estimator: Elastic Net Classifier\n",
      "Estimator: CatBoost Classifier\n",
      "Estimator: XGBoost Classifier\n",
      "Estimator: Random Forest Classifier\n",
      "Estimator: Logistic Regression Classifier\n"
     ]
    }
   ],
   "source": [
    "from evalml.pipelines.components.utils import all_components, Estimator, Transformer\n",
    "for component in all_components:\n",
    "    if issubclass(component, Estimator):\n",
    "        print(f\"Estimator: {component.name}\")"
   ]
  }
 ],
 "metadata": {
  "kernelspec": {
   "display_name": "Python 3",
   "language": "python",
   "name": "python3"
  },
  "language_info": {
   "codemirror_mode": {
    "name": "ipython",
    "version": 3
   },
   "file_extension": ".py",
   "mimetype": "text/x-python",
   "name": "python",
   "nbconvert_exporter": "python",
   "pygments_lexer": "ipython3",
   "version": "3.8.2"
  }
 },
 "nbformat": 4,
 "nbformat_minor": 4
}
