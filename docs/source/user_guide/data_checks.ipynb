{
 "cells": [
  {
   "cell_type": "markdown",
   "metadata": {},
   "source": [
    "# Data Checks"
   ]
  },
  {
   "cell_type": "markdown",
   "metadata": {},
   "source": [
    "EvalML provides data checks to help guide you in achieving the highest performing model. These utility functions help deal with problems such as overfitting, abnormal data, and missing data. These data checks can be found under `evalml/data_checks`. Below we will cover examples for each available data check in EvalML, as well as the `DefaultDataChecks` used in `AutoMLSearch.search`."
   ]
  },
  {
   "cell_type": "markdown",
   "metadata": {},
   "source": [
    "## Missing Data\n",
    "\n",
    "Missing data or rows with `NaN` values provide many challenges for machine learning pipelines. In the worst case, many algorithms simply will not run with missing data! EvalML pipelines contain imputation [components](../user_guide/components.ipynb) to ensure that doesn't happen. Imputation works by approximating missing values with existing values. However, if a column contains a high number of missing values, a large percentage of the column would be approximated by a small percentage. This could potentially create a column without useful information for machine learning pipelines. By using `HighlyNullDataCheck`, EvalML will alert you to this potential problem by returning the columns that pass the missing values threshold."
   ]
  },
  {
   "cell_type": "code",
   "execution_count": null,
   "metadata": {
    "scrolled": true
   },
   "outputs": [],
   "source": [
    "import numpy as np\n",
    "import pandas as pd\n",
    "\n",
    "from evalml.data_checks import HighlyNullDataCheck\n",
    "\n",
    "X = pd.DataFrame([[1, 2, 3], \n",
    "                  [0, 4, np.nan],\n",
    "                  [1, 4, np.nan],\n",
    "                  [9, 4, np.nan],\n",
    "                  [8, 6, np.nan]])\n",
    "\n",
    "null_check = HighlyNullDataCheck(pct_null_threshold=0.8)\n",
    "\n",
    "for message in null_check.validate(X):\n",
    "    print(message.message)"
   ]
  },
  {
   "cell_type": "markdown",
   "metadata": {},
   "source": [
    "## Abnormal Data\n",
    "\n",
    "EvalML provides a few data checks to check for abnormal data: \n",
    "\n",
    "* `OutliersDataCheck`\n",
    "* `ClassImbalanceDataCheck`\n",
    "* `IDColumnsDataCheck`\n",
    "* `NoVarianceDataCheck`\n",
    "* `HighVarianceCVDataCheck`\n",
    "* `InvalidTargetDataCheck`"
   ]
  },
  {
   "cell_type": "markdown",
   "metadata": {},
   "source": [
    "### Zero Variance\n",
    "\n",
    "Data with zero variance indicates that all values are identical. If a feature has zero variance, it is not likely to be a useful feature. Similarly, if the target has zero variance, there is likely something wrong. `NoVarianceDataCheck` checks if the target or any feature has only one unique value and alerts you to any such columns."
   ]
  },
  {
   "cell_type": "code",
   "execution_count": null,
   "metadata": {},
   "outputs": [],
   "source": [
    "from evalml.data_checks import NoVarianceDataCheck\n",
    "X = pd.DataFrame({\"no var col\": [0, 0, 0],\n",
    "                 \"good col\":[0, 4, 1]})\n",
    "y = pd.Series([1, 0, 1])\n",
    "no_variance_data_check = NoVarianceDataCheck()\n",
    "\n",
    "for message in no_variance_data_check.validate(X, y):\n",
    "    print(message.message)"
   ]
  },
  {
   "cell_type": "markdown",
   "metadata": {},
   "source": [
    "Note that you can set `NaN` to count as an unique value, but `NoVarianceDataCheck` will still return a warning if there is only one unique non-`NaN` value in a given column."
   ]
  },
  {
   "cell_type": "code",
   "execution_count": null,
   "metadata": {},
   "outputs": [],
   "source": [
    "from evalml.data_checks import NoVarianceDataCheck\n",
    "\n",
    "X = pd.DataFrame({\"no var col\": [0, 0, 0],\n",
    "                 \"no var col with nan\": [1, np.nan, 1],\n",
    "                 \"good col\":[0, 4, 1]})\n",
    "y = pd.Series([1, 0, 1])\n",
    "\n",
    "no_variance_data_check = NoVarianceDataCheck(count_nan_as_value=True)\n",
    "\n",
    "for message in no_variance_data_check.validate(X, y):\n",
    "    print(message.message)"
   ]
  },
  {
   "cell_type": "markdown",
   "metadata": {},
   "source": [
    "### Class Imbalance\n",
    "\n",
    "For classification problems, the distribution of examples across each class can vary. For small variations, this is normal and expected. However, when the number of examples for each class label is disproportionately biased or skewed towards a particular class (or classes), it can be difficult for machine learning models to predict well. In addition, having a low number of examples for a given class could mean that one or more of the CV folds generated for the training data could only have few or no examples from that class. This may cause the model to only predict the majority class and ultimately resulting in a poor-performant model.\n",
    "\n",
    "`ClassImbalanceDataCheck` checks if the target labels are imbalanced beyond a specified threshold for a certain number of CV folds. It returns `DataCheckError` messages for any classes that have less samples than double the number of CV folds specified (since that indicates the likelihood of having at little to no samples of that class in a given fold), and `DataCheckWarning` messages for any classes that fall below the set threshold percentage."
   ]
  },
  {
   "cell_type": "code",
   "execution_count": null,
   "metadata": {},
   "outputs": [],
   "source": [
    "from evalml.data_checks import ClassImbalanceDataCheck\n",
    "\n",
    "X = pd.DataFrame([[1, 2, 0, 1],\n",
    "                  [4, 1, 9, 0],\n",
    "                  [4, 4, 8, 3],\n",
    "                  [9, 2, 7, 1]])\n",
    "y = pd.Series([0, 1, 1, 1, 1])\n",
    "class_imbalance_check = ClassImbalanceDataCheck(threshold=0.25, num_cv_folds=4)\n",
    "\n",
    "for message in class_imbalance_check.validate(X, y):\n",
    "    print(message.message)"
   ]
  },
  {
   "cell_type": "markdown",
   "metadata": {},
   "source": [
    "### Target Leakage\n",
    "\n",
    "[Target leakage](https://en.wikipedia.org/wiki/Leakage_(machine_learning)#:~:text=In%20statistics%20and%20machine%20learning,run%20in%20a%20production%20environment.), also known as data leakage, can occur when you train your model on a dataset that includes information that should not be available at the time of prediction. This causes the model to score suspiciously well, but perform poorly in production. `TargetLeakageDataCheck` checks for features that could potentially be \"leaking\" information by calculating the Pearson correlation coefficient between each feature and the target to warn users if there are features are highly correlated with the target. Currently, only numerical features are considered."
   ]
  },
  {
   "cell_type": "code",
   "execution_count": null,
   "metadata": {},
   "outputs": [],
   "source": [
    "from evalml.data_checks import TargetLeakageDataCheck\n",
    "X = pd.DataFrame({'leak': [10, 42, 31, 51, 61],\n",
    "'x': [42, 54, 12, 64, 12],\n",
    "'y': [12, 5, 13, 74, 24]})\n",
    "y = pd.Series([10, 42, 31, 51, 40])\n",
    "\n",
    "target_leakage_check = TargetLeakageDataCheck(pct_corr_threshold=0.8)\n",
    "for message in target_leakage_check.validate(X, y):\n",
    "    print(message.message)"
   ]
  },
  {
   "cell_type": "markdown",
   "metadata": {},
   "source": [
    "### Invalid Target Data\n",
    "\n",
    "The `InvalidTargetDataCheck` checks if the target data contains any missing or invalid values. Specifically:\n",
    "\n",
    "* if any of the target values are missing, a `DataCheckError` message is returned\n",
    "* if the specified problem type is a binary classification problem but there is more or less than two unique values in the target, a `DataCheckError` message is returned\n",
    "* if binary classification target classes are numeric values not equal to {0, 1}, a `DataCheckError` message is returned because it can cause unpredictable behavior when passed to pipelines"
   ]
  },
  {
   "cell_type": "code",
   "execution_count": null,
   "metadata": {},
   "outputs": [],
   "source": [
    "from evalml.data_checks import InvalidTargetDataCheck\n",
    "    \n",
    "X = pd.DataFrame({})\n",
    "y = pd.Series([0, 1, None, None])\n",
    "invalid_target_check = InvalidTargetDataCheck('binary')\n",
    "\n",
    "for message in invalid_target_check.validate(X, y):\n",
    "    print(message.message)"
   ]
  },
  {
   "cell_type": "markdown",
   "metadata": {},
   "source": [
    "### ID Columns\n",
    "\n",
    "ID columns in your dataset provide little to no benefit to a machine learning pipeline as the pipeline cannot extrapolate useful information from unique identifiers. Thus, `IDColumnsDataCheck` reminds you if these columns exists. In the given example, 'user_number' and 'id' columns are both identified as potentially being unique identifiers that should be removed."
   ]
  },
  {
   "cell_type": "code",
   "execution_count": null,
   "metadata": {},
   "outputs": [],
   "source": [
    "from evalml.data_checks import IDColumnsDataCheck\n",
    "\n",
    "X = pd.DataFrame([[0, 53, 6325, 5],[1, 90, 6325, 10],[2, 90, 18, 20]], columns=['user_number', 'cost', 'revenue', 'id'])\n",
    "id_col_check = IDColumnsDataCheck(id_threshold=0.9)\n",
    "\n",
    "for message in id_col_check.validate(X):\n",
    "    print(message.message)"
   ]
  },
  {
   "cell_type": "markdown",
   "metadata": {},
   "source": [
    "### High Variance Cross-Validation Scores\n",
    "\n",
    "The `HighVarianceCVDataCheck` data check is used in `AutoMLSearch` to detect if the variance between folds in cross-validation is higher than a specified threshold. High variance across cross-validation folds indicates that the underlying model may be overfitting to the fold data; this is unfavorable and can create an underperforming model in production.\n",
    "\n",
    "The `HighVarianceCVDataCheck` is unique because it is the only data check that is not run before the search in `AutoMLSearch.search()` begins, but rather, during each CV fold."
   ]
  },
  {
   "cell_type": "markdown",
   "metadata": {},
   "source": [
    "## Outliers\n",
    "\n",
    "Outliers are observations that differ significantly from other observations in the same sample. Many machine learning pipelines suffer in performance if outliers are not dropped from the training set as they are not representative of the data. `OutliersDataCheck()` uses IQR to notify you if a sample can be considered an outlier.\n",
    "\n",
    "Below we generate a random dataset with some outliers."
   ]
  },
  {
   "cell_type": "code",
   "execution_count": null,
   "metadata": {
    "scrolled": true
   },
   "outputs": [],
   "source": [
    "data = np.tile(np.arange(10) * 0.01, (100, 10))\n",
    "X = pd.DataFrame(data=data)\n",
    "\n",
    "# generate some outliers in columns 3, 25, 55, and 72\n",
    "X.iloc[0, 3] = -10000\n",
    "X.iloc[3, 25] = 10000\n",
    "X.iloc[5, 55] = 10000\n",
    "X.iloc[10, 72] = -10000"
   ]
  },
  {
   "cell_type": "markdown",
   "metadata": {},
   "source": [
    "We then utilize `OutliersDataCheck()` to rediscover these outliers."
   ]
  },
  {
   "cell_type": "code",
   "execution_count": null,
   "metadata": {
    "scrolled": true
   },
   "outputs": [],
   "source": [
    "from evalml.data_checks import OutliersDataCheck\n",
    "\n",
    "outliers_check = OutliersDataCheck()\n",
    "\n",
    "for message in outliers_check.validate(X):\n",
    "    print(message.message)"
   ]
  },
  {
   "cell_type": "markdown",
   "metadata": {},
   "source": [
    "## Data Check Messages\n",
    "\n",
    "Each data check's `validate` method returns a list of `DataCheckMessage` objects indicating warnings or errors found; warnings are stored as a `DataCheckWarning` object ([API reference](../generated/evalml.data_checks.DataCheckWarning.ipynb)) and errors are stored as a `DataCheckError` object ([API reference](../generated/evalml.data_checks.DataCheckError.ipynb)). You can filter the messages returned by a data check by checking for the type of message returned. Below, `NoVarianceDataCheck` returns a list containing a `DataCheckWarning` and a `DataCheckError` message. We can determine which is which by checking the type of each message."
   ]
  },
  {
   "cell_type": "code",
   "execution_count": null,
   "metadata": {},
   "outputs": [],
   "source": [
    "from evalml.data_checks import NoVarianceDataCheck, DataCheckError, DataCheckWarning\n",
    "\n",
    "X = pd.DataFrame({\"no var col\": [0, 0, 0],\n",
    "                 \"no var col with nan\": [1, np.nan, 1],\n",
    "                 \"good col\":[0, 4, 1]})\n",
    "y = pd.Series([1, 0, 1])\n",
    "\n",
    "no_variance_data_check = NoVarianceDataCheck(count_nan_as_value=True)\n",
    "\n",
    "for message in no_variance_data_check.validate(X, y):\n",
    "    if isinstance(message, DataCheckError):\n",
    "        print(\"ERROR:\", message.message)\n",
    "    elif isinstance(message, DataCheckWarning):\n",
    "        print(\"WARNING:\", message.message)"
   ]
  },
  {
   "cell_type": "markdown",
   "metadata": {},
   "source": [
    "## Writing Your Own Data Check"
   ]
  },
  {
   "cell_type": "markdown",
   "metadata": {},
   "source": [
    "If you would prefer to write your own data check, you can do so by extending the `DataCheck` class and implementing the `validate(self, X, y)` class method. Below, we've created a new `DataCheck`, `ZeroVarianceDataCheck`, which is similar to `NoVarianceDataCheck` defined in `EvalML`."
   ]
  },
  {
   "cell_type": "code",
   "execution_count": null,
   "metadata": {
    "scrolled": true
   },
   "outputs": [],
   "source": [
    "from evalml.data_checks import DataCheck\n",
    "from evalml.data_checks.data_check_message import DataCheckError\n",
    "\n",
    "class ZeroVarianceDataCheck(DataCheck):\n",
    "    def validate(self, X, y):\n",
    "        if not isinstance(X, pd.DataFrame):\n",
    "            X = pd.DataFrame(X)\n",
    "        warning_msg = \"Column '{}' has zero variance\"\n",
    "        return [DataCheckError(warning_msg.format(column), self.name) for column in X.columns if len(X[column].unique()) == 1]"
   ]
  },
  {
   "cell_type": "markdown",
   "metadata": {},
   "source": [
    "## Defining Collections of Data Checks\n",
    "\n",
    "For convenience, EvalML provides a `DataChecks` class to represent a collection of data checks. We will go over `DefaultDataChecks` ([API reference](../generated/evalml.data_checks.DefaultDataChecks.ipynb)), a collection defined and used in `AutoMLSearch.`"
   ]
  },
  {
   "cell_type": "markdown",
   "metadata": {},
   "source": [
    "### Default Data Checks\n",
    "\n",
    "By default, `AutoMLSearch.search` runs a collection of data checks before it searches and iterates over pipelines. This collection of data checks is stored in the `DefaultDataChecks` class. It consists of a few data checks that are generally helpful for any machine learning problem. They are:\n",
    "\n",
    "* `HighlyNullDataCheck`\n",
    "* `IDColumnsDataCheck`\n",
    "* `TargetLeakageDataCheck`\n",
    "* `InvalidTargetDataCheck`\n",
    "* `ClassImbalanceDataCheck` (for classification problem types)\n",
    "* `NoVarianceDataCheck`"
   ]
  },
  {
   "cell_type": "markdown",
   "metadata": {},
   "source": [
    "## Writing Your Own Collection of Data Checks"
   ]
  },
  {
   "cell_type": "markdown",
   "metadata": {},
   "source": [
    "If you would prefer to create your own collection of data checks, you could either write your own data checks class by extending the `DataChecks` class and setting the `self.data_checks` attribute to the list of `DataCheck` classes or objects, or you could pass that list of data checks to the constructor of the `DataChecks` class. Below, we create two identical collections of data checks using the two different methods."
   ]
  },
  {
   "cell_type": "code",
   "execution_count": null,
   "metadata": {},
   "outputs": [],
   "source": [
    "# Create a subclass of `DataChecks`\n",
    "from evalml.data_checks import DataChecks, HighlyNullDataCheck, InvalidTargetDataCheck, NoVarianceDataCheck, ClassImbalanceDataCheck, TargetLeakageDataCheck\n",
    "from evalml.problem_types import ProblemTypes, handle_problem_types\n",
    "\n",
    "class MyCustomDataChecks(DataChecks):\n",
    "\n",
    "    data_checks = [HighlyNullDataCheck, InvalidTargetDataCheck, NoVarianceDataCheck, TargetLeakageDataCheck]\n",
    "\n",
    "    def __init__(self, problem_type):\n",
    "        \"\"\"\n",
    "        A collection of basic data checks.\n",
    "        Arguments:\n",
    "            problem_type (str): The problem type that is being validated. Can be regression, binary, or multiclass.\n",
    "        \"\"\"\n",
    "        if handle_problem_types(problem_type) == ProblemTypes.REGRESSION:\n",
    "            super().__init__(self.data_checks,\n",
    "                             data_check_params={\"InvalidTargetDataCheck\": {\"problem_type\": problem_type}})\n",
    "        else:\n",
    "            super().__init__(self.data_checks + [ClassImbalanceDataCheck],\n",
    "                             data_check_params={\"InvalidTargetDataCheck\": {\"problem_type\": problem_type}})\n",
    "\n",
    "\n",
    "custom_data_checks = MyCustomDataChecks(problem_type=ProblemTypes.REGRESSION)\n",
    "for data_check in custom_data_checks.data_checks:\n",
    "    print(data_check.name)"
   ]
  },
  {
   "cell_type": "code",
   "execution_count": null,
   "metadata": {},
   "outputs": [],
   "source": [
    "# Pass list of data checks to the `data_checks` parameter of DataChecks\n",
    "same_custom_data_checks = DataChecks(data_checks=[HighlyNullDataCheck, InvalidTargetDataCheck, NoVarianceDataCheck, TargetLeakageDataCheck],\n",
    "                                    data_check_params={\"InvalidTargetDataCheck\": {\"problem_type\": ProblemTypes.REGRESSION}})\n",
    "for data_check in custom_data_checks.data_checks:\n",
    "    print(data_check.name)"
   ]
  }
 ],
 "metadata": {
  "kernelspec": {
   "display_name": "Python 3",
   "language": "python",
   "name": "python3"
  },
  "language_info": {
   "codemirror_mode": {
    "name": "ipython",
    "version": 3
   },
   "file_extension": ".py",
   "mimetype": "text/x-python",
   "name": "python",
   "nbconvert_exporter": "python",
   "pygments_lexer": "ipython3",
   "version": "3.8.6"
  }
 },
 "nbformat": 4,
 "nbformat_minor": 4
}