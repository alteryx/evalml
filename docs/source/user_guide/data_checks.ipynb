{
 "cells": [
  {
   "cell_type": "markdown",
   "metadata": {},
   "source": [
    "# Data Checks"
   ]
  },
  {
   "cell_type": "markdown",
   "metadata": {},
   "source": [
    "EvalML provides data checks to help guide you in achieving the highest performing model. These utility functions help deal with problems such as overfitting, abnormal data, and missing data. These data checks can be found under `evalml/data_checks`. Below we will cover examples for each available data check in EvalML, as well as the `DefaultDataChecks` collection of data checks."
   ]
  },
  {
   "cell_type": "markdown",
   "metadata": {},
   "source": [
    "## Missing Data\n",
    "\n",
    "Missing data or rows with `NaN` values provide many challenges for machine learning pipelines. In the worst case, many algorithms simply will not run with missing data! EvalML pipelines contain imputation [components](../user_guide/components.ipynb) to ensure that doesn't happen. Imputation works by approximating missing values with existing values. However, if a column contains a high number of missing values, a large percentage of the column would be approximated by a small percentage. This could potentially create a column without useful information for machine learning pipelines. By using `HighlyNullDataCheck`, EvalML will alert you to this potential problem by returning the columns that pass the missing values threshold."
   ]
  },
  {
   "cell_type": "code",
   "execution_count": null,
   "metadata": {
    "scrolled": true
   },
   "outputs": [],
   "source": [
    "import numpy as np\n",
    "import pandas as pd\n",
    "\n",
    "from evalml.data_checks import HighlyNullDataCheck\n",
    "\n",
    "X = pd.DataFrame([[1, 2, 3], \n",
    "                  [0, 4, np.nan],\n",
    "                  [1, 4, np.nan],\n",
    "                  [9, 4, np.nan],\n",
    "                  [8, 6, np.nan]])\n",
    "\n",
    "null_check = HighlyNullDataCheck(pct_null_col_threshold=0.8, pct_null_row_threshold=0.8)\n",
    "results = null_check.validate(X)\n",
    "\n",
    "for message in results['warnings']:\n",
    "    print(\"Warning:\", message['message'])\n",
    "\n",
    "for message in results['errors']:\n",
    "    print(\"Error:\", message['message'])"
   ]
  },
  {
   "cell_type": "markdown",
   "metadata": {},
   "source": [
    "## Abnormal Data\n",
    "\n",
    "EvalML provides a few data checks to check for abnormal data: \n",
    "\n",
    "* `NoVarianceDataCheck`\n",
    "* `ClassImbalanceDataCheck`\n",
    "* `TargetLeakageDataCheck`\n",
    "* `InvalidTargetDataCheck`\n",
    "* `IDColumnsDataCheck`\n",
    "* `OutliersDataCheck`\n",
    "* `HighVarianceCVDataCheck`\n",
    "* `MulticollinearityDataCheck`\n",
    "* `UniquenessDataCheck`\n",
    "* `TargetDistributionDataCheck`\n",
    "* `DateTimeFormatDataCheck`"
   ]
  },
  {
   "cell_type": "markdown",
   "metadata": {},
   "source": [
    "### Zero Variance\n",
    "\n",
    "Data with zero variance indicates that all values are identical. If a feature has zero variance, it is not likely to be a useful feature. Similarly, if the target has zero variance, there is likely something wrong. `NoVarianceDataCheck` checks if the target or any feature has only one unique value and alerts you to any such columns."
   ]
  },
  {
   "cell_type": "code",
   "execution_count": null,
   "metadata": {},
   "outputs": [],
   "source": [
    "from evalml.data_checks import NoVarianceDataCheck\n",
    "X = pd.DataFrame({\"no var col\": [0, 0, 0],\n",
    "                 \"good col\":[0, 4, 1]})\n",
    "y = pd.Series([1, 0, 1])\n",
    "no_variance_data_check = NoVarianceDataCheck()\n",
    "results = no_variance_data_check.validate(X, y)\n",
    "\n",
    "for message in results['warnings']:\n",
    "    print(\"Warning:\", message['message'])\n",
    "\n",
    "for message in results['errors']:\n",
    "    print(\"Error:\", message['message'])"
   ]
  },
  {
   "cell_type": "markdown",
   "metadata": {},
   "source": [
    "Note that you can set `NaN` to count as an unique value, but `NoVarianceDataCheck` will still return a warning if there is only one unique non-`NaN` value in a given column."
   ]
  },
  {
   "cell_type": "code",
   "execution_count": null,
   "metadata": {},
   "outputs": [],
   "source": [
    "from evalml.data_checks import NoVarianceDataCheck\n",
    "\n",
    "X = pd.DataFrame({\"no var col\": [0, 0, 0],\n",
    "                 \"no var col with nan\": [1, np.nan, 1],\n",
    "                 \"good col\":[0, 4, 1]})\n",
    "y = pd.Series([1, 0, 1])\n",
    "\n",
    "no_variance_data_check = NoVarianceDataCheck(count_nan_as_value=True)\n",
    "results = no_variance_data_check.validate(X, y)\n",
    "\n",
    "for message in results['warnings']:\n",
    "    print(\"Warning:\", message['message'])\n",
    "\n",
    "for message in results['errors']:\n",
    "    print(\"Error:\", message['message'])"
   ]
  },
  {
   "cell_type": "markdown",
   "metadata": {},
   "source": [
    "### Class Imbalance\n",
    "\n",
    "For classification problems, the distribution of examples across each class can vary. For small variations, this is normal and expected. However, when the number of examples for each class label is disproportionately biased or skewed towards a particular class (or classes), it can be difficult for machine learning models to predict well. In addition, having a low number of examples for a given class could mean that one or more of the CV folds generated for the training data could only have few or no examples from that class. This may cause the model to only predict the majority class and ultimately resulting in a poor-performant model.\n",
    "\n",
    "`ClassImbalanceDataCheck` checks if the target labels are imbalanced beyond a specified threshold for a certain number of CV folds. It returns `DataCheckError` messages for any classes that have less samples than double the number of CV folds specified (since that indicates the likelihood of having at little to no samples of that class in a given fold), and `DataCheckWarning` messages for any classes that fall below the set threshold percentage."
   ]
  },
  {
   "cell_type": "code",
   "execution_count": null,
   "metadata": {},
   "outputs": [],
   "source": [
    "from evalml.data_checks import ClassImbalanceDataCheck\n",
    "\n",
    "X = pd.DataFrame([[1, 2, 0, 1],\n",
    "                  [4, 1, 9, 0],\n",
    "                  [4, 4, 8, 3],\n",
    "                  [9, 2, 7, 1]])\n",
    "y = pd.Series([0, 1, 1, 1, 1])\n",
    "\n",
    "class_imbalance_check = ClassImbalanceDataCheck(threshold=0.25, num_cv_folds=4)\n",
    "results = class_imbalance_check.validate(X, y)\n",
    "\n",
    "for message in results['warnings']:\n",
    "    print(\"Warning:\", message['message'])\n",
    "\n",
    "for message in results['errors']:\n",
    "    print(\"Error:\", message['message'])"
   ]
  },
  {
   "cell_type": "markdown",
   "metadata": {},
   "source": [
    "### Target Leakage\n",
    "\n",
    "[Target leakage](https://en.wikipedia.org/wiki/Leakage_(machine_learning)#:~:text=In%20statistics%20and%20machine%20learning,run%20in%20a%20production%20environment.), also known as data leakage, can occur when you train your model on a dataset that includes information that should not be available at the time of prediction. This causes the model to score suspiciously well, but perform poorly in production. `TargetLeakageDataCheck` checks for features that could potentially be \"leaking\" information by calculating the Pearson correlation coefficient between each feature and the target to warn users if there are features are highly correlated with the target. Currently, only numerical features are considered."
   ]
  },
  {
   "cell_type": "code",
   "execution_count": null,
   "metadata": {},
   "outputs": [],
   "source": [
    "from evalml.data_checks import TargetLeakageDataCheck\n",
    "X = pd.DataFrame({'leak': [10, 42, 31, 51, 61],\n",
    "'x': [42, 54, 12, 64, 12],\n",
    "'y': [12, 5, 13, 74, 24]})\n",
    "y = pd.Series([10, 42, 31, 51, 40])\n",
    "\n",
    "target_leakage_check = TargetLeakageDataCheck(pct_corr_threshold=0.8)\n",
    "results = target_leakage_check.validate(X, y)\n",
    "\n",
    "for message in results['warnings']:\n",
    "    print(\"Warning:\", message['message'])\n",
    "\n",
    "for message in results['errors']:\n",
    "    print(\"Error:\", message['message'])"
   ]
  },
  {
   "cell_type": "markdown",
   "metadata": {},
   "source": [
    "### Invalid Target Data\n",
    "\n",
    "The `InvalidTargetDataCheck` checks if the target data contains any missing or invalid values. Specifically:\n",
    "\n",
    "* if any of the target values are missing, a `DataCheckError` message is returned\n",
    "* if the specified problem type is a binary classification problem but there is more or less than two unique values in the target, a `DataCheckError` message is returned\n",
    "* if binary classification target classes are numeric values not equal to {0, 1}, a `DataCheckError` message is returned because it can cause unpredictable behavior when passed to pipelines"
   ]
  },
  {
   "cell_type": "code",
   "execution_count": null,
   "metadata": {},
   "outputs": [],
   "source": [
    "from evalml.data_checks import InvalidTargetDataCheck\n",
    "    \n",
    "X = pd.DataFrame({})\n",
    "y = pd.Series([0, 1, None, None])\n",
    "\n",
    "invalid_target_check = InvalidTargetDataCheck('binary', 'Log Loss Binary')\n",
    "results = invalid_target_check.validate(X, y)\n",
    "\n",
    "for message in results['warnings']:\n",
    "    print(\"Warning:\", message['message'])\n",
    "\n",
    "for message in results['errors']:\n",
    "    print(\"Error:\", message['message'])"
   ]
  },
  {
   "cell_type": "markdown",
   "metadata": {},
   "source": [
    "### ID Columns\n",
    "\n",
    "ID columns in your dataset provide little to no benefit to a machine learning pipeline as the pipeline cannot extrapolate useful information from unique identifiers. Thus, `IDColumnsDataCheck` reminds you if these columns exists. In the given example, 'user_number' and 'id' columns are both identified as potentially being unique identifiers that should be removed."
   ]
  },
  {
   "cell_type": "code",
   "execution_count": null,
   "metadata": {},
   "outputs": [],
   "source": [
    "from evalml.data_checks import IDColumnsDataCheck\n",
    "\n",
    "X = pd.DataFrame([[0, 53, 6325, 5],[1, 90, 6325, 10],[2, 90, 18, 20]], columns=['user_number', 'cost', 'revenue', 'id'])\n",
    "\n",
    "id_col_check = IDColumnsDataCheck(id_threshold=0.9)\n",
    "results = id_col_check.validate(X, y)\n",
    "\n",
    "for message in results['warnings']:\n",
    "    print(\"Warning:\", message['message'])\n",
    "\n",
    "for message in results['errors']:\n",
    "    print(\"Error:\", message['message'])"
   ]
  },
  {
   "cell_type": "markdown",
   "metadata": {},
   "source": [
    "### Multicollinearity\n",
    "\n",
    "The `MulticollinearityDataCheck` data check is used in to detect if are any set of features that are likely to be multicollinear. Multicollinear features affect the performance of a model, but more importantly, it may greatly impact model interpretation. EvalML uses mutual information to determine collinearity."
   ]
  },
  {
   "cell_type": "code",
   "execution_count": null,
   "metadata": {},
   "outputs": [],
   "source": [
    "from evalml.data_checks import MulticollinearityDataCheck\n",
    "    \n",
    "y = pd.Series([1, 0, 2, 3, 4])\n",
    "X = pd.DataFrame({'col_1': y,\n",
    "                      'col_2': y * 3,\n",
    "                      'col_3': ~y,\n",
    "                      'col_4': y / 2,\n",
    "                      'col_5': y + 1,\n",
    "                      'not_collinear': [0, 1, 0, 0, 0]})\n",
    "\n",
    "multi_check = MulticollinearityDataCheck(threshold=0.95)\n",
    "results = multi_check.validate(X, y)\n",
    "\n",
    "for message in results['warnings']:\n",
    "    print(\"Warning:\", message['message'])\n",
    "\n",
    "for message in results['errors']:\n",
    "    print(\"Error:\", message['message'])"
   ]
  },
  {
   "cell_type": "markdown",
   "metadata": {},
   "source": [
    "### Uniqueness\n",
    "The `UniquenessDataCheck` is used to detect columns with either too unique or not unique enough values.  For regression type problems, the data is checked for a lower limit of uniqueness.  For multiclass type problems, the data is checked for an upper limit."
   ]
  },
  {
   "cell_type": "code",
   "execution_count": null,
   "metadata": {},
   "outputs": [],
   "source": [
    "import pandas as pd\n",
    "from evalml.data_checks import UniquenessDataCheck\n",
    "\n",
    "X = pd.DataFrame({'most_unique': [float(x) for x in range(10)],  # [0,1,2,3,4,5,6,7,8,9]\n",
    "                  'more_unique': [x % 5 for x in range(10)],  # [0,1,2,3,4,0,1,2,3,4]\n",
    "                  'unique': [x % 3 for x in range(10)],  # [0,1,2,0,1,2,0,1,2,0]\n",
    "                  'less_unique': [x % 2 for x in range(10)],  # [0,1,0,1,0,1,0,1,0,1]\n",
    "                  'not_unique': [float(1) for x in range(10)]})  # [1,1,1,1,1,1,1,1,1,1]\n",
    "\n",
    "uniqueness_check = UniquenessDataCheck(problem_type=\"regression\",\n",
    "                                       threshold=.5)\n",
    "results = uniqueness_check.validate(X, y=None)\n",
    "\n",
    "for message in results['warnings']:\n",
    "    print(\"Warning:\", message['message'])\n",
    "\n",
    "for message in results['errors']:\n",
    "    print(\"Error:\", message['message'])"
   ]
  },
  {
   "cell_type": "markdown",
   "metadata": {},
   "source": [
    "### Sparsity\n",
    "The `SparsityDataCheck` is used to identify features that contain a sparsity of values.  "
   ]
  },
  {
   "cell_type": "code",
   "execution_count": null,
   "metadata": {},
   "outputs": [],
   "source": [
    "from evalml.data_checks import SparsityDataCheck\n",
    "\n",
    "X = pd.DataFrame({'most_sparse': [float(x) for x in range(10)],  # [0,1,2,3,4,5,6,7,8,9]\n",
    "                  'more_sparse': [x % 5 for x in range(10)],     # [0,1,2,3,4,0,1,2,3,4]\n",
    "                  'sparse': [x % 3 for x in range(10)],          # [0,1,2,0,1,2,0,1,2,0]\n",
    "                  'less_sparse': [x % 2 for x in range(10)],     # [0,1,0,1,0,1,0,1,0,1]\n",
    "                  'not_sparse': [float(1) for x in range(10)]})  # [1,1,1,1,1,1,1,1,1,1]\n",
    "\n",
    "\n",
    "sparsity_check = SparsityDataCheck(problem_type=\"multiclass\",\n",
    "                                   threshold=.4,\n",
    "                                   unique_count_threshold=3)\n",
    "results = sparsity_check.validate(X,y=None)\n",
    "\n",
    "for message in results['warnings']:\n",
    "    print(\"Warning:\", message['message'])\n",
    "\n",
    "for message in results['errors']:\n",
    "    print(\"Error:\", message['message'])"
   ]
  },
  {
   "cell_type": "markdown",
   "metadata": {},
   "source": [
    "### Outliers\n",
    "\n",
    "Outliers are observations that differ significantly from other observations in the same sample. Many machine learning pipelines suffer in performance if outliers are not dropped from the training set as they are not representative of the data. `OutliersDataCheck()` uses IQR to notify you if a sample can be considered an outlier.\n",
    "\n",
    "Below we generate a random dataset with some outliers."
   ]
  },
  {
   "cell_type": "code",
   "execution_count": null,
   "metadata": {
    "scrolled": true
   },
   "outputs": [],
   "source": [
    "data = np.tile(np.arange(10) * 0.01, (100, 10))\n",
    "X = pd.DataFrame(data=data)\n",
    "\n",
    "# generate some outliers in columns 3, 25, 55, and 72\n",
    "X.iloc[0, 3] = -10000\n",
    "X.iloc[3, 25] = 10000\n",
    "X.iloc[5, 55] = 10000\n",
    "X.iloc[10, 72] = -10000"
   ]
  },
  {
   "cell_type": "markdown",
   "metadata": {},
   "source": [
    "We then utilize `OutliersDataCheck()` to rediscover these outliers."
   ]
  },
  {
   "cell_type": "code",
   "execution_count": null,
   "metadata": {
    "scrolled": true
   },
   "outputs": [],
   "source": [
    "from evalml.data_checks import OutliersDataCheck\n",
    "\n",
    "outliers_check = OutliersDataCheck()\n",
    "results = outliers_check.validate(X, y)\n",
    "\n",
    "for message in results['warnings']:\n",
    "    print(\"Warning:\", message['message'])\n",
    "\n",
    "for message in results['errors']:\n",
    "    print(\"Error:\", message['message'])"
   ]
  },
  {
   "cell_type": "markdown",
   "metadata": {},
   "source": [
    "### Target Distribution\n",
    "\n",
    "Target data can come in a variety of distributions, such as Gaussian or Lognormal. When we work with machine learning models, we feed data into an estimator that learns from the training data provided. Sometimes the data can be significantly spread out with a long tail or outliers, which could lead to a lognormal distribution. This can cause machine learning model performance to suffer.\n",
    "\n",
    "To help the estimators better understand the underlying relationships in the data between the features and the target, we can use the `TargetDistributionDataCheck`to identify such a distribution. If you use `AutoML.search` to try and find the best pipeline, it will automatically run this data check for you and, if a lognormal distribution is detected, will add a `LogTransformer` to your pipeline to help the model performance!"
   ]
  },
  {
   "cell_type": "code",
   "execution_count": null,
   "metadata": {},
   "outputs": [],
   "source": [
    "from scipy.stats import lognorm\n",
    "from evalml.data_checks import TargetDistributionDataCheck\n",
    "\n",
    "data = np.tile(np.arange(10) * 0.01, (100, 10))\n",
    "X = pd.DataFrame(data=data)\n",
    "y = pd.Series(lognorm.rvs(s=0.4, loc=1, scale=1, size=100))\n",
    "\n",
    "target_dist_check = TargetDistributionDataCheck()\n",
    "results = target_dist_check.validate(X, y)\n",
    "\n",
    "for message in results['warnings']:\n",
    "    print(\"Warning:\", message['message'])\n",
    "\n",
    "for message in results['errors']:\n",
    "    print(\"Error:\", message['message'])"
   ]
  },
  {
   "cell_type": "markdown",
   "metadata": {},
   "source": [
    "### Datetime Format\n",
    "\n",
    "Datetime information is a necessary component of time series problems, but sometimes the data we deal with may contain flaws that make it impossible for time series models to work with them. For example, in order to identify a frequency in the datetime information there has to be equal interval spacing between data points i.e. January 1, 2021, January 3, 2021, January 5, 2021, ...etc which are separated by two days. If instead there are random jumps in the datetime data i.e. January 1, 2021, January 3, 2021, January 12, 2021, then a frequency can't be inferred. Another common issue with time series models are that they can't handle datetime information that isn't properly sorted. Datetime values that aren't monotonically increasing (sorted in ascending order) will encounter this issue and their frequency cannot be inferred.\n",
    "\n",
    "To make it easy to verify that the datetime column you're working with is properly spaced and sorted, we can leverage the `DatetimeFormatDataCheck`. When initializing the data check, pass in the name of the column that contains your datetime information (or pass in \"index\" if it's found in either your X or y indices)."
   ]
  },
  {
   "cell_type": "code",
   "execution_count": null,
   "metadata": {},
   "outputs": [],
   "source": [
    "from evalml.data_checks import DateTimeFormatDataCheck\n",
    "\n",
    "X = pd.DataFrame(pd.date_range(\"January 1, 2021\", periods=8, freq='2D'), columns=[\"dates\"])\n",
    "y = pd.Series([1, 2, 4, 2, 1, 2, 3, 1])\n",
    "\n",
    "# Replaces the last entry with January 16th instead of January 15th\n",
    "# so that the data is no longer evenly spaced.\n",
    "X.iloc[7] = \"January 16, 2021\"\n",
    "\n",
    "datetime_format_check = DateTimeFormatDataCheck(datetime_column=\"dates\")\n",
    "results = datetime_format_check.validate(X, y)\n",
    "\n",
    "for message in results['warnings']:\n",
    "    print(\"Warning:\", message['message'])\n",
    "\n",
    "for message in results['errors']:\n",
    "    print(\"Error:\", message['message'])\n",
    "\n",
    "print(\"--------------------------------\")\n",
    "\n",
    "# Reverses the order of the index datetime values to be decreasing.\n",
    "X = X[::-1]\n",
    "results = datetime_format_check.validate(X, y)\n",
    "\n",
    "for message in results['warnings']:\n",
    "    print(\"Warning:\", message['message'])\n",
    "\n",
    "for message in results['errors']:\n",
    "    print(\"Error:\", message['message'])"
   ]
  },
  {
   "cell_type": "markdown",
   "metadata": {},
   "source": [
    "## Data Check Messages\n",
    "\n",
    "Each data check's `validate` method returns a list of `DataCheckMessage` objects indicating warnings or errors found; warnings are stored as a `DataCheckWarning` object ([API reference](../autoapi/evalml/data_checks/index.rst#evalml.data_checks.DataCheckWarning)) and errors are stored as a `DataCheckError` object ([API reference](../autoapi/evalml/data_checks/index.rst#evalml.data_checks.DataCheckError)). You can filter the messages returned by a data check by checking for the type of message returned. Below, `NoVarianceDataCheck` returns a list containing a `DataCheckWarning` and a `DataCheckError` message. We can determine which is which by checking the type of each message."
   ]
  },
  {
   "cell_type": "code",
   "execution_count": null,
   "metadata": {},
   "outputs": [],
   "source": [
    "from evalml.data_checks import NoVarianceDataCheck, DataCheckError, DataCheckWarning\n",
    "\n",
    "X = pd.DataFrame({\"no var col\": [0, 0, 0],\n",
    "                 \"no var col with nan\": [1, np.nan, 1],\n",
    "                 \"good col\":[0, 4, 1]})\n",
    "y = pd.Series([1, 0, 1])\n",
    "\n",
    "no_variance_data_check = NoVarianceDataCheck(count_nan_as_value=True)\n",
    "results = no_variance_data_check.validate(X, y)\n",
    "\n",
    "for message in results['warnings']:\n",
    "    print(\"Warning:\", message['message'])\n",
    "\n",
    "for message in results['errors']:\n",
    "    print(\"Error:\", message['message'])"
   ]
  },
  {
   "cell_type": "markdown",
   "metadata": {},
   "source": [
    "## Writing Your Own Data Check"
   ]
  },
  {
   "cell_type": "markdown",
   "metadata": {},
   "source": [
    "If you would prefer to write your own data check, you can do so by extending the `DataCheck` class and implementing the `validate(self, X, y)` class method. Below, we've created a new `DataCheck`, `ZeroVarianceDataCheck`, which is similar to `NoVarianceDataCheck` defined in `EvalML`. The `validate(self, X, y)` method should return a dictionary with 'warnings' and 'errors' as keys mapping to list of warnings and errors, respectively."
   ]
  },
  {
   "cell_type": "code",
   "execution_count": null,
   "metadata": {
    "scrolled": true
   },
   "outputs": [],
   "source": [
    "from evalml.data_checks import DataCheck\n",
    "\n",
    "class ZeroVarianceDataCheck(DataCheck):\n",
    "    def validate(self, X, y):\n",
    "        messages = {'warnings': [], 'errors': []}\n",
    "        if not isinstance(X, pd.DataFrame):\n",
    "            X = pd.DataFrame(X)\n",
    "        warning_msg = \"Column '{}' has zero variance\"\n",
    "        messages['warnings'].extend([DataCheckError(warning_msg.format(column), self.name) for column in X.columns if len(X[column].unique()) == 1])"
   ]
  },
  {
   "cell_type": "markdown",
   "metadata": {},
   "source": [
    "## Defining Collections of Data Checks\n",
    "\n",
    "For convenience, EvalML provides a `DataChecks` class to represent a collection of data checks. We will go over `DefaultDataChecks` ([API reference](../autoapi/evalml/data_checks/index.rst#evalml.data_checks.DefaultDataChecks)), a collection defined to check for some of the most common data issues."
   ]
  },
  {
   "cell_type": "markdown",
   "metadata": {},
   "source": [
    "### Default Data Checks\n",
    "\n",
    "`DefaultDataChecks` is a collection of data checks defined to check for some of the most common data issues. They include:\n",
    "\n",
    "* `HighlyNullDataCheck`\n",
    "* `IDColumnsDataCheck`\n",
    "* `TargetLeakageDataCheck`\n",
    "* `InvalidTargetDataCheck`\n",
    "* `TargetDistributionDataCheck` (for regression problem types)\n",
    "* `ClassImbalanceDataCheck` (for classification problem types)\n",
    "* `NoVarianceDataCheck`\n",
    "* `DateTimeNaNDataCheck`\n",
    "* `NaturalLanguageNaNDataCheck`\n",
    "* `DateTimeFormatDataCheck` (for time series problem types)"
   ]
  },
  {
   "cell_type": "markdown",
   "metadata": {},
   "source": [
    "## Writing Your Own Collection of Data Checks"
   ]
  },
  {
   "cell_type": "markdown",
   "metadata": {},
   "source": [
    "If you would prefer to create your own collection of data checks, you could either write your own data checks class by extending the `DataChecks` class and setting the `self.data_checks` attribute to the list of `DataCheck` classes or objects, or you could pass that list of data checks to the constructor of the `DataChecks` class. Below, we create two identical collections of data checks using the two different methods."
   ]
  },
  {
   "cell_type": "code",
   "execution_count": null,
   "metadata": {},
   "outputs": [],
   "source": [
    "# Create a subclass of `DataChecks`\n",
    "from evalml.data_checks import DataChecks, HighlyNullDataCheck, InvalidTargetDataCheck, NoVarianceDataCheck, ClassImbalanceDataCheck, TargetLeakageDataCheck\n",
    "from evalml.problem_types import ProblemTypes, handle_problem_types\n",
    "\n",
    "class MyCustomDataChecks(DataChecks):\n",
    "\n",
    "    data_checks = [HighlyNullDataCheck, InvalidTargetDataCheck, NoVarianceDataCheck, TargetLeakageDataCheck]\n",
    "\n",
    "    def __init__(self, problem_type, objective):\n",
    "        \"\"\"\n",
    "        A collection of basic data checks.\n",
    "        Arguments:\n",
    "            problem_type (str): The problem type that is being validated. Can be regression, binary, or multiclass.\n",
    "        \"\"\"\n",
    "        if handle_problem_types(problem_type) == ProblemTypes.REGRESSION:\n",
    "            super().__init__(self.data_checks,\n",
    "                             data_check_params={\"InvalidTargetDataCheck\": {\"problem_type\": problem_type,\n",
    "                                                                           \"objective\": objective}})\n",
    "        else:\n",
    "            super().__init__(self.data_checks + [ClassImbalanceDataCheck],\n",
    "                             data_check_params={\"InvalidTargetDataCheck\": {\"problem_type\": problem_type,\n",
    "                                                                           \"objective\": objective}})\n",
    "\n",
    "\n",
    "custom_data_checks = MyCustomDataChecks(problem_type=ProblemTypes.REGRESSION, objective=\"R2\")\n",
    "for data_check in custom_data_checks.data_checks:\n",
    "    print(data_check.name)"
   ]
  },
  {
   "cell_type": "code",
   "execution_count": null,
   "metadata": {},
   "outputs": [],
   "source": [
    "# Pass list of data checks to the `data_checks` parameter of DataChecks\n",
    "same_custom_data_checks = DataChecks(data_checks=[HighlyNullDataCheck, InvalidTargetDataCheck, NoVarianceDataCheck, TargetLeakageDataCheck],\n",
    "                                    data_check_params={\"InvalidTargetDataCheck\": {\"problem_type\": ProblemTypes.REGRESSION,\n",
    "                                                                                  \"objective\": \"R2\"}})\n",
    "for data_check in custom_data_checks.data_checks:\n",
    "    print(data_check.name)"
   ]
  }
 ],
 "metadata": {
  "kernelspec": {
   "display_name": "Python 3",
   "language": "python",
   "name": "python3"
  },
  "language_info": {
   "codemirror_mode": {
    "name": "ipython",
    "version": 3
   },
   "file_extension": ".py",
   "mimetype": "text/x-python",
   "name": "python",
   "nbconvert_exporter": "python",
   "pygments_lexer": "ipython3",
   "version": "3.8.6"
  }
 },
 "nbformat": 4,
 "nbformat_minor": 4
}