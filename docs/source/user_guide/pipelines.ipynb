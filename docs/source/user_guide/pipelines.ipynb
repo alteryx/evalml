{
 "cells": [
  {
   "cell_type": "markdown",
   "metadata": {},
   "source": [
    "# Pipelines\n",
    "\n",
    "EvalML pipelines represent a sequence of operations to be applied to data, where each operation is either a data transformation or an ML modeling algorithm.\n",
    "\n",
    "A pipeline holds a combination of one or more components, which will be applied to new input data in sequence.\n",
    "\n",
    "Each component and pipeline supports a set of parameters which configure its behavior. The AutoML search process seeks to find the combination of pipeline structure and pipeline parameters which perform the best on the data."
   ]
  },
  {
   "cell_type": "markdown",
   "metadata": {},
   "source": [
    "## Defining a Pipeline Instance\n",
    "Pipeline instances can be instantiated using any of the following classes:\n",
    "\n",
    " - `RegressionPipeline`\n",
    " - `BinaryClassificationPipeline`\n",
    " - `MulticlassClassificationPipeline`\n",
    " - `TimeSeriesRegressionPipeline`\n",
    " - `TimeSeriesBinaryClassificationPipeline`\n",
    " - `TimeSeriesMulticlassClassificationPipeline`\n",
    "    \n",
    "The class you want to use will depend on your problem type.\n",
    "The only required parameter input for instantiating a pipeline instance is `component_graph`, which is either a list or a dictionary containing a sequence of components to be fit and evaluated.\n",
    "\n",
    "A `component_graph` list is the default representation, which represents a linear order of transforming components with an estimator as the final component. A `component_graph` dictionary is used to represent a non-linear graph of components, where the key is a unique name for each component and the value is a list with the component's class as the first element and any parents of the component as the following element(s). For either `component_graph` format, each component can be provided as a reference to the component class for custom components, and as either a string name or as a reference to the component class for components defined in EvalML."
   ]
  },
  {
   "cell_type": "code",
   "execution_count": 1,
   "metadata": {},
   "outputs": [
    {
     "data": {
      "text/plain": [
       "pipeline = MulticlassClassificationPipeline(component_graph=['Imputer', 'Random Forest Classifier'], parameters={'Imputer':{'categorical_impute_strategy': 'most_frequent', 'numeric_impute_strategy': 'mean', 'categorical_fill_value': None, 'numeric_fill_value': None}, 'Random Forest Classifier':{'n_estimators': 100, 'max_depth': 6, 'n_jobs': -1}},   random_seed=0)"
      ]
     },
     "execution_count": 1,
     "metadata": {},
     "output_type": "execute_result"
    }
   ],
   "source": [
    "from evalml.pipelines import MulticlassClassificationPipeline\n",
    "\n",
    "component_graph_as_list = ['Imputer', 'Random Forest Classifier']\n",
    "MulticlassClassificationPipeline(component_graph=component_graph_as_list)"
   ]
  },
  {
   "cell_type": "code",
   "execution_count": 2,
   "metadata": {},
   "outputs": [
    {
     "data": {
      "text/plain": [
       "pipeline = MulticlassClassificationPipeline(component_graph=['Imputer', 'Encoder', 'Random Forest Clf', 'Elastic Net Clf', 'Final Estimator'], parameters={'Imputer':{'categorical_impute_strategy': 'most_frequent', 'numeric_impute_strategy': 'mean', 'categorical_fill_value': None, 'numeric_fill_value': None}, 'Encoder':{'top_n': 10, 'features_to_encode': None, 'categories': None, 'drop': 'if_binary', 'handle_unknown': 'ignore', 'handle_missing': 'error'}, 'Random Forest Clf':{'n_estimators': 100, 'max_depth': 6, 'n_jobs': -1}, 'Elastic Net Clf':{'alpha': 0.5, 'l1_ratio': 0.5, 'n_jobs': -1, 'max_iter': 1000, 'penalty': 'elasticnet', 'loss': 'log'}, 'Final Estimator':{'penalty': 'l2', 'C': 1.0, 'n_jobs': -1, 'multi_class': 'auto', 'solver': 'lbfgs'}},   random_seed=0)"
      ]
     },
     "execution_count": 2,
     "metadata": {},
     "output_type": "execute_result"
    }
   ],
   "source": [
    "component_graph_as_dict = {\n",
    "    'Imputer': ['Imputer'],\n",
    "    'Encoder': ['One Hot Encoder', 'Imputer'],\n",
    "    'Random Forest Clf': ['Random Forest Classifier', 'Encoder'],\n",
    "    'Elastic Net Clf': ['Elastic Net Classifier', 'Encoder'],\n",
    "    'Final Estimator': ['Logistic Regression Classifier', 'Random Forest Clf', 'Elastic Net Clf']\n",
    "}\n",
    "\n",
    "MulticlassClassificationPipeline(component_graph=component_graph_as_dict)"
   ]
  },
  {
   "cell_type": "markdown",
   "metadata": {},
   "source": [
    "If you're using your own [custom components](components.ipynb) you can refer to them like so:"
   ]
  },
  {
   "cell_type": "code",
   "execution_count": 3,
   "metadata": {},
   "outputs": [
    {
     "data": {
      "text/plain": [
       "pipeline = MulticlassClassificationPipeline(component_graph=[NewTransformer, 'Random Forest Classifier'], parameters={'New Transformer':{'parameter_1': 1}, 'Random Forest Classifier':{'n_estimators': 100, 'max_depth': 6, 'n_jobs': -1}},   random_seed=0)"
      ]
     },
     "execution_count": 3,
     "metadata": {},
     "output_type": "execute_result"
    }
   ],
   "source": [
    "from evalml.pipelines.components import Transformer\n",
    "\n",
    "class NewTransformer(Transformer):\n",
    "    name = 'New Transformer'\n",
    "    hyperparameter_ranges = {\n",
    "        \"parameter_1\":['a', 'b', 'c']\n",
    "    }\n",
    "    \n",
    "    def __init__(self, parameter_1=1, random_seed=0):\n",
    "        parameters = {\"parameter_1\": parameter_1}\n",
    "        super().__init__(parameters=parameters,\n",
    "                         random_seed=random_seed)\n",
    "    \n",
    "MulticlassClassificationPipeline([NewTransformer, 'Random Forest Classifier'])"
   ]
  },
  {
   "cell_type": "markdown",
   "metadata": {},
   "source": [
    "## Pipeline Usage\n",
    "\n",
    "All pipelines define the following methods:\n",
    "\n",
    "* `fit` fits each component on the provided training data, in order.\n",
    "\n",
    "* `predict` computes the predictions of the component graph on the provided data.\n",
    "\n",
    "* `score` computes the value of [an objective](objectives.ipynb) on the provided data."
   ]
  },
  {
   "cell_type": "code",
   "execution_count": 4,
   "metadata": {},
   "outputs": [
    {
     "name": "stdout",
     "output_type": "stream",
     "text": [
      "<DataColumn: None (Physical Type = category) (Logical Type = Categorical) (Semantic Tags = {'category'})>\n",
      "OrderedDict([('Log Loss Multiclass', 0.04132737017536148)])\n"
     ]
    }
   ],
   "source": [
    "from evalml.demos import load_wine\n",
    "X, y = load_wine()\n",
    "\n",
    "pipeline = MulticlassClassificationPipeline(['Imputer', 'Random Forest Classifier'])\n",
    "pipeline.fit(X, y)\n",
    "print(pipeline.predict(X))\n",
    "print(pipeline.score(X, y, objectives=['log loss multiclass']))"
   ]
  },
  {
   "cell_type": "markdown",
   "metadata": {},
   "source": [
    "## Custom Name\n",
    "\n",
    "By default, a pipeline's name is created using the component graph that makes up the pipeline. E.g. A pipeline with an imputer, one-hot encoder, and logistic regression classifier will have the name 'Logistic Regression Classifier w/ Imputer + One Hot Encoder'.\n",
    "\n",
    "If you'd like to override the pipeline's name attribute, you can set the `custom_name` parameter when initalizing a pipeline, like so:"
   ]
  },
  {
   "cell_type": "code",
   "execution_count": 5,
   "metadata": {},
   "outputs": [
    {
     "name": "stdout",
     "output_type": "stream",
     "text": [
      "Pipeline with default name: Logistic Regression Classifier w/ Imputer + One Hot Encoder\n",
      "Pipeline with custom name: My cool custom pipeline\n"
     ]
    }
   ],
   "source": [
    "component_graph = ['Imputer', 'One Hot Encoder', 'Logistic Regression Classifier']\n",
    "pipeline = MulticlassClassificationPipeline(component_graph)\n",
    "print(\"Pipeline with default name:\", pipeline.name)\n",
    "\n",
    "\n",
    "pipeline_with_name = MulticlassClassificationPipeline(component_graph, custom_name=\"My cool custom pipeline\")\n",
    "print(\"Pipeline with custom name:\", pipeline_with_name.name)"
   ]
  },
  {
   "cell_type": "markdown",
   "metadata": {},
   "source": [
    "## Override Component Hyperparameter Ranges\n",
    "\n",
    "To specify custom hyperparameter ranges, set the `custom_hyperparameters` parameter to be a dictionary where each key-value pair consists of a parameter name and range. AutoML will use this dictionary to override the hyperparameter ranges collected from each component in the component graph.\n",
    "\n",
    "If the hyperparameter ranges are categorical values, they can be passed in as `skopt.space.Categorical` values."
   ]
  },
  {
   "cell_type": "code",
   "execution_count": 6,
   "metadata": {},
   "outputs": [
    {
     "name": "stdout",
     "output_type": "stream",
     "text": [
      "Without custom hyperparameters:\n",
      "{'Imputer': {'categorical_impute_strategy': ['most_frequent'], 'numeric_impute_strategy': ['mean', 'median', 'most_frequent']}, 'One Hot Encoder': {}, 'Standard Scaler': {}, 'Logistic Regression Classifier': {'penalty': ['l2'], 'C': Real(low=0.01, high=10, prior='uniform', transform='identity')}}\n",
      "\n",
      "With custom hyperparameters:\n",
      "{'Imputer': {'categorical_impute_strategy': ['most_frequent'], 'numeric_impute_strategy': Categorical(categories=('most_frequent',), prior=None)}, 'One Hot Encoder': {}, 'Standard Scaler': {}, 'Logistic Regression Classifier': {'penalty': ['l2'], 'C': Real(low=0.01, high=10, prior='uniform', transform='identity')}}\n"
     ]
    }
   ],
   "source": [
    "from skopt.space import Categorical\n",
    "\n",
    "component_graph = ['Imputer', 'One Hot Encoder', 'Standard Scaler', 'Logistic Regression Classifier']\n",
    "custom_hyperparameters = {\n",
    "    'Imputer' : {\n",
    "        'numeric_impute_strategy': Categorical(['most_frequent'])\n",
    "    }\n",
    "}\n",
    "\n",
    "print(\"Without custom hyperparameters:\")\n",
    "print(MulticlassClassificationPipeline(component_graph=component_graph).hyperparameters)\n",
    "print()\n",
    "print(\"With custom hyperparameters:\")\n",
    "print(MulticlassClassificationPipeline(component_graph=component_graph,\n",
    "                                       custom_hyperparameters=custom_hyperparameters).hyperparameters)"
   ]
  },
  {
   "cell_type": "markdown",
   "metadata": {},
   "source": [
    "## Pipeline Parameters\n",
    "\n",
    "You can also pass in custom parameters by using the `parameters` parameter, which will then be used when instantiating each component in `component_graph`. The parameters dictionary needs to be in the format of a two-layered dictionary where the key-value pairs are the component name and corresponding component parameters dictionary. The component parameters dictionary consists of (parameter name, parameter values) key-value pairs.\n",
    "\n",
    "An example will be shown below. The API reference for component parameters can also be found [here](../api_reference.rst#components)."
   ]
  },
  {
   "cell_type": "code",
   "execution_count": 7,
   "metadata": {},
   "outputs": [
    {
     "data": {
      "text/plain": [
       "pipeline = MulticlassClassificationPipeline(component_graph=['Imputer', 'One Hot Encoder', 'Standard Scaler', 'Logistic Regression Classifier'], parameters={'Imputer':{'categorical_impute_strategy': 'most_frequent', 'numeric_impute_strategy': 'median', 'categorical_fill_value': None, 'numeric_fill_value': None}, 'One Hot Encoder':{'top_n': 10, 'features_to_encode': None, 'categories': None, 'drop': 'if_binary', 'handle_unknown': 'ignore', 'handle_missing': 'error'}, 'Logistic Regression Classifier':{'penalty': 'l2', 'C': 1.0, 'n_jobs': -1, 'multi_class': 'auto', 'solver': 'lbfgs'}},   random_seed=0)"
      ]
     },
     "execution_count": 7,
     "metadata": {},
     "output_type": "execute_result"
    }
   ],
   "source": [
    "parameters = {\n",
    "        'Imputer': {\n",
    "            \"categorical_impute_strategy\": \"most_frequent\",\n",
    "            \"numeric_impute_strategy\": \"median\"\n",
    "        },\n",
    "        'Logistic Regression Classifier': {\n",
    "            'penalty': 'l2',\n",
    "            'C': 1.0,\n",
    "        }\n",
    "    }\n",
    "component_graph = ['Imputer', 'One Hot Encoder', 'Standard Scaler', 'Logistic Regression Classifier']\n",
    "MulticlassClassificationPipeline(component_graph=component_graph, parameters=parameters)"
   ]
  },
  {
   "cell_type": "markdown",
   "metadata": {},
   "source": [
    "## Pipeline Description\n",
    "\n",
    "You can call `.graph()` to see each component and its parameters. Each component takes in data and feeds it to the next."
   ]
  },
  {
   "cell_type": "code",
   "execution_count": 8,
   "metadata": {},
   "outputs": [
    {
     "data": {
      "image/svg+xml": [
       "<?xml version=\"1.0\" encoding=\"UTF-8\" standalone=\"no\"?>\n",
       "<!DOCTYPE svg PUBLIC \"-//W3C//DTD SVG 1.1//EN\"\n",
       " \"http://www.w3.org/Graphics/SVG/1.1/DTD/svg11.dtd\">\n",
       "<!-- Generated by graphviz version 2.44.1 (20200629.0846)\n",
       " -->\n",
       "<!-- Pages: 1 -->\n",
       "<svg width=\"819pt\" height=\"130pt\"\n",
       " viewBox=\"0.00 0.00 819.00 130.00\" xmlns=\"http://www.w3.org/2000/svg\" xmlns:xlink=\"http://www.w3.org/1999/xlink\">\n",
       "<g id=\"graph0\" class=\"graph\" transform=\"scale(1 1) rotate(0) translate(4 126)\">\n",
       "<polygon fill=\"white\" stroke=\"transparent\" points=\"-4,4 -4,-126 815,-126 815,4 -4,4\"/>\n",
       "<!-- Imputer -->\n",
       "<g id=\"node1\" class=\"node\">\n",
       "<title>Imputer</title>\n",
       "<polygon fill=\"none\" stroke=\"black\" points=\"0,-15.5 0,-106.5 260,-106.5 260,-15.5 0,-15.5\"/>\n",
       "<text text-anchor=\"middle\" x=\"130\" y=\"-91.3\" font-family=\"Times,serif\" font-size=\"14.00\">Imputer</text>\n",
       "<polyline fill=\"none\" stroke=\"black\" points=\"0,-83.5 260,-83.5 \"/>\n",
       "<text text-anchor=\"start\" x=\"8\" y=\"-68.3\" font-family=\"Times,serif\" font-size=\"14.00\">categorical_impute_strategy : most_frequent</text>\n",
       "<text text-anchor=\"start\" x=\"8\" y=\"-53.3\" font-family=\"Times,serif\" font-size=\"14.00\">numeric_impute_strategy : median</text>\n",
       "<text text-anchor=\"start\" x=\"8\" y=\"-38.3\" font-family=\"Times,serif\" font-size=\"14.00\">categorical_fill_value : None</text>\n",
       "<text text-anchor=\"start\" x=\"8\" y=\"-23.3\" font-family=\"Times,serif\" font-size=\"14.00\">numeric_fill_value : None</text>\n",
       "</g>\n",
       "<!-- One Hot Encoder -->\n",
       "<g id=\"node2\" class=\"node\">\n",
       "<title>One Hot Encoder</title>\n",
       "<polygon fill=\"none\" stroke=\"black\" points=\"296,-0.5 296,-121.5 458,-121.5 458,-0.5 296,-0.5\"/>\n",
       "<text text-anchor=\"middle\" x=\"377\" y=\"-106.3\" font-family=\"Times,serif\" font-size=\"14.00\">One Hot Encoder</text>\n",
       "<polyline fill=\"none\" stroke=\"black\" points=\"296,-98.5 458,-98.5 \"/>\n",
       "<text text-anchor=\"start\" x=\"304\" y=\"-83.3\" font-family=\"Times,serif\" font-size=\"14.00\">top_n : 10</text>\n",
       "<text text-anchor=\"start\" x=\"304\" y=\"-68.3\" font-family=\"Times,serif\" font-size=\"14.00\">features_to_encode : None</text>\n",
       "<text text-anchor=\"start\" x=\"304\" y=\"-53.3\" font-family=\"Times,serif\" font-size=\"14.00\">categories : None</text>\n",
       "<text text-anchor=\"start\" x=\"304\" y=\"-38.3\" font-family=\"Times,serif\" font-size=\"14.00\">drop : if_binary</text>\n",
       "<text text-anchor=\"start\" x=\"304\" y=\"-23.3\" font-family=\"Times,serif\" font-size=\"14.00\">handle_unknown : ignore</text>\n",
       "<text text-anchor=\"start\" x=\"304\" y=\"-8.3\" font-family=\"Times,serif\" font-size=\"14.00\">handle_missing : error</text>\n",
       "</g>\n",
       "<!-- Imputer&#45;&gt;One Hot Encoder -->\n",
       "<g id=\"edge1\" class=\"edge\">\n",
       "<title>Imputer&#45;&gt;One Hot Encoder</title>\n",
       "<path fill=\"none\" stroke=\"black\" d=\"M260.01,-61C260.01,-61 285.89,-61 285.89,-61\"/>\n",
       "<polygon fill=\"black\" stroke=\"black\" points=\"285.89,-64.5 295.89,-61 285.89,-57.5 285.89,-64.5\"/>\n",
       "</g>\n",
       "<!-- Standard Scaler -->\n",
       "<g id=\"node3\" class=\"node\">\n",
       "<title>Standard Scaler</title>\n",
       "<polygon fill=\"none\" stroke=\"black\" points=\"494,-37.5 494,-84.5 596,-84.5 596,-37.5 494,-37.5\"/>\n",
       "<text text-anchor=\"middle\" x=\"545\" y=\"-69.3\" font-family=\"Times,serif\" font-size=\"14.00\">Standard Scaler</text>\n",
       "<polyline fill=\"none\" stroke=\"black\" points=\"494,-61.5 596,-61.5 \"/>\n",
       "</g>\n",
       "<!-- One Hot Encoder&#45;&gt;Standard Scaler -->\n",
       "<g id=\"edge2\" class=\"edge\">\n",
       "<title>One Hot Encoder&#45;&gt;Standard Scaler</title>\n",
       "<path fill=\"none\" stroke=\"black\" d=\"M458.05,-61C458.05,-61 483.54,-61 483.54,-61\"/>\n",
       "<polygon fill=\"black\" stroke=\"black\" points=\"483.54,-64.5 493.54,-61 483.54,-57.5 483.54,-64.5\"/>\n",
       "</g>\n",
       "<!-- Logistic Regression Classifier -->\n",
       "<g id=\"node4\" class=\"node\">\n",
       "<title>Logistic Regression Classifier</title>\n",
       "<polygon fill=\"none\" stroke=\"black\" points=\"632,-8 632,-114 811,-114 811,-8 632,-8\"/>\n",
       "<text text-anchor=\"middle\" x=\"721.5\" y=\"-98.8\" font-family=\"Times,serif\" font-size=\"14.00\">Logistic Regression Classifier</text>\n",
       "<polyline fill=\"none\" stroke=\"black\" points=\"632,-91 811,-91 \"/>\n",
       "<text text-anchor=\"start\" x=\"640\" y=\"-75.8\" font-family=\"Times,serif\" font-size=\"14.00\">penalty : l2</text>\n",
       "<text text-anchor=\"start\" x=\"640\" y=\"-60.8\" font-family=\"Times,serif\" font-size=\"14.00\">C : 1.00</text>\n",
       "<text text-anchor=\"start\" x=\"640\" y=\"-45.8\" font-family=\"Times,serif\" font-size=\"14.00\">n_jobs : &#45;1</text>\n",
       "<text text-anchor=\"start\" x=\"640\" y=\"-30.8\" font-family=\"Times,serif\" font-size=\"14.00\">multi_class : auto</text>\n",
       "<text text-anchor=\"start\" x=\"640\" y=\"-15.8\" font-family=\"Times,serif\" font-size=\"14.00\">solver : lbfgs</text>\n",
       "</g>\n",
       "<!-- Standard Scaler&#45;&gt;Logistic Regression Classifier -->\n",
       "<g id=\"edge3\" class=\"edge\">\n",
       "<title>Standard Scaler&#45;&gt;Logistic Regression Classifier</title>\n",
       "<path fill=\"none\" stroke=\"black\" d=\"M596.05,-61C596.05,-61 621.98,-61 621.98,-61\"/>\n",
       "<polygon fill=\"black\" stroke=\"black\" points=\"621.98,-64.5 631.98,-61 621.98,-57.5 621.98,-64.5\"/>\n",
       "</g>\n",
       "</g>\n",
       "</svg>\n"
      ],
      "text/plain": [
       "<graphviz.dot.Digraph at 0x145eea790>"
      ]
     },
     "execution_count": 8,
     "metadata": {},
     "output_type": "execute_result"
    }
   ],
   "source": [
    "component_graph = ['Imputer', 'One Hot Encoder', 'Standard Scaler', 'Logistic Regression Classifier']\n",
    "pipeline = MulticlassClassificationPipeline(component_graph=component_graph, parameters=parameters)\n",
    "pipeline.graph()"
   ]
  },
  {
   "cell_type": "code",
   "execution_count": 9,
   "metadata": {},
   "outputs": [
    {
     "data": {
      "image/svg+xml": [
       "<?xml version=\"1.0\" encoding=\"UTF-8\" standalone=\"no\"?>\n",
       "<!DOCTYPE svg PUBLIC \"-//W3C//DTD SVG 1.1//EN\"\n",
       " \"http://www.w3.org/Graphics/SVG/1.1/DTD/svg11.dtd\">\n",
       "<!-- Generated by graphviz version 2.44.1 (20200629.0846)\n",
       " -->\n",
       "<!-- Pages: 1 -->\n",
       "<svg width=\"773pt\" height=\"226pt\"\n",
       " viewBox=\"0.00 0.00 773.00 225.50\" xmlns=\"http://www.w3.org/2000/svg\" xmlns:xlink=\"http://www.w3.org/1999/xlink\">\n",
       "<g id=\"graph0\" class=\"graph\" transform=\"scale(1 1) rotate(0) translate(4 221.5)\">\n",
       "<polygon fill=\"white\" stroke=\"transparent\" points=\"-4,4 -4,-221.5 769,-221.5 769,4 -4,4\"/>\n",
       "<!-- Imputer -->\n",
       "<g id=\"node1\" class=\"node\">\n",
       "<title>Imputer</title>\n",
       "<polygon fill=\"none\" stroke=\"black\" points=\"0,-74.5 0,-165.5 260,-165.5 260,-74.5 0,-74.5\"/>\n",
       "<text text-anchor=\"middle\" x=\"130\" y=\"-150.3\" font-family=\"Times,serif\" font-size=\"14.00\">Imputer</text>\n",
       "<polyline fill=\"none\" stroke=\"black\" points=\"0,-142.5 260,-142.5 \"/>\n",
       "<text text-anchor=\"start\" x=\"8\" y=\"-127.3\" font-family=\"Times,serif\" font-size=\"14.00\">categorical_impute_strategy : most_frequent</text>\n",
       "<text text-anchor=\"start\" x=\"8\" y=\"-112.3\" font-family=\"Times,serif\" font-size=\"14.00\">numeric_impute_strategy : mean</text>\n",
       "<text text-anchor=\"start\" x=\"8\" y=\"-97.3\" font-family=\"Times,serif\" font-size=\"14.00\">categorical_fill_value : None</text>\n",
       "<text text-anchor=\"start\" x=\"8\" y=\"-82.3\" font-family=\"Times,serif\" font-size=\"14.00\">numeric_fill_value : None</text>\n",
       "</g>\n",
       "<!-- Encoder -->\n",
       "<g id=\"node2\" class=\"node\">\n",
       "<title>Encoder</title>\n",
       "<polygon fill=\"none\" stroke=\"black\" points=\"296,-59.5 296,-180.5 458,-180.5 458,-59.5 296,-59.5\"/>\n",
       "<text text-anchor=\"middle\" x=\"377\" y=\"-165.3\" font-family=\"Times,serif\" font-size=\"14.00\">Encoder</text>\n",
       "<polyline fill=\"none\" stroke=\"black\" points=\"296,-157.5 458,-157.5 \"/>\n",
       "<text text-anchor=\"start\" x=\"304\" y=\"-142.3\" font-family=\"Times,serif\" font-size=\"14.00\">top_n : 10</text>\n",
       "<text text-anchor=\"start\" x=\"304\" y=\"-127.3\" font-family=\"Times,serif\" font-size=\"14.00\">features_to_encode : None</text>\n",
       "<text text-anchor=\"start\" x=\"304\" y=\"-112.3\" font-family=\"Times,serif\" font-size=\"14.00\">categories : None</text>\n",
       "<text text-anchor=\"start\" x=\"304\" y=\"-97.3\" font-family=\"Times,serif\" font-size=\"14.00\">drop : if_binary</text>\n",
       "<text text-anchor=\"start\" x=\"304\" y=\"-82.3\" font-family=\"Times,serif\" font-size=\"14.00\">handle_unknown : ignore</text>\n",
       "<text text-anchor=\"start\" x=\"304\" y=\"-67.3\" font-family=\"Times,serif\" font-size=\"14.00\">handle_missing : error</text>\n",
       "</g>\n",
       "<!-- Imputer&#45;&gt;Encoder -->\n",
       "<g id=\"edge1\" class=\"edge\">\n",
       "<title>Imputer&#45;&gt;Encoder</title>\n",
       "<path fill=\"none\" stroke=\"black\" d=\"M260.01,-120C260.01,-120 285.89,-120 285.89,-120\"/>\n",
       "<polygon fill=\"black\" stroke=\"black\" points=\"285.89,-123.5 295.89,-120 285.89,-116.5 285.89,-123.5\"/>\n",
       "</g>\n",
       "<!-- Random Forest Clf -->\n",
       "<g id=\"node3\" class=\"node\">\n",
       "<title>Random Forest Clf</title>\n",
       "<polygon fill=\"none\" stroke=\"black\" points=\"494,-141 494,-217 616,-217 616,-141 494,-141\"/>\n",
       "<text text-anchor=\"middle\" x=\"555\" y=\"-201.8\" font-family=\"Times,serif\" font-size=\"14.00\">Random Forest Clf</text>\n",
       "<polyline fill=\"none\" stroke=\"black\" points=\"494,-194 616,-194 \"/>\n",
       "<text text-anchor=\"start\" x=\"502\" y=\"-178.8\" font-family=\"Times,serif\" font-size=\"14.00\">n_estimators : 100</text>\n",
       "<text text-anchor=\"start\" x=\"502\" y=\"-163.8\" font-family=\"Times,serif\" font-size=\"14.00\">max_depth : 6</text>\n",
       "<text text-anchor=\"start\" x=\"502\" y=\"-148.8\" font-family=\"Times,serif\" font-size=\"14.00\">n_jobs : &#45;1</text>\n",
       "</g>\n",
       "<!-- Encoder&#45;&gt;Random Forest Clf -->\n",
       "<g id=\"edge2\" class=\"edge\">\n",
       "<title>Encoder&#45;&gt;Random Forest Clf</title>\n",
       "<path fill=\"none\" stroke=\"black\" d=\"M458.19,-160.75C458.19,-160.75 483.91,-160.75 483.91,-160.75\"/>\n",
       "<polygon fill=\"black\" stroke=\"black\" points=\"483.91,-164.25 493.91,-160.75 483.91,-157.25 483.91,-164.25\"/>\n",
       "</g>\n",
       "<!-- Elastic Net Clf -->\n",
       "<g id=\"node4\" class=\"node\">\n",
       "<title>Elastic Net Clf</title>\n",
       "<polygon fill=\"none\" stroke=\"black\" points=\"495.5,-0.5 495.5,-121.5 614.5,-121.5 614.5,-0.5 495.5,-0.5\"/>\n",
       "<text text-anchor=\"middle\" x=\"555\" y=\"-106.3\" font-family=\"Times,serif\" font-size=\"14.00\">Elastic Net Clf</text>\n",
       "<polyline fill=\"none\" stroke=\"black\" points=\"495.5,-98.5 614.5,-98.5 \"/>\n",
       "<text text-anchor=\"start\" x=\"503.5\" y=\"-83.3\" font-family=\"Times,serif\" font-size=\"14.00\">alpha : 0.50</text>\n",
       "<text text-anchor=\"start\" x=\"503.5\" y=\"-68.3\" font-family=\"Times,serif\" font-size=\"14.00\">l1_ratio : 0.50</text>\n",
       "<text text-anchor=\"start\" x=\"503.5\" y=\"-53.3\" font-family=\"Times,serif\" font-size=\"14.00\">n_jobs : &#45;1</text>\n",
       "<text text-anchor=\"start\" x=\"503.5\" y=\"-38.3\" font-family=\"Times,serif\" font-size=\"14.00\">max_iter : 1000</text>\n",
       "<text text-anchor=\"start\" x=\"503.5\" y=\"-23.3\" font-family=\"Times,serif\" font-size=\"14.00\">penalty : elasticnet</text>\n",
       "<text text-anchor=\"start\" x=\"503.5\" y=\"-8.3\" font-family=\"Times,serif\" font-size=\"14.00\">loss : log</text>\n",
       "</g>\n",
       "<!-- Encoder&#45;&gt;Elastic Net Clf -->\n",
       "<g id=\"edge3\" class=\"edge\">\n",
       "<title>Encoder&#45;&gt;Elastic Net Clf</title>\n",
       "<path fill=\"none\" stroke=\"black\" d=\"M458.19,-90.5C458.19,-90.5 485.49,-90.5 485.49,-90.5\"/>\n",
       "<polygon fill=\"black\" stroke=\"black\" points=\"485.49,-94 495.49,-90.5 485.49,-87 485.49,-94\"/>\n",
       "</g>\n",
       "<!-- Final Estimator -->\n",
       "<g id=\"node5\" class=\"node\">\n",
       "<title>Final Estimator</title>\n",
       "<polygon fill=\"none\" stroke=\"black\" points=\"652,-67 652,-173 765,-173 765,-67 652,-67\"/>\n",
       "<text text-anchor=\"middle\" x=\"708.5\" y=\"-157.8\" font-family=\"Times,serif\" font-size=\"14.00\">Final Estimator</text>\n",
       "<polyline fill=\"none\" stroke=\"black\" points=\"652,-150 765,-150 \"/>\n",
       "<text text-anchor=\"start\" x=\"660\" y=\"-134.8\" font-family=\"Times,serif\" font-size=\"14.00\">penalty : l2</text>\n",
       "<text text-anchor=\"start\" x=\"660\" y=\"-119.8\" font-family=\"Times,serif\" font-size=\"14.00\">C : 1.00</text>\n",
       "<text text-anchor=\"start\" x=\"660\" y=\"-104.8\" font-family=\"Times,serif\" font-size=\"14.00\">n_jobs : &#45;1</text>\n",
       "<text text-anchor=\"start\" x=\"660\" y=\"-89.8\" font-family=\"Times,serif\" font-size=\"14.00\">multi_class : auto</text>\n",
       "<text text-anchor=\"start\" x=\"660\" y=\"-74.8\" font-family=\"Times,serif\" font-size=\"14.00\">solver : lbfgs</text>\n",
       "</g>\n",
       "<!-- Random Forest Clf&#45;&gt;Final Estimator -->\n",
       "<g id=\"edge4\" class=\"edge\">\n",
       "<title>Random Forest Clf&#45;&gt;Final Estimator</title>\n",
       "<path fill=\"none\" stroke=\"black\" d=\"M616.11,-157C616.11,-157 641.59,-157 641.59,-157\"/>\n",
       "<polygon fill=\"black\" stroke=\"black\" points=\"641.59,-160.5 651.59,-157 641.59,-153.5 641.59,-160.5\"/>\n",
       "</g>\n",
       "<!-- Elastic Net Clf&#45;&gt;Final Estimator -->\n",
       "<g id=\"edge5\" class=\"edge\">\n",
       "<title>Elastic Net Clf&#45;&gt;Final Estimator</title>\n",
       "<path fill=\"none\" stroke=\"black\" d=\"M614.79,-94.25C614.79,-94.25 641.64,-94.25 641.64,-94.25\"/>\n",
       "<polygon fill=\"black\" stroke=\"black\" points=\"641.64,-97.75 651.64,-94.25 641.64,-90.75 641.64,-97.75\"/>\n",
       "</g>\n",
       "</g>\n",
       "</svg>\n"
      ],
      "text/plain": [
       "<graphviz.dot.Digraph at 0x145f61c90>"
      ]
     },
     "execution_count": 9,
     "metadata": {},
     "output_type": "execute_result"
    }
   ],
   "source": [
    "component_graph_as_dict = {\n",
    "    'Imputer': ['Imputer'],\n",
    "    'Encoder': ['One Hot Encoder', 'Imputer'],\n",
    "    'Random Forest Clf': ['Random Forest Classifier', 'Encoder'],\n",
    "    'Elastic Net Clf': ['Elastic Net Classifier', 'Encoder'],\n",
    "    'Final Estimator': ['Logistic Regression Classifier', 'Random Forest Clf', 'Elastic Net Clf']\n",
    "}\n",
    "\n",
    "nonlinear_pipeline = MulticlassClassificationPipeline(component_graph=component_graph_as_dict)\n",
    "nonlinear_pipeline.graph()"
   ]
  },
  {
   "cell_type": "markdown",
   "metadata": {},
   "source": [
    "You can see a textual representation of the pipeline by calling `.describe()`:"
   ]
  },
  {
   "cell_type": "code",
   "execution_count": 10,
   "metadata": {},
   "outputs": [
    {
     "name": "stdout",
     "output_type": "stream",
     "text": [
      "\n",
      "*********************************************************************************\n",
      "* Logistic Regression Classifier w/ Imputer + One Hot Encoder + Standard Scaler *\n",
      "*********************************************************************************\n",
      "\n",
      "Problem Type: multiclass\n",
      "Model Family: Linear\n",
      "\n",
      "Pipeline Steps\n",
      "==============\n",
      "1. Imputer\n",
      "\t * categorical_impute_strategy : most_frequent\n",
      "\t * numeric_impute_strategy : median\n",
      "\t * categorical_fill_value : None\n",
      "\t * numeric_fill_value : None\n",
      "2. One Hot Encoder\n",
      "\t * top_n : 10\n",
      "\t * features_to_encode : None\n",
      "\t * categories : None\n",
      "\t * drop : if_binary\n",
      "\t * handle_unknown : ignore\n",
      "\t * handle_missing : error\n",
      "3. Standard Scaler\n",
      "4. Logistic Regression Classifier\n",
      "\t * penalty : l2\n",
      "\t * C : 1.0\n",
      "\t * n_jobs : -1\n",
      "\t * multi_class : auto\n",
      "\t * solver : lbfgs\n"
     ]
    }
   ],
   "source": [
    "pipeline.describe()"
   ]
  },
  {
   "cell_type": "code",
   "execution_count": 11,
   "metadata": {},
   "outputs": [
    {
     "name": "stdout",
     "output_type": "stream",
     "text": [
      "\n",
      "*******************************************************************************************************************\n",
      "* Logistic Regression Classifier w/ Imputer + One Hot Encoder + Random Forest Classifier + Elastic Net Classifier *\n",
      "*******************************************************************************************************************\n",
      "\n",
      "Problem Type: multiclass\n",
      "Model Family: Linear\n",
      "\n",
      "Pipeline Steps\n",
      "==============\n",
      "1. Imputer\n",
      "\t * categorical_impute_strategy : most_frequent\n",
      "\t * numeric_impute_strategy : mean\n",
      "\t * categorical_fill_value : None\n",
      "\t * numeric_fill_value : None\n",
      "2. One Hot Encoder\n",
      "\t * top_n : 10\n",
      "\t * features_to_encode : None\n",
      "\t * categories : None\n",
      "\t * drop : if_binary\n",
      "\t * handle_unknown : ignore\n",
      "\t * handle_missing : error\n",
      "3. Elastic Net Classifier\n",
      "\t * alpha : 0.5\n",
      "\t * l1_ratio : 0.5\n",
      "\t * n_jobs : -1\n",
      "\t * max_iter : 1000\n",
      "\t * penalty : elasticnet\n",
      "\t * loss : log\n",
      "4. Random Forest Classifier\n",
      "\t * n_estimators : 100\n",
      "\t * max_depth : 6\n",
      "\t * n_jobs : -1\n",
      "5. Logistic Regression Classifier\n",
      "\t * penalty : l2\n",
      "\t * C : 1.0\n",
      "\t * n_jobs : -1\n",
      "\t * multi_class : auto\n",
      "\t * solver : lbfgs\n"
     ]
    }
   ],
   "source": [
    "nonlinear_pipeline.describe()"
   ]
  },
  {
   "cell_type": "markdown",
   "metadata": {},
   "source": [
    "## Component Graph"
   ]
  },
  {
   "cell_type": "markdown",
   "metadata": {},
   "source": [
    "You can use `pipeline.get_component(name)` and provide the component name to access any component (API reference [here](../generated/methods/evalml.pipelines.PipelineBase.get_component.ipynb)):"
   ]
  },
  {
   "cell_type": "code",
   "execution_count": 12,
   "metadata": {},
   "outputs": [
    {
     "data": {
      "text/plain": [
       "Imputer(categorical_impute_strategy='most_frequent', numeric_impute_strategy='median', categorical_fill_value=None, numeric_fill_value=None)"
      ]
     },
     "execution_count": 12,
     "metadata": {},
     "output_type": "execute_result"
    }
   ],
   "source": [
    "pipeline.get_component('Imputer')"
   ]
  },
  {
   "cell_type": "code",
   "execution_count": 13,
   "metadata": {},
   "outputs": [
    {
     "data": {
      "text/plain": [
       "ElasticNetClassifier(alpha=0.5, l1_ratio=0.5, n_jobs=-1, max_iter=1000, penalty='elasticnet', loss='log')"
      ]
     },
     "execution_count": 13,
     "metadata": {},
     "output_type": "execute_result"
    }
   ],
   "source": [
    "nonlinear_pipeline.get_component('Elastic Net Clf')"
   ]
  },
  {
   "cell_type": "markdown",
   "metadata": {},
   "source": [
    "Alternatively, you can index directly into the pipeline to get a component"
   ]
  },
  {
   "cell_type": "code",
   "execution_count": 14,
   "metadata": {},
   "outputs": [
    {
     "name": "stdout",
     "output_type": "stream",
     "text": [
      "Imputer\n"
     ]
    }
   ],
   "source": [
    "first_component = pipeline[0]\n",
    "print(first_component.name)"
   ]
  },
  {
   "cell_type": "code",
   "execution_count": 15,
   "metadata": {},
   "outputs": [
    {
     "data": {
      "text/plain": [
       "LogisticRegressionClassifier(penalty='l2', C=1.0, n_jobs=-1, multi_class='auto', solver='lbfgs')"
      ]
     },
     "execution_count": 15,
     "metadata": {},
     "output_type": "execute_result"
    }
   ],
   "source": [
    "nonlinear_pipeline['Final Estimator']"
   ]
  },
  {
   "cell_type": "markdown",
   "metadata": {},
   "source": [
    "## Pipeline Estimator\n",
    "\n",
    "EvalML enforces that the last component of a linear pipeline is an estimator. You can access this estimator directly by using `pipeline.estimator`."
   ]
  },
  {
   "cell_type": "code",
   "execution_count": 16,
   "metadata": {},
   "outputs": [
    {
     "data": {
      "text/plain": [
       "LogisticRegressionClassifier(penalty='l2', C=1.0, n_jobs=-1, multi_class='auto', solver='lbfgs')"
      ]
     },
     "execution_count": 16,
     "metadata": {},
     "output_type": "execute_result"
    }
   ],
   "source": [
    "pipeline.estimator"
   ]
  },
  {
   "cell_type": "markdown",
   "metadata": {},
   "source": [
    "## Input Feature Names\n",
    "\n",
    "After a pipeline is fitted, you can access a pipeline's `input_feature_names` attribute to obtain a dictionary containing a list of feature names passed to each component of the pipeline. This could be especially useful for debugging where a feature might have been dropped or detecting unexpected behavior."
   ]
  },
  {
   "cell_type": "code",
   "execution_count": 17,
   "metadata": {},
   "outputs": [
    {
     "data": {
      "text/plain": [
       "{'Imputer': ['alcohol',\n",
       "  'malic_acid',\n",
       "  'ash',\n",
       "  'alcalinity_of_ash',\n",
       "  'magnesium',\n",
       "  'total_phenols',\n",
       "  'flavanoids',\n",
       "  'nonflavanoid_phenols',\n",
       "  'proanthocyanins',\n",
       "  'color_intensity',\n",
       "  'hue',\n",
       "  'od280/od315_of_diluted_wines',\n",
       "  'proline'],\n",
       " 'Random Forest Classifier': ['alcohol',\n",
       "  'malic_acid',\n",
       "  'ash',\n",
       "  'alcalinity_of_ash',\n",
       "  'magnesium',\n",
       "  'total_phenols',\n",
       "  'flavanoids',\n",
       "  'nonflavanoid_phenols',\n",
       "  'proanthocyanins',\n",
       "  'color_intensity',\n",
       "  'hue',\n",
       "  'od280/od315_of_diluted_wines',\n",
       "  'proline']}"
      ]
     },
     "execution_count": 17,
     "metadata": {},
     "output_type": "execute_result"
    }
   ],
   "source": [
    "pipeline = MulticlassClassificationPipeline(['Imputer', 'Random Forest Classifier'])\n",
    "pipeline.fit(X, y)\n",
    "pipeline.input_feature_names"
   ]
  },
  {
   "cell_type": "markdown",
   "metadata": {},
   "source": [
    "## Saving and Loading Pipelines\n",
    "\n",
    "You can save and load trained or untrained pipeline instances using the Python [pickle](https://docs.python.org/3/library/pickle.html#:~:text=%E2%80%9CPickling%E2%80%9D%20is%20the%20process%20whereby,back%20into%20an%20object%20hierarchy.) format, like so:"
   ]
  },
  {
   "cell_type": "code",
   "execution_count": 18,
   "metadata": {},
   "outputs": [
    {
     "data": {
      "text/plain": [
       "pipeline = MulticlassClassificationPipeline(component_graph=['Imputer', 'Random Forest Classifier'], parameters={'Imputer':{'categorical_impute_strategy': 'most_frequent', 'numeric_impute_strategy': 'mean', 'categorical_fill_value': None, 'numeric_fill_value': None}, 'Random Forest Classifier':{'n_estimators': 100, 'max_depth': 6, 'n_jobs': -1}},   random_seed=0)"
      ]
     },
     "execution_count": 18,
     "metadata": {},
     "output_type": "execute_result"
    }
   ],
   "source": [
    "import pickle\n",
    "\n",
    "pipeline_to_pickle = MulticlassClassificationPipeline(['Imputer', 'Random Forest Classifier'])\n",
    "\n",
    "with open(\"pipeline.pkl\", 'wb') as f:\n",
    "    pickle.dump(pipeline_to_pickle, f)\n",
    "\n",
    "pickled_pipeline = None\n",
    "with open('pipeline.pkl', 'rb') as f:\n",
    "    pickled_pipeline = pickle.load(f)\n",
    "\n",
    "assert pickled_pipeline == pipeline_to_pickle\n",
    "pickled_pipeline.fit(X, y)"
   ]
  },
  {
   "cell_type": "markdown",
   "metadata": {},
   "source": [
    "## Generate Code\n",
    "\n",
    "Once you have a pipeline defined in EvalML, you can generate string Python code to recreate this pipeline, which can then be saved and run elsewhere with EvalML. `generate_pipeline_code` requires a pipeline instance as the input. It can also handle custom components, but it won't return the code required to define the component.\n",
    "\n",
    "Note that code generation is not yet supported for nonlinear pipelines."
   ]
  },
  {
   "cell_type": "code",
   "execution_count": 19,
   "metadata": {
    "scrolled": false
   },
   "outputs": [],
   "source": [
    "from evalml.pipelines.utils import generate_pipeline_code\n",
    "from evalml.pipelines import MulticlassClassificationPipeline\n",
    "import pandas as pd\n",
    "from evalml.utils import infer_feature_types, _convert_woodwork_types_wrapper\n",
    "\n",
    "class MyDropNullColumns(Transformer):\n",
    "    \"\"\"Transformer to drop features whose percentage of NaN values exceeds a specified threshold\"\"\"\n",
    "    name = \"My Drop Null Columns Transformer\"\n",
    "    hyperparameter_ranges = {}\n",
    "\n",
    "    def __init__(self, pct_null_threshold=1.0, random_seed=0, **kwargs):\n",
    "        \"\"\"Initalizes an transformer to drop features whose percentage of NaN values exceeds a specified threshold.\n",
    "\n",
    "        Arguments:\n",
    "            pct_null_threshold(float): The percentage of NaN values in an input feature to drop.\n",
    "                Must be a value between [0, 1] inclusive. If equal to 0.0, will drop columns with any null values.\n",
    "                If equal to 1.0, will drop columns with all null values. Defaults to 0.95.\n",
    "        \"\"\"\n",
    "        if pct_null_threshold < 0 or pct_null_threshold > 1:\n",
    "            raise ValueError(\"pct_null_threshold must be a float between 0 and 1, inclusive.\")\n",
    "        parameters = {\"pct_null_threshold\": pct_null_threshold}\n",
    "        parameters.update(kwargs)\n",
    "\n",
    "        self._cols_to_drop = None\n",
    "        super().__init__(parameters=parameters,\n",
    "                         component_obj=None,\n",
    "                         random_seed=random_seed)\n",
    "\n",
    "    def fit(self, X, y=None):\n",
    "        pct_null_threshold = self.parameters[\"pct_null_threshold\"]\n",
    "        X = infer_feature_types(X)\n",
    "        X = _convert_woodwork_types_wrapper(X.to_dataframe())\n",
    "        percent_null = X.isnull().mean()\n",
    "        if pct_null_threshold == 0.0:\n",
    "            null_cols = percent_null[percent_null > 0]\n",
    "        else:\n",
    "            null_cols = percent_null[percent_null >= pct_null_threshold]\n",
    "        self._cols_to_drop = list(null_cols.index)\n",
    "        return self\n",
    "\n",
    "    def transform(self, X, y=None):\n",
    "        \"\"\"Transforms data X by dropping columns that exceed the threshold of null values.\n",
    "        Arguments:\n",
    "            X (pd.DataFrame): Data to transform\n",
    "            y (pd.Series, optional): Targets\n",
    "        Returns:\n",
    "            pd.DataFrame: Transformed X\n",
    "        \"\"\"\n",
    "\n",
    "        X = infer_feature_types(X)\n",
    "        return X.drop(columns=self._cols_to_drop)\n",
    "\n",
    "\n",
    "pipeline_instance = MulticlassClassificationPipeline(['Imputer', MyDropNullColumns, 'DateTime Featurization Component', 'One Hot Encoder', 'Random Forest Classifier'],\n",
    "                                                     custom_name=\"heyo\",\n",
    "                                                     custom_hyperparameters={\n",
    "                                                         \"Imputer\": {\n",
    "                                                             \"numeric_impute_strategy\": ['mean', 'median']\n",
    "                                                         }\n",
    "                                                     },\n",
    "                                                     random_seed=20)\n",
    "\n",
    "code = generate_pipeline_code(pipeline_instance)\n",
    "print(code)\n",
    "\n",
    "# This string can then be pasted into a separate window and run, although since the pipeline has custom component `MyDropNullColumns`, \n",
    "#      the code for that component must also be included\n",
    "from evalml.demos import load_fraud\n",
    "X, y = load_fraud()\n",
    "exec(code)\n",
    "pipeline.fit(X, y)"
   ]
  }
 ],
 "metadata": {
  "kernelspec": {
   "display_name": "Python 3",
   "language": "python",
   "name": "python3"
  },
  "language_info": {
   "codemirror_mode": {
    "name": "ipython",
    "version": 3
   },
   "file_extension": ".py",
   "mimetype": "text/x-python",
   "name": "python",
   "nbconvert_exporter": "python",
   "pygments_lexer": "ipython3",
   "version": "3.7.9"
  }
 },
 "nbformat": 4,
 "nbformat_minor": 4
}
