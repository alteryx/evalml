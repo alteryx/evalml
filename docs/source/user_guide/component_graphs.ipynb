{
 "cells": [
  {
   "cell_type": "markdown",
   "metadata": {},
   "source": [
    "# Component Graphs\n",
    "\n",
    "EvalML component graphs represent and describe the flow of data in a collection of related components. A component graph is comprised of nodes representing components, and edges between pairs of nodes representing where the input and output of one component should go. It is the backbone of the features offered by the EvalML pipeline [user_guide/pipelines.ipynb], but is also a powerful data structure on its own. EvalML currently supports component graphs as linear and directed acyclic graphs (DAG)."
   ]
  },
  {
   "cell_type": "markdown",
   "metadata": {},
   "source": [
    "## Defining a Component Graph\n",
    "\n",
    "Component graphs can be initalized by specifying the dictionary of components and edges that describe the graph. In this dictionary, each key is the name that should be used to reference a component by, and each corresponding value is a list where the first element is the component or component name, and the remaining elements are the input edges that should be connected to that component.\n",
    "\n",
    "\n",
    "For example, in the code example below, we have a simple component graph made up of two components: an Imputer and a Random Forest Classifer. The names used to reference these two components are given by the keys, \"My Imputer\" and \"RF Classifier\". Each value in the dictionary is a list where the first element is the component corresponding to the key, and the remaining elements are the inputs. For example, \"My Imputer\" represents an Imputer component which is fed \"X\" and \"y\", the original features and target. Each component can have a number of feature inputs (identified as \"X\" or ending in \".x\") but can only have one target input (identified as \"y\" or ending in \".y\"). All input edges must be explicitly defined."
   ]
  },
  {
   "cell_type": "code",
   "execution_count": 1,
   "metadata": {},
   "outputs": [],
   "source": [
    "from evalml.pipelines import ComponentGraph\n",
    "\n",
    "component_dict = {\n",
    "    'My Imputer': ['Imputer', 'X', 'y'],\n",
    "    'RF Classifier': ['Random Forest Classifier', 'My Imputer.x', 'y']\n",
    "}\n",
    "cg = ComponentGraph(component_dict)"
   ]
  },
  {
   "cell_type": "markdown",
   "metadata": {},
   "source": [
    "All component graphs must end with one final or terminus node. Below, the component graph is invalid because has two terminus nodes: the \"RF Classifier\" and the \"EN Classifier\"."
   ]
  },
  {
   "cell_type": "code",
   "execution_count": 2,
   "metadata": {},
   "outputs": [],
   "source": [
    "import pytest\n",
    "\n",
    "component_dict = {\n",
    "    'My Imputer': ['Imputer', 'X', 'y'],\n",
    "    'RF Classifier': ['Random Forest Classifier', 'My Imputer.x', 'y'],\n",
    "    'EN Classifier': ['Elastic Net Classifier', 'My Imputer.x', 'y']\n",
    "}\n",
    "with pytest.raises(ValueError, match=\"The given graph has more than one final\"):\n",
    "    ComponentGraph(component_dict)"
   ]
  },
  {
   "cell_type": "markdown",
   "metadata": {},
   "source": [
    "Once we have defined a component graph, we can instantiate the graph with specific parameter values for each component using `instantiate(parameters)`. Below, we will set the value of our Imputer's `numeric_impute_strategy` to \"most_frequent\"."
   ]
  },
  {
   "cell_type": "code",
   "execution_count": 3,
   "metadata": {},
   "outputs": [
    {
     "data": {
      "text/plain": [
       "{'My Imputer': ['Imputer', 'X', 'y'], 'RF Classifier': ['Random Forest Classifier', 'My Imputer.x', 'y']}"
      ]
     },
     "execution_count": 3,
     "metadata": {},
     "output_type": "execute_result"
    }
   ],
   "source": [
    "cg.instantiate({'My Imputer': {'numeric_impute_strategy': 'most_frequent'}})"
   ]
  },
  {
   "cell_type": "markdown",
   "metadata": {},
   "source": [
    "## Components in the Component Graph\n",
    "\n",
    "You can use `.get_component(name)` and provide the unique component name to access any component in the component graph. Below, we can grab our Imputer component and confirm that `numeric_impute_strategy` has indeed been set to \"most_frequent\"."
   ]
  },
  {
   "cell_type": "code",
   "execution_count": 6,
   "metadata": {},
   "outputs": [
    {
     "data": {
      "text/plain": [
       "Imputer(categorical_impute_strategy='most_frequent', numeric_impute_strategy='most_frequent', categorical_fill_value=None, numeric_fill_value=None)"
      ]
     },
     "execution_count": 6,
     "metadata": {},
     "output_type": "execute_result"
    }
   ],
   "source": [
    "cg.get_component('My Imputer')"
   ]
  },
  {
   "cell_type": "markdown",
   "metadata": {},
   "source": [
    "## Visualizing Component Graphs\n",
    "\n",
    "We can also visualize a component graph by calling `.graph()`."
   ]
  },
  {
   "cell_type": "code",
   "execution_count": 8,
   "metadata": {},
   "outputs": [
    {
     "data": {
      "image/svg+xml": [
       "<?xml version=\"1.0\" encoding=\"UTF-8\" standalone=\"no\"?>\n",
       "<!DOCTYPE svg PUBLIC \"-//W3C//DTD SVG 1.1//EN\"\n",
       " \"http://www.w3.org/Graphics/SVG/1.1/DTD/svg11.dtd\">\n",
       "<!-- Generated by graphviz version 2.48.0 (20210717.1556)\n",
       " -->\n",
       "<!-- Pages: 1 -->\n",
       "<svg width=\"596pt\" height=\"124pt\"\n",
       " viewBox=\"0.00 0.00 596.00 124.00\" xmlns=\"http://www.w3.org/2000/svg\" xmlns:xlink=\"http://www.w3.org/1999/xlink\">\n",
       "<g id=\"graph0\" class=\"graph\" transform=\"scale(1 1) rotate(0) translate(4 120)\">\n",
       "<polygon fill=\"white\" stroke=\"transparent\" points=\"-4,4 -4,-120 592,-120 592,4 -4,4\"/>\n",
       "<!-- Imputer -->\n",
       "<g id=\"node1\" class=\"node\">\n",
       "<title>Imputer</title>\n",
       "<polygon fill=\"none\" stroke=\"black\" points=\"19.5,-67.5 19.5,-103.5 80.5,-103.5 80.5,-67.5 19.5,-67.5\"/>\n",
       "<text text-anchor=\"start\" x=\"27.5\" y=\"-81.8\" font-family=\"Times,serif\" font-size=\"14.00\">Imputer</text>\n",
       "</g>\n",
       "<!-- OneHot_RandomForest -->\n",
       "<g id=\"node3\" class=\"node\">\n",
       "<title>OneHot_RandomForest</title>\n",
       "<polygon fill=\"none\" stroke=\"black\" points=\"136,-24.5 136,-60.5 286,-60.5 286,-24.5 136,-24.5\"/>\n",
       "<text text-anchor=\"start\" x=\"144\" y=\"-38.8\" font-family=\"Times,serif\" font-size=\"14.00\">OneHot_RandomForest</text>\n",
       "</g>\n",
       "<!-- Imputer&#45;&gt;OneHot_RandomForest -->\n",
       "<g id=\"edge1\" class=\"edge\">\n",
       "<title>Imputer&#45;&gt;OneHot_RandomForest</title>\n",
       "<path fill=\"none\" stroke=\"black\" d=\"M80.63,-73C107.4,-73 142,-73 142,-73 142,-73 142,-70.59 142,-70.59\"/>\n",
       "<polygon fill=\"black\" stroke=\"black\" points=\"145.5,-70.59 142,-60.59 138.5,-70.59 145.5,-70.59\"/>\n",
       "</g>\n",
       "<!-- OneHot_ElasticNet -->\n",
       "<g id=\"node4\" class=\"node\">\n",
       "<title>OneHot_ElasticNet</title>\n",
       "<polygon fill=\"none\" stroke=\"black\" points=\"148,-79.5 148,-115.5 274,-115.5 274,-79.5 148,-79.5\"/>\n",
       "<text text-anchor=\"start\" x=\"156\" y=\"-93.8\" font-family=\"Times,serif\" font-size=\"14.00\">OneHot_ElasticNet</text>\n",
       "</g>\n",
       "<!-- Imputer&#45;&gt;OneHot_ElasticNet -->\n",
       "<g id=\"edge3\" class=\"edge\">\n",
       "<title>Imputer&#45;&gt;OneHot_ElasticNet</title>\n",
       "<path fill=\"none\" stroke=\"black\" d=\"M80.66,-91.5C80.66,-91.5 137.79,-91.5 137.79,-91.5\"/>\n",
       "<polygon fill=\"black\" stroke=\"black\" points=\"137.79,-95 147.79,-91.5 137.79,-88 137.79,-95\"/>\n",
       "</g>\n",
       "<!-- Target Imputer -->\n",
       "<g id=\"node2\" class=\"node\">\n",
       "<title>Target Imputer</title>\n",
       "<polygon fill=\"none\" stroke=\"black\" points=\"0,-0.5 0,-36.5 100,-36.5 100,-0.5 0,-0.5\"/>\n",
       "<text text-anchor=\"start\" x=\"8\" y=\"-14.8\" font-family=\"Times,serif\" font-size=\"14.00\">Target Imputer</text>\n",
       "</g>\n",
       "<!-- Target Imputer&#45;&gt;OneHot_RandomForest -->\n",
       "<g id=\"edge2\" class=\"edge\">\n",
       "<title>Target Imputer&#45;&gt;OneHot_RandomForest</title>\n",
       "<path fill=\"none\" stroke=\"black\" d=\"M100.06,-30.5C100.06,-30.5 125.85,-30.5 125.85,-30.5\"/>\n",
       "<polygon fill=\"black\" stroke=\"black\" points=\"125.85,-34 135.85,-30.5 125.85,-27 125.85,-34\"/>\n",
       "</g>\n",
       "<!-- Elastic Net -->\n",
       "<g id=\"node6\" class=\"node\">\n",
       "<title>Elastic Net</title>\n",
       "<polygon fill=\"none\" stroke=\"black\" points=\"334,-79.5 334,-115.5 412,-115.5 412,-79.5 334,-79.5\"/>\n",
       "<text text-anchor=\"start\" x=\"342\" y=\"-93.8\" font-family=\"Times,serif\" font-size=\"14.00\">Elastic Net</text>\n",
       "</g>\n",
       "<!-- Target Imputer&#45;&gt;Elastic Net -->\n",
       "<g id=\"edge6\" class=\"edge\">\n",
       "<title>Target Imputer&#45;&gt;Elastic Net</title>\n",
       "<path fill=\"none\" stroke=\"black\" d=\"M100.18,-12C174.21,-12 304,-12 304,-12 304,-12 304,-91.33 304,-91.33 304,-91.33 323.66,-91.33 323.66,-91.33\"/>\n",
       "<polygon fill=\"black\" stroke=\"black\" points=\"323.66,-94.83 333.66,-91.33 323.66,-87.83 323.66,-94.83\"/>\n",
       "</g>\n",
       "<!-- Random Forest -->\n",
       "<g id=\"node5\" class=\"node\">\n",
       "<title>Random Forest</title>\n",
       "<polygon fill=\"none\" stroke=\"black\" points=\"322,-24.5 322,-60.5 424,-60.5 424,-24.5 322,-24.5\"/>\n",
       "<text text-anchor=\"start\" x=\"330\" y=\"-38.8\" font-family=\"Times,serif\" font-size=\"14.00\">Random Forest</text>\n",
       "</g>\n",
       "<!-- OneHot_RandomForest&#45;&gt;Random Forest -->\n",
       "<g id=\"edge4\" class=\"edge\">\n",
       "<title>OneHot_RandomForest&#45;&gt;Random Forest</title>\n",
       "<path fill=\"none\" stroke=\"black\" d=\"M286.31,-42.5C286.31,-42.5 311.93,-42.5 311.93,-42.5\"/>\n",
       "<polygon fill=\"black\" stroke=\"black\" points=\"311.93,-46 321.93,-42.5 311.93,-39 311.93,-46\"/>\n",
       "</g>\n",
       "<!-- OneHot_ElasticNet&#45;&gt;Elastic Net -->\n",
       "<g id=\"edge5\" class=\"edge\">\n",
       "<title>OneHot_ElasticNet&#45;&gt;Elastic Net</title>\n",
       "<path fill=\"none\" stroke=\"black\" d=\"M274.1,-103.67C274.1,-103.67 323.69,-103.67 323.69,-103.67\"/>\n",
       "<polygon fill=\"black\" stroke=\"black\" points=\"323.69,-107.17 333.69,-103.67 323.69,-100.17 323.69,-107.17\"/>\n",
       "</g>\n",
       "<!-- Logistic Regression -->\n",
       "<g id=\"node7\" class=\"node\">\n",
       "<title>Logistic Regression</title>\n",
       "<polygon fill=\"none\" stroke=\"black\" points=\"460,-51.5 460,-87.5 588,-87.5 588,-51.5 460,-51.5\"/>\n",
       "<text text-anchor=\"start\" x=\"468\" y=\"-65.8\" font-family=\"Times,serif\" font-size=\"14.00\">Logistic Regression</text>\n",
       "</g>\n",
       "<!-- Random Forest&#45;&gt;Logistic Regression -->\n",
       "<g id=\"edge7\" class=\"edge\">\n",
       "<title>Random Forest&#45;&gt;Logistic Regression</title>\n",
       "<path fill=\"none\" stroke=\"black\" d=\"M424.12,-56C424.12,-56 449.81,-56 449.81,-56\"/>\n",
       "<polygon fill=\"black\" stroke=\"black\" points=\"449.81,-59.5 459.81,-56 449.81,-52.5 449.81,-59.5\"/>\n",
       "</g>\n",
       "<!-- Elastic Net&#45;&gt;Logistic Regression -->\n",
       "<g id=\"edge8\" class=\"edge\">\n",
       "<title>Elastic Net&#45;&gt;Logistic Regression</title>\n",
       "<path fill=\"none\" stroke=\"black\" d=\"M412.28,-83.5C412.28,-83.5 449.77,-83.5 449.77,-83.5\"/>\n",
       "<polygon fill=\"black\" stroke=\"black\" points=\"449.77,-87 459.77,-83.5 449.77,-80 449.77,-87\"/>\n",
       "</g>\n",
       "</g>\n",
       "</svg>\n"
      ],
      "text/plain": [
       "<graphviz.dot.Digraph at 0x1479b5bd0>"
      ]
     },
     "execution_count": 8,
     "metadata": {},
     "output_type": "execute_result"
    }
   ],
   "source": [
    "# Using a more involved component graph with more complex edges\n",
    "component_dict = {\n",
    "        \"Imputer\": [\"Imputer\", \"X\", \"y\"],\n",
    "        \"Target Imputer\": [\"Target Imputer\", \"X\", \"y\"],\n",
    "        \"OneHot_RandomForest\": [\"One Hot Encoder\", \"Imputer.x\", \"Target Imputer.y\"],\n",
    "        \"OneHot_ElasticNet\": [\"One Hot Encoder\", \"Imputer.x\", \"y\"],\n",
    "        \"Random Forest\": [\"Random Forest Classifier\", \"OneHot_RandomForest.x\", \"y\"],\n",
    "        \"Elastic Net\": [\"Elastic Net Classifier\", \"OneHot_ElasticNet.x\", \"Target Imputer.y\"],\n",
    "        \"Logistic Regression\": [\n",
    "            \"Logistic Regression Classifier\",\n",
    "            \"Random Forest.x\",\n",
    "            \"Elastic Net.x\",\n",
    "            \"y\",\n",
    "        ],\n",
    "}\n",
    "cg = ComponentGraph(component_dict)\n",
    "cg.graph()"
   ]
  },
  {
   "cell_type": "markdown",
   "metadata": {},
   "source": [
    "## Component graph methods\n",
    "\n",
    "Similar to the pipeline structure, we can call `fit`, `transform` and `predict`. We can also call `fit_features` which will fit all but the final component. This is useful in cases where you want to understand what transformed features are being passed into the last component, which is usually an estimator or model of interest."
   ]
  },
  {
   "cell_type": "markdown",
   "metadata": {},
   "source": []
  }
 ],
 "metadata": {
  "kernelspec": {
   "display_name": "Python 3",
   "language": "python",
   "name": "python3"
  },
  "language_info": {
   "codemirror_mode": {
    "name": "ipython",
    "version": 3
   },
   "file_extension": ".py",
   "mimetype": "text/x-python",
   "name": "python",
   "nbconvert_exporter": "python",
   "pygments_lexer": "ipython3",
   "version": "3.8.6"
  }
 },
 "nbformat": 4,
 "nbformat_minor": 4
}