{
 "cells": [
  {
   "cell_type": "markdown",
   "metadata": {},
   "source": [
    "# Component Graph\n",
    "\n",
    "EvalML component graphs represent and describe the flow of data in a collection of related components. A component graph is comprised of nodes representing components, and edges between pairs of nodes representing where the input and output of one component should go. It is the backbone of the features offered by the EvalML pipeline [user_guide/pipelines.ipynb], but is also a powerful data structure on its own. EvalML currently supports component graphs as linear and directed acyclic graphs (DAG).\n",
    "\n",
    "\n",
    "\n",
    "required to have one final component.\n",
    "Linear + DAG\n",
    "\n",
    "get_component\n",
    "\n",
    "similar to pipelines can fit/predict/etc\n",
    "\n",
    ".graph\n",
    "\n",
    "(`c0`, `c1`), \n",
    "component dictionaries: used to initalize the graph."
   ]
  },
  {
   "cell_type": "markdown",
   "metadata": {},
   "source": [
    "Initalizing a CG:\n",
    "- via component dict: each key is name to reference component by, value is component_class followed by inputs in a list\n",
    "- must require one final component: show valid and not\n",
    "- all input edges must be defined"
   ]
  },
  {
   "cell_type": "code",
   "execution_count": null,
   "metadata": {},
   "outputs": [],
   "source": []
  }
 ],
 "metadata": {
  "kernelspec": {
   "display_name": "Python 3",
   "language": "python",
   "name": "python3"
  },
  "language_info": {
   "codemirror_mode": {
    "name": "ipython",
    "version": 3
   },
   "file_extension": ".py",
   "mimetype": "text/x-python",
   "name": "python",
   "nbconvert_exporter": "python",
   "pygments_lexer": "ipython3",
   "version": "3.8.6"
  }
 },
 "nbformat": 4,
 "nbformat_minor": 4
}