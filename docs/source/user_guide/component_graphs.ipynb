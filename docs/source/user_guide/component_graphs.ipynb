{
 "cells": [
  {
   "cell_type": "markdown",
   "metadata": {},
   "source": [
    "# Component Graphs\n",
    "\n",
    "EvalML component graphs represent and describe the flow of data in a collection of related components. A component graph is comprised of nodes representing components, and edges between pairs of nodes representing where the input and output of one component should go. It is the backbone of the features offered by the EvalML pipeline [user_guide/pipelines.ipynb], but is also a powerful data structure on its own. EvalML currently supports component graphs as linear and directed acyclic graphs (DAG)."
   ]
  },
  {
   "cell_type": "markdown",
   "metadata": {},
   "source": [
    "## Initalizing a component graph\n",
    "\n",
    "Component graphs can be initalized by specifying the dictionary of components and edges that describe the graph. In this dictionary, each key is the name that should be used to reference a component by, and each corresponding value is a list where the first element is the component or component name, and the remaining elements are the input edges that should be connected to that component.\n",
    "\n",
    "\n",
    "For example, in the code example below, we have a simple component graph made up of two components: an Imputer and a Random Forest Classifer. The names used to reference these two components are given by the keys, \"My Imputer\" and \"RF Classifier\". Each value in the dictionary is a list where the first element is the component corresponding to the key, and the remaining elements are the inputs. For example, \"My Imputer\" represents an Imputer component which is fed \"X\" and \"y\", the original features and target. Each component can have a number of feature inputs (identified as \"X\" or ending in \".x\") but can only have one target input (identified as \"y\" or ending in \".y\"). All input edges must be explicitly defined."
   ]
  },
  {
   "cell_type": "code",
   "execution_count": 1,
   "metadata": {},
   "outputs": [],
   "source": [
    "component_dict = {\n",
    "    'My Imputer': ['Imputer', 'X', 'y'],\n",
    "    'RF Classifier': ['Random Forest Classifier', 'My Imputer.x', 'y']\n",
    "}\n",
    "ComponentGraph(component_)"
   ]
  },
  {
   "cell_type": "markdown",
   "metadata": {},
   "source": [
    "A key note is that it must end in one component"
   ]
  },
  {
   "cell_type": "code",
   "execution_count": 2,
   "metadata": {},
   "outputs": [
    {
     "ename": "SyntaxError",
     "evalue": "invalid syntax (<ipython-input-2-76a5e5c21256>, line 4)",
     "output_type": "error",
     "traceback": [
      "\u001b[0;36m  File \u001b[0;32m\"<ipython-input-2-76a5e5c21256>\"\u001b[0;36m, line \u001b[0;32m4\u001b[0m\n\u001b[0;31m    'EN Classifier': ['Elastic Net Classifier', 'My Imputer.x', 'y']\u001b[0m\n\u001b[0m                  ^\u001b[0m\n\u001b[0;31mSyntaxError\u001b[0m\u001b[0;31m:\u001b[0m invalid syntax\n"
     ]
    }
   ],
   "source": [
    "component_dict = {\n",
    "    'My Imputer': ['Imputer', 'X', 'y'],\n",
    "    'RF Classifier': ['Random Forest Classifier', 'My Imputer.x', 'y'],\n",
    "    'EN Classifier': ['Elastic Net Classifier', 'My Imputer.x', 'y']\n",
    "    \n",
    "}"
   ]
  },
  {
   "cell_type": "markdown",
   "metadata": {},
   "source": [
    "## Get component\n",
    "\n",
    "We can get a component by its name using the convenient `get_component` method"
   ]
  },
  {
   "cell_type": "markdown",
   "metadata": {},
   "source": [
    "## Component graph methods\n",
    "\n",
    "Similar to the pipeline structure, we can call `fit`, `transform` and `predict`. We can also call `fit_features` which will fit all but the final component. This is useful in cases where you want to understand what transformed features are being fed into the last component, which is usually an estimator or model of interest."
   ]
  },
  {
   "cell_type": "markdown",
   "metadata": {},
   "source": [
    "\n",
    "required to have one final component.\n",
    "\n",
    "get_component\n",
    "\n",
    "similar to pipelines can fit/predict/etc\n",
    "\n",
    ".graph\n",
    "\n",
    "(`c0`, `c1`), \n",
    "component dictionaries: used to initalize the graph."
   ]
  },
  {
   "cell_type": "code",
   "execution_count": null,
   "metadata": {},
   "outputs": [],
   "source": []
  }
 ],
 "metadata": {
  "kernelspec": {
   "display_name": "Python 3",
   "language": "python",
   "name": "python3"
  },
  "language_info": {
   "codemirror_mode": {
    "name": "ipython",
    "version": 3
   },
   "file_extension": ".py",
   "mimetype": "text/x-python",
   "name": "python",
   "nbconvert_exporter": "python",
   "pygments_lexer": "ipython3",
   "version": "3.8.6"
  }
 },
 "nbformat": 4,
 "nbformat_minor": 4
}