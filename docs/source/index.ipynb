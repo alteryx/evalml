{
 "cells": [
  {
   "cell_type": "markdown",
   "metadata": {},
   "source": [
    "![EvalML Logo](images/evalml_logo.png)"
   ]
  },
  {
   "cell_type": "markdown",
   "metadata": {},
   "source": [
    "\n",
    "# What is EvalML?\n",
    "EvalML is an AutoML library that builds, optimizes, and evalutes machine learning pipelines using domain-specific objective functions.\n",
    "\n",
    "\n",
    "Combined with [Featuretools](https://featuretools.featurelabs.com) and [Compose](https://compose.featurelabs.com), EvalML can be used to create end-to-end machine learning solutions for classification and regression problems. \n"
   ]
  },
  {
   "cell_type": "markdown",
   "metadata": {},
   "source": [
    "# Quick Start"
   ]
  },
  {
   "cell_type": "code",
   "execution_count": 1,
   "metadata": {},
   "outputs": [],
   "source": [
    "import evalml"
   ]
  },
  {
   "cell_type": "markdown",
   "metadata": {},
   "source": [
    "## Load Data\n",
    "\n",
    "First, we load in the features and outcomes we want to use to train our model"
   ]
  },
  {
   "cell_type": "code",
   "execution_count": 2,
   "metadata": {},
   "outputs": [],
   "source": [
    "X, y = evalml.demos.load_breast_cancer()"
   ]
  },
  {
   "cell_type": "markdown",
   "metadata": {},
   "source": [
    "## Configure search\n",
    "\n",
    "EvalML has many options to configure the pipeline search. At the minimum, we need to define an objective function. For simplicity, we will use the F1 score in this example. However, the real power of EvalML is in using domain-specific [objective functions](objectives/overview.html) or [building your own](objectives/custom_objectives.html)."
   ]
  },
  {
   "cell_type": "code",
   "execution_count": 3,
   "metadata": {},
   "outputs": [],
   "source": [
    "clf = evalml.AutoClassifier(objective=\"f1\",\n",
    "                            max_pipelines=5)"
   ]
  },
  {
   "cell_type": "markdown",
   "metadata": {},
   "source": [
    "In order to validate the results of the pipeline creation and optimization process, we will save some of our data as a holdout set"
   ]
  },
  {
   "cell_type": "code",
   "execution_count": 4,
   "metadata": {},
   "outputs": [],
   "source": [
    "X_train, X_holdout, y_train, y_holdout = evalml.preprocessing.split_data(X, y, test_size=.2)"
   ]
  },
  {
   "cell_type": "markdown",
   "metadata": {},
   "source": [
    "When we call `.fit()`, the search for the best pipeline will begin. "
   ]
  },
  {
   "cell_type": "code",
   "execution_count": 5,
   "metadata": {},
   "outputs": [
    {
     "name": "stdout",
     "output_type": "stream",
     "text": [
      "\u001b[1m*****************************\u001b[0m\n",
      "\u001b[1m* Beginning pipeline search *\u001b[0m\n",
      "\u001b[1m*****************************\u001b[0m\n",
      "\n",
      "Optimizing for F1. Greater score is better.\n",
      "\n",
      "Searching up to 5 pipelines. \n",
      "Possible model types: linear_model, xgboost, random_forest\n",
      "\n",
      "✔ XGBoost Classifier w/ One Hot Encod...     0%|          | Elapsed:00:02\n",
      "✔ XGBoost Classifier w/ One Hot Encod...    20%|██        | Elapsed:00:04\n",
      "✔ Random Forest Classifier w/ One Hot...    40%|████      | Elapsed:00:12\n",
      "✔ XGBoost Classifier w/ One Hot Encod...    60%|██████    | Elapsed:00:14\n",
      "✔ Logistic Regression Classifier w/ O...    80%|████████  | Elapsed:00:18\n",
      "✔ Logistic Regression Classifier w/ O...   100%|██████████| Elapsed:00:18\n",
      "\n",
      "✔ Optimization finished\n"
     ]
    }
   ],
   "source": [
    "clf.fit(X_train, y_train)"
   ]
  },
  {
   "cell_type": "markdown",
   "metadata": {},
   "source": [
    "## See Pipeline Rankings\n",
    "\n",
    "After the search is finished we can view all of the pipelines searched, ranked by score. Internally, EvalML performs [cross validation](automl/guardrails.html) to score the pipelines. If it notices a high variance across cross validation folds, it will warn you."
   ]
  },
  {
   "cell_type": "code",
   "execution_count": 6,
   "metadata": {},
   "outputs": [
    {
     "data": {
      "text/html": [
       "<div>\n",
       "<style scoped>\n",
       "    .dataframe tbody tr th:only-of-type {\n",
       "        vertical-align: middle;\n",
       "    }\n",
       "\n",
       "    .dataframe tbody tr th {\n",
       "        vertical-align: top;\n",
       "    }\n",
       "\n",
       "    .dataframe thead th {\n",
       "        text-align: right;\n",
       "    }\n",
       "</style>\n",
       "<table border=\"1\" class=\"dataframe\">\n",
       "  <thead>\n",
       "    <tr style=\"text-align: right;\">\n",
       "      <th></th>\n",
       "      <th>id</th>\n",
       "      <th>pipeline_name</th>\n",
       "      <th>score</th>\n",
       "      <th>high_variance_cv</th>\n",
       "      <th>parameters</th>\n",
       "    </tr>\n",
       "  </thead>\n",
       "  <tbody>\n",
       "    <tr>\n",
       "      <th>0</th>\n",
       "      <td>2</td>\n",
       "      <td>RFClassificationPipeline</td>\n",
       "      <td>0.973822</td>\n",
       "      <td>False</td>\n",
       "      <td>{'n_estimators': 569, 'max_depth': 22, 'impute...</td>\n",
       "    </tr>\n",
       "    <tr>\n",
       "      <th>1</th>\n",
       "      <td>4</td>\n",
       "      <td>LogisticRegressionPipeline</td>\n",
       "      <td>0.971963</td>\n",
       "      <td>False</td>\n",
       "      <td>{'penalty': 'l2', 'C': 8.444214828324364, 'imp...</td>\n",
       "    </tr>\n",
       "    <tr>\n",
       "      <th>2</th>\n",
       "      <td>1</td>\n",
       "      <td>XGBoostPipeline</td>\n",
       "      <td>0.970312</td>\n",
       "      <td>False</td>\n",
       "      <td>{'eta': 0.38438170729269994, 'min_child_weight...</td>\n",
       "    </tr>\n",
       "    <tr>\n",
       "      <th>3</th>\n",
       "      <td>0</td>\n",
       "      <td>XGBoostPipeline</td>\n",
       "      <td>0.959800</td>\n",
       "      <td>False</td>\n",
       "      <td>{'eta': 0.5928446182250184, 'min_child_weight'...</td>\n",
       "    </tr>\n",
       "    <tr>\n",
       "      <th>4</th>\n",
       "      <td>3</td>\n",
       "      <td>XGBoostPipeline</td>\n",
       "      <td>0.957570</td>\n",
       "      <td>False</td>\n",
       "      <td>{'eta': 0.5288949197529046, 'min_child_weight'...</td>\n",
       "    </tr>\n",
       "  </tbody>\n",
       "</table>\n",
       "</div>"
      ],
      "text/plain": [
       "   id               pipeline_name     score  high_variance_cv  \\\n",
       "0   2    RFClassificationPipeline  0.973822             False   \n",
       "1   4  LogisticRegressionPipeline  0.971963             False   \n",
       "2   1             XGBoostPipeline  0.970312             False   \n",
       "3   0             XGBoostPipeline  0.959800             False   \n",
       "4   3             XGBoostPipeline  0.957570             False   \n",
       "\n",
       "                                          parameters  \n",
       "0  {'n_estimators': 569, 'max_depth': 22, 'impute...  \n",
       "1  {'penalty': 'l2', 'C': 8.444214828324364, 'imp...  \n",
       "2  {'eta': 0.38438170729269994, 'min_child_weight...  \n",
       "3  {'eta': 0.5928446182250184, 'min_child_weight'...  \n",
       "4  {'eta': 0.5288949197529046, 'min_child_weight'...  "
      ]
     },
     "execution_count": 6,
     "metadata": {},
     "output_type": "execute_result"
    }
   ],
   "source": [
    "clf.rankings"
   ]
  },
  {
   "cell_type": "markdown",
   "metadata": {},
   "source": [
    "## Describe pipeline\n",
    "\n",
    "If we are interested in see more details about the pipeline, we can describe it using the `id` from the rankings table:"
   ]
  },
  {
   "cell_type": "code",
   "execution_count": 7,
   "metadata": {},
   "outputs": [
    {
     "name": "stdout",
     "output_type": "stream",
     "text": [
      "\u001b[1m********************************************************************************************\u001b[0m\n",
      "\u001b[1m* XGBoost Classifier w/ One Hot Encoder + Simple Imputer + RF Classifier Select From Model *\u001b[0m\n",
      "\u001b[1m********************************************************************************************\u001b[0m\n",
      "\n",
      "Problem Types: Binary Classification, Multiclass Classification\n",
      "Model Type: XGBoost Classifier\n",
      "Objective to Optimize: F1 (greater is better)\n",
      "Number of features: 10\n",
      "\n",
      "Pipeline Steps\n",
      "==============\n",
      "1. One Hot Encoder\n",
      "2. Simple Imputer\n",
      "\t * impute_strategy : most_frequent\n",
      "3. RF Classifier Select From Model\n",
      "\t * percent_features : 0.34402219881309576\n",
      "\t * threshold : -inf\n",
      "4. XGBoost Classifier\n",
      "\t * eta : 0.5288949197529046\n",
      "\t * max_depth : 6\n",
      "\t * min_child_weight : 6.112401049845392\n",
      "\n",
      "Training\n",
      "========\n",
      "Training for Binary Classification problems.\n",
      "Total training time (including CV): 2.4 seconds\n",
      "\n",
      "Cross Validation\n",
      "----------------\n",
      "               F1  Precision  Recall   AUC  Log Loss   MCC # Training # Testing\n",
      "0           0.974      0.959   0.974 0.995     0.100 0.930    303.000   152.000\n",
      "1           0.946      0.967   0.946 0.985     0.147 0.863    303.000   152.000\n",
      "2           0.952      0.957   0.952 0.987     0.155 0.873    304.000   151.000\n",
      "mean        0.958      0.961   0.958 0.989     0.134 0.889          -         -\n",
      "std         0.015      0.005   0.015 0.006     0.030 0.036          -         -\n",
      "coef of var 0.015      0.005   0.015 0.006     0.222 0.041          -         -\n"
     ]
    }
   ],
   "source": [
    "clf.describe_pipeline(3)"
   ]
  },
  {
   "cell_type": "markdown",
   "metadata": {},
   "source": [
    "## Select Best pipeline\n",
    "We can now select best pipeline and score it on our holdout data:"
   ]
  },
  {
   "cell_type": "code",
   "execution_count": 8,
   "metadata": {},
   "outputs": [
    {
     "data": {
      "text/plain": [
       "(0.951048951048951, {})"
      ]
     },
     "execution_count": 8,
     "metadata": {},
     "output_type": "execute_result"
    }
   ],
   "source": [
    "pipeline = clf.best_pipeline\n",
    "pipeline.score(X_holdout, y_holdout)"
   ]
  },
  {
   "cell_type": "markdown",
   "metadata": {},
   "source": [
    "We can also visualize the structure of our pipeline:"
   ]
  },
  {
   "cell_type": "code",
   "execution_count": 9,
   "metadata": {},
   "outputs": [
    {
     "data": {
      "image/svg+xml": [
       "<?xml version=\"1.0\" encoding=\"UTF-8\" standalone=\"no\"?>\n",
       "<!DOCTYPE svg PUBLIC \"-//W3C//DTD SVG 1.1//EN\"\n",
       " \"http://www.w3.org/Graphics/SVG/1.1/DTD/svg11.dtd\">\n",
       "<!-- Generated by graphviz version 2.43.0 (0)\n",
       " -->\n",
       "<!-- Title: Random Forest Classifier w/ One Hot Encoder + Simple Imputer + RF Classifier Select From Model Pages: 1 -->\n",
       "<svg width=\"250pt\" height=\"326pt\"\n",
       " viewBox=\"0.00 0.00 249.89 326.00\" xmlns=\"http://www.w3.org/2000/svg\" xmlns:xlink=\"http://www.w3.org/1999/xlink\">\n",
       "<g id=\"graph0\" class=\"graph\" transform=\"scale(1 1) rotate(0) translate(4 322)\">\n",
       "<title>Random Forest Classifier w/ One Hot Encoder + Simple Imputer + RF Classifier Select From Model</title>\n",
       "<polygon fill=\"white\" stroke=\"transparent\" points=\"-4,4 -4,-322 245.89,-322 245.89,4 -4,4\"/>\n",
       "<!-- One Hot Encoder -->\n",
       "<g id=\"node1\" class=\"node\">\n",
       "<title>One Hot Encoder</title>\n",
       "<polygon fill=\"none\" stroke=\"black\" points=\"63.96,-271.5 63.96,-317.5 177.93,-317.5 177.93,-271.5 63.96,-271.5\"/>\n",
       "<text text-anchor=\"middle\" x=\"120.94\" y=\"-302.3\" font-family=\"Times,serif\" font-size=\"14.00\">One Hot Encoder</text>\n",
       "<polyline fill=\"none\" stroke=\"black\" points=\"63.96,-295.5 177.93,-295.5 \"/>\n",
       "</g>\n",
       "<!-- Simple Imputer -->\n",
       "<g id=\"node2\" class=\"node\">\n",
       "<title>Simple Imputer</title>\n",
       "<polygon fill=\"none\" stroke=\"black\" points=\"21.96,-190.5 21.96,-234.5 219.92,-234.5 219.92,-190.5 21.96,-190.5\"/>\n",
       "<text text-anchor=\"middle\" x=\"120.94\" y=\"-219.3\" font-family=\"Times,serif\" font-size=\"14.00\">Simple Imputer</text>\n",
       "<polyline fill=\"none\" stroke=\"black\" points=\"21.96,-212.5 219.92,-212.5 \"/>\n",
       "<text text-anchor=\"start\" x=\"29.96\" y=\"-197.3\" font-family=\"Times,serif\" font-size=\"14.00\">impute_strategy : most_frequent</text>\n",
       "</g>\n",
       "<!-- One Hot Encoder&#45;&gt;Simple Imputer -->\n",
       "<g id=\"edge1\" class=\"edge\">\n",
       "<title>One Hot Encoder&#45;&gt;Simple Imputer</title>\n",
       "<path fill=\"none\" stroke=\"black\" d=\"M120.94,-271.22C120.94,-271.22 120.94,-244.71 120.94,-244.71\"/>\n",
       "<polygon fill=\"black\" stroke=\"black\" points=\"124.44,-244.71 120.94,-234.71 117.44,-244.71 124.44,-244.71\"/>\n",
       "</g>\n",
       "<!-- RF Classifier Select From Model -->\n",
       "<g id=\"node3\" class=\"node\">\n",
       "<title>RF Classifier Select From Model</title>\n",
       "<polygon fill=\"none\" stroke=\"black\" points=\"0,-95.5 0,-153.5 241.89,-153.5 241.89,-95.5 0,-95.5\"/>\n",
       "<text text-anchor=\"middle\" x=\"120.94\" y=\"-138.3\" font-family=\"Times,serif\" font-size=\"14.00\">RF Classifier Select From Model</text>\n",
       "<polyline fill=\"none\" stroke=\"black\" points=\"0,-131.5 241.89,-131.5 \"/>\n",
       "<text text-anchor=\"start\" x=\"8\" y=\"-116.3\" font-family=\"Times,serif\" font-size=\"14.00\">percent_features : 0.8593661614465293</text>\n",
       "<text text-anchor=\"start\" x=\"8\" y=\"-102.3\" font-family=\"Times,serif\" font-size=\"14.00\">threshold : &#45;inf</text>\n",
       "</g>\n",
       "<!-- Simple Imputer&#45;&gt;RF Classifier Select From Model -->\n",
       "<g id=\"edge2\" class=\"edge\">\n",
       "<title>Simple Imputer&#45;&gt;RF Classifier Select From Model</title>\n",
       "<path fill=\"none\" stroke=\"black\" d=\"M120.94,-190.29C120.94,-190.29 120.94,-163.69 120.94,-163.69\"/>\n",
       "<polygon fill=\"black\" stroke=\"black\" points=\"124.44,-163.69 120.94,-153.69 117.44,-163.69 124.44,-163.69\"/>\n",
       "</g>\n",
       "<!-- Random Forest Classifier -->\n",
       "<g id=\"node4\" class=\"node\">\n",
       "<title>Random Forest Classifier</title>\n",
       "<polygon fill=\"none\" stroke=\"black\" points=\"41.78,-0.5 41.78,-58.5 200.11,-58.5 200.11,-0.5 41.78,-0.5\"/>\n",
       "<text text-anchor=\"middle\" x=\"120.94\" y=\"-43.3\" font-family=\"Times,serif\" font-size=\"14.00\">Random Forest Classifier</text>\n",
       "<polyline fill=\"none\" stroke=\"black\" points=\"41.78,-36.5 200.11,-36.5 \"/>\n",
       "<text text-anchor=\"start\" x=\"49.78\" y=\"-21.3\" font-family=\"Times,serif\" font-size=\"14.00\">n_estimators : 569</text>\n",
       "<text text-anchor=\"start\" x=\"49.78\" y=\"-7.3\" font-family=\"Times,serif\" font-size=\"14.00\">max_depth : 22</text>\n",
       "</g>\n",
       "<!-- RF Classifier Select From Model&#45;&gt;Random Forest Classifier -->\n",
       "<g id=\"edge3\" class=\"edge\">\n",
       "<title>RF Classifier Select From Model&#45;&gt;Random Forest Classifier</title>\n",
       "<path fill=\"none\" stroke=\"black\" d=\"M120.94,-95.48C120.94,-95.48 120.94,-68.67 120.94,-68.67\"/>\n",
       "<polygon fill=\"black\" stroke=\"black\" points=\"124.44,-68.67 120.94,-58.67 117.44,-68.67 124.44,-68.67\"/>\n",
       "</g>\n",
       "</g>\n",
       "</svg>\n"
      ],
      "text/plain": [
       "<graphviz.dot.Digraph at 0x1114440d0>"
      ]
     },
     "execution_count": 9,
     "metadata": {},
     "output_type": "execute_result"
    }
   ],
   "source": [
    "pipeline.visualize()"
   ]
  },
  {
   "cell_type": "markdown",
   "metadata": {
    "nbsphinx-toctree": {
     "maxdepth": 1
    }
   },
   "source": [
    "# Getting Started\n",
    "[What is EvalML](self)\n",
    "\n",
    "[Install](install)"
   ]
  },
  {
   "cell_type": "markdown",
   "metadata": {
    "nbsphinx-toctree": {
     "maxdepth": 1
    }
   },
   "source": [
    "# Objective functions\n",
    "\n",
    "[Overview](objectives/overview)\n",
    "\n",
    "[Fraud Prediction](demos/fraud)\n",
    "\n",
    "[Lead Scoring](demos/lead_scoring)\n",
    "\n",
    "[Defining Custom Objectives](objectives/custom_objectives)"
   ]
  },
  {
   "cell_type": "markdown",
   "metadata": {
    "nbsphinx-toctree": {
     "maxdepth": 1
    }
   },
   "source": [
    "# Automated Machine Learning\n",
    "\n",
    "[Setting up pipeline search](automl/pipeline_search)\n",
    "\n",
    "[Exploring search results](automl/search_results)\n",
    "\n",
    "[Avoiding Overfitting](automl/guardrails)\n",
    "\n",
    "[Regression Example](automl/regression_example)"
   ]
  },
  {
   "cell_type": "markdown",
   "metadata": {
    "nbsphinx-toctree": {
     "maxdepth": 1
    }
   },
   "source": [
    "# Resources\n",
    "[Changelog](changelog)\n",
    "\n",
    "[Roadmap](roadmap)\n",
    "\n",
    "[API Reference](api_reference)"
   ]
  }
 ],
 "metadata": {
  "kernelspec": {
   "display_name": "Python 3",
   "language": "python",
   "name": "python3"
  },
  "language_info": {
   "codemirror_mode": {
    "name": "ipython",
    "version": 3
   },
   "file_extension": ".py",
   "mimetype": "text/x-python",
   "name": "python",
   "nbconvert_exporter": "python",
   "pygments_lexer": "ipython3",
   "version": "3.7.5"
  }
 },
 "nbformat": 4,
 "nbformat_minor": 4
}
