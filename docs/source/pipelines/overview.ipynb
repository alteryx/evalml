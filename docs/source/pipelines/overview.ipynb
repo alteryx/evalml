{
 "cells": [
  {
   "cell_type": "markdown",
   "metadata": {},
   "source": [
    "# EvalML Components and Pipelines"
   ]
  },
  {
   "cell_type": "markdown",
   "metadata": {},
   "source": [
    "EvalML searches and trains multiple machine learnining **pipelines** in order to find the best one for your data. Each pipeline is made up of various **components** that can learn from the data, transform the data and ultimately predict labels given new data. Below we'll show an example of an EvalML pipeline. You can find a more in-depth look into [components](components.ipynb) or learn how you can construct and use your own [pipelines](custom_pipelines.ipynb)."
   ]
  },
  {
   "cell_type": "markdown",
   "metadata": {},
   "source": [
    "## XGBoost Pipeline\n",
    "\n",
    "The EvalML `XGBoost Pipeline` is made up of four different components: a one-hot encoder, a missing value imputer, a feature selector and an XGBoost estimator. We can see them here by calling `.plot()`:"
   ]
  },
  {
   "cell_type": "code",
   "execution_count": null,
   "metadata": {},
   "outputs": [],
   "source": [
    "from evalml.demos import load_breast_cancer\n",
    "from evalml.pipelines import XGBoostBinaryPipeline\n",
    "\n",
    "X, y = load_breast_cancer()\n",
    "\n",
    "objective='recall'\n",
    "parameters = {\n",
    "        'Simple Imputer': {\n",
    "            'impute_strategy': 'mean'\n",
    "        },\n",
    "        'RF Classifier Select From Model': {\n",
    "            \"percent_features\": 0.5,\n",
    "            \"number_features\": X.shape[1],\n",
    "            \"n_estimators\": 20,\n",
    "            \"max_depth\": 5\n",
    "        },\n",
    "        'XGBoost Classifier': {\n",
    "            \"n_estimators\": 20,\n",
    "            \"eta\": 0.5,\n",
    "            \"min_child_weight\": 5,\n",
    "            \"max_depth\": 10,\n",
    "        }\n",
    "    }\n",
    "\n",
    "xgp = XGBoostBinaryPipeline(parameters=parameters, random_state=5)\n",
    "xgp.graph()"
   ]
  },
  {
   "cell_type": "markdown",
   "metadata": {},
   "source": [
    "From the above graph we can see each component and its parameters. Each component takes in data and feeds it to the next.\n",
    "You can see more detailed information by calling `.describe()`:"
   ]
  },
  {
   "cell_type": "code",
   "execution_count": null,
   "metadata": {},
   "outputs": [],
   "source": [
    "xgp.describe()"
   ]
  },
  {
   "cell_type": "markdown",
   "metadata": {},
   "source": [
    "You can then fit and score an individual pipeline:"
   ]
  },
  {
   "cell_type": "code",
   "execution_count": null,
   "metadata": {},
   "outputs": [],
   "source": [
    "xgp.fit(X, y)\n",
    "xgp.score(X, y, objectives=['recall'])"
   ]
  }
 ],
 "metadata": {
  "kernelspec": {
   "display_name": "Python 3",
   "language": "python",
   "name": "python3"
  },
  "language_info": {
   "codemirror_mode": {
    "name": "ipython",
    "version": 3
   },
   "file_extension": ".py",
   "mimetype": "text/x-python",
   "name": "python",
   "nbconvert_exporter": "python",
   "pygments_lexer": "ipython3",
   "version": "3.7.4"
  }
 },
 "nbformat": 4,
 "nbformat_minor": 4
}
