{
 "cells": [
  {
   "cell_type": "markdown",
   "metadata": {},
   "source": [
    "# EvalML Components"
   ]
  },
  {
   "cell_type": "markdown",
   "metadata": {},
   "source": [
    "From the [overview](overview.ipynb), we see how each machine learning pipeline consists of individual components that process data before the data is ultimately sent to an estimator. Below we will describe each type of component in an EvalML pipeline."
   ]
  },
  {
   "cell_type": "markdown",
   "metadata": {},
   "source": [
    "## Component Classes\n",
    "\n",
    "Components can be split into two distinct classes: **transformers** and **estimators**."
   ]
  },
  {
   "cell_type": "code",
   "execution_count": null,
   "metadata": {},
   "outputs": [],
   "source": [
    "import numpy as np\n",
    "import pandas as pd\n",
    "from evalml.pipelines.components import SimpleImputer\n",
    "\n",
    "X = pd.DataFrame([[1, 2, 3], [1, np.nan, 3]])\n",
    "display(X)"
   ]
  },
  {
   "cell_type": "markdown",
   "metadata": {},
   "source": [
    "Transformers take in data as input and output altered data. For example, an [imputer](../generated/evalml.pipelines.components.SimpleImputer.ipynb) takes in data and outputs filled in missing data with the mean, median, or most frequent value of each column.\n",
    "\n",
    "A transformer can fit on data and then transform it in two steps by calling `.fit()` and `.transform()` or in one step by calling `fit_transform()`."
   ]
  },
  {
   "cell_type": "code",
   "execution_count": null,
   "metadata": {},
   "outputs": [],
   "source": [
    "imp = SimpleImputer({'impute_strategy': 'mean'})\n",
    "X = imp.fit_transform(X)\n",
    "\n",
    "display(X)"
   ]
  },
  {
   "cell_type": "markdown",
   "metadata": {},
   "source": [
    "On the other hand, an estimator fits on data (X) and labels (y) in order to take in new data as input and return the predicted label as output. Therefore, an estimator can fit on data and labels by calling `.fit()` and then predict by calling `.predict()` on new data. An example of this would be the [LogisticRegressionClassifier](../generated/evalml.pipelines.components.LogisticRegressionClassifier.ipynb). We can now see how a transformer alters data to make it easier for an estimator to learn and predict."
   ]
  },
  {
   "cell_type": "code",
   "execution_count": null,
   "metadata": {},
   "outputs": [],
   "source": [
    "from evalml.pipelines.components import LogisticRegressionClassifier\n",
    "\n",
    "clf = LogisticRegressionClassifier()\n",
    "\n",
    "X = X\n",
    "y = [1, 0]\n",
    "\n",
    "clf.fit(X, y)\n",
    "clf.predict(X)"
   ]
  },
  {
   "cell_type": "markdown",
   "metadata": {},
   "source": [
    "## Component Types\n",
    "Components can further separate into different types that serve different functionality. Below we will go over the different types of transformers and estimators.\n",
    "\n",
    "### Transformer Types\n",
    "\n",
    "* Imputer: fills missing data\n",
    "    * Ex: [SimpleImputer](../generated/evalml.pipelines.components.SimpleImputer.ipynb)\n",
    "* Scaler: alters numerical data into different scales\n",
    "    * Ex: [StandardScaler](../generated/evalml.pipelines.components.StandardScaler.ipynb)\n",
    "* Encoder: translates different data types\n",
    "    * Ex: [OneHotEncoder](../generated/evalml.pipelines.components.OneHotEncoder.ipynb)\n",
    "* Feature Selection: selects most useful columns of data\n",
    "    * Ex: [RFClassifierSelectFromModel](../generated/evalml.pipelines.components.RFClassifierSelectFromModel.ipynb)\n",
    "\n",
    "### Estimator Types\n",
    "\n",
    "* Regressor: predicts numerical or continuous labels \n",
    "    * Ex: [LinearRegressor](../generated/evalml.pipelines.components.LinearRegressor.ipynb)\n",
    "* Classifier: predicts categorical or discrete labels\n",
    "    * Ex: [XGBoostClassifier](../generated/evalml.pipelines.components.XGBoostClassifier.ipynb)"
   ]
  }
 ],
 "metadata": {
  "kernelspec": {
   "display_name": "Python 3",
   "language": "python",
   "name": "python3"
  },
  "language_info": {
   "codemirror_mode": {
    "name": "ipython",
    "version": 3
   },
   "file_extension": ".py",
   "mimetype": "text/x-python",
   "name": "python",
   "nbconvert_exporter": "python",
   "pygments_lexer": "ipython3",
   "version": "3.7.4"
  }
 },
 "nbformat": 4,
 "nbformat_minor": 4
}
