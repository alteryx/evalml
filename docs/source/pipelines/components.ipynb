{
 "cells": [
  {
   "cell_type": "markdown",
   "metadata": {},
   "source": [
    "# EvalML Components"
   ]
  },
  {
   "cell_type": "markdown",
   "metadata": {},
   "source": [
    "From the [overview](overview/html), we could see how each a machine learning pipeline consists of individual components that process data which then is ultimately sent to an estimator. Below we will go more indepth into each type of component."
   ]
  },
  {
   "cell_type": "markdown",
   "metadata": {},
   "source": [
    "## Component Classes\n",
    "\n",
    "Components can be split into two distinct classes: **transformers** and **estimators**. Both classes could need to **fit** on data to apply functionality but that is also where they diverge. "
   ]
  },
  {
   "cell_type": "code",
   "execution_count": null,
   "metadata": {},
   "outputs": [],
   "source": [
    "import numpy as np\n",
    "import pandas as pd\n",
    "from evalml.pipelines.components import SimpleImputer\n",
    "\n",
    "X = pd.DataFrame([[1, 2, 3], [1, np.nan, 3]])\n",
    "display(X)"
   ]
  },
  {
   "cell_type": "markdown",
   "metadata": {},
   "source": [
    "Transformers take in data as input and output altered data. An example of this would be an imputer which takes in data and fills in missing data. An imputer may need to learn from data (X) in order to fill in missing data with the mean or median value. \n",
    "\n",
    "A transformer can fit on data and then transform it in two steps by calling `.fit()` and `.transform()` or in one step by calling `fit_transform()`."
   ]
  },
  {
   "cell_type": "code",
   "execution_count": null,
   "metadata": {},
   "outputs": [],
   "source": [
    "imp = SimpleImputer(impute_strategy=\"mean\")\n",
    "X = imp.fit_transform(X)\n",
    "\n",
    "display(X)"
   ]
  },
  {
   "cell_type": "markdown",
   "metadata": {},
   "source": [
    "On the otherhand, an estimator fits on data (X) and labels (y) in order to take in new data as input and return the predicted label as output. Therefore, an estimator can fit on data and labels by calling `.fit()` and then predicting by calling `.predict()` on new data. An example of this would be the LogisticRegressionClassifier. We can now see how a transformer alters data so that the estimator could potentially have an easier time learning and predicting."
   ]
  },
  {
   "cell_type": "code",
   "execution_count": null,
   "metadata": {},
   "outputs": [],
   "source": [
    "from evalml.pipelines.components import LogisticRegressionClassifier\n",
    "\n",
    "clf = LogisticRegressionClassifier()\n",
    "\n",
    "X = X\n",
    "y = [1, 0]\n",
    "\n",
    "clf.fit(X, y)\n",
    "clf.predict(X)"
   ]
  },
  {
   "cell_type": "markdown",
   "metadata": {},
   "source": [
    "## Component Types\n",
    "Components can be further seperated into different types that serve different functionality. Below we will go over the different types of transformers and estimators.\n",
    "\n",
    "TODO: Add links to API or add example of how each type work\n",
    "\n",
    "### Transformer Types\n",
    "\n",
    "* Imputer: fills missing data\n",
    "    * Ex: SimpleImputer\n",
    "* Scaler: alters numerical data into different scales\n",
    "    * Ex: StandardScaler\n",
    "* Encoder: translates different data types\n",
    "    * Ex: OneHotEncoder\n",
    "* Feature Selection: selects most useful columns of data\n",
    "    * Ex: RFClassifierSelectFromModel\n",
    "\n",
    "### Estimator Types\n",
    "\n",
    "* Regressor: predicts numerical or continuous labels \n",
    "    * Ex: LinearRegressor\n",
    "* Classifier: predicts categorical or discrete labels\n",
    "    * Ex: XGBoostClassifier"
   ]
  }
 ],
 "metadata": {
  "kernelspec": {
   "display_name": "Python 3",
   "language": "python",
   "name": "python3"
  },
  "language_info": {
   "codemirror_mode": {
    "name": "ipython",
    "version": 3
   },
   "file_extension": ".py",
   "mimetype": "text/x-python",
   "name": "python",
   "nbconvert_exporter": "python",
   "pygments_lexer": "ipython3",
   "version": "3.7.4"
  }
 },
 "nbformat": 4,
 "nbformat_minor": 4
}
