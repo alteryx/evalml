{
 "cells": [
  {
   "cell_type": "markdown",
   "metadata": {},
   "source": [
    "# Custom Pipelines in EvalML\n",
    "\n",
    "EvalML pipelines consist of modular components combining any number of transformers and an estimator. This allows you to create pipelines that fit the needs of your data to achieve the best results. You can create your own pipeline like this:"
   ]
  },
  {
   "cell_type": "code",
   "execution_count": null,
   "metadata": {},
   "outputs": [],
   "source": [
    "from evalml.pipelines import PipelineBase\n",
    "from evalml.pipelines.components import StandardScaler, SimpleImputer\n",
    "from evalml.pipelines.components.estimators import LogisticRegressionClassifier\n",
    "\n",
    "\n",
    "# objectives can be either a str or the evalml objective object\n",
    "objective = 'Precision_Macro'\n",
    "\n",
    "\n",
    "# pipeline needs to be a subclass of `PipelineBase`\n",
    "class CustomPipeline(PipelineBase):\n",
    "    # component_graph and problem_types are required class variables\n",
    "    \n",
    "    # components can be passed in as objects or as component name strings\n",
    "    component_graph = ['Simple Imputer', StandardScaler(), 'Logistic Regression Classifier']\n",
    "    problem_types = ['binary', 'multiclass']\n",
    "    \n",
    "# a parameters dictionary is necessary to instantiate pipelines\n",
    "parameters = {\n",
    "    'Simple Imputer':{\n",
    "        'impute_strategy':\"most_frequent\"\n",
    "    },\n",
    "    'Logistic Regression Classifier':{\n",
    "        'penalty':'l2',\n",
    "        'C':5,\n",
    "        'random_state':3\n",
    "    }\n",
    "}\n",
    "\n",
    "pipeline = CustomPipeline(parameters={}, objective=objective)"
   ]
  },
  {
   "cell_type": "code",
   "execution_count": null,
   "metadata": {},
   "outputs": [],
   "source": [
    "from evalml.demos import load_wine\n",
    "\n",
    "X, y = load_wine()\n",
    "\n",
    "pipeline.fit(X, y)\n",
    "pipeline.score(X, y)"
   ]
  }
 ],
 "metadata": {
  "kernelspec": {
   "display_name": "Python 3",
   "language": "python",
   "name": "python3"
  },
  "language_info": {
   "codemirror_mode": {
    "name": "ipython",
    "version": 3
   },
   "file_extension": ".py",
   "mimetype": "text/x-python",
   "name": "python",
   "nbconvert_exporter": "python",
   "pygments_lexer": "ipython3",
   "version": "3.7.4"
  }
 },
 "nbformat": 4,
 "nbformat_minor": 4
}
