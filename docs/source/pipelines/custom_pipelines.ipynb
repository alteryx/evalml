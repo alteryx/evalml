{
 "cells": [
  {
   "cell_type": "markdown",
   "metadata": {},
   "source": [
    "# Custom Pipelines in EvalML\n",
    "\n",
    "EvalML pipelines consist of modular components combining any number of transformers and an estimator. This allows you to create pipelines that fit the needs of your data to achieve the best results. You can create your own pipeline like this:"
   ]
  },
  {
   "cell_type": "code",
   "execution_count": null,
   "metadata": {},
   "outputs": [],
   "source": [
    "from evalml.pipelines import PipelineBase\n",
    "from evalml.pipelines.components import StandardScaler\n",
    "\n",
    "# objectives can be either a str or the evalml objective object\n",
    "objective = 'Precision_Macro'\n",
    "\n",
    "# components can be passed in as a ComponentType/str, Component Object, or str of a Component name\n",
    "# the components below show the different ways components can be passed in\n",
    "component_list = ['imputer', StandardScaler(), 'Logistic Regression Classifier']\n",
    "pipeline = PipelineBase(objective, component_list, n_jobs=-1, random_state=0)"
   ]
  },
  {
   "cell_type": "code",
   "execution_count": null,
   "metadata": {},
   "outputs": [],
   "source": [
    "from evalml.demos import load_wine\n",
    "\n",
    "X, y = load_wine()\n",
    "\n",
    "pipeline.fit(X, y)\n",
    "pipeline.score(X, y)"
   ]
  }
 ],
 "metadata": {
  "kernelspec": {
   "display_name": "Python 3",
   "language": "python",
   "name": "python3"
  },
  "language_info": {
   "codemirror_mode": {
    "name": "ipython",
    "version": 3
   },
   "file_extension": ".py",
   "mimetype": "text/x-python",
   "name": "python",
   "nbconvert_exporter": "python",
   "pygments_lexer": "ipython3",
   "version": "3.7.4"
  }
 },
 "nbformat": 4,
 "nbformat_minor": 4
}
