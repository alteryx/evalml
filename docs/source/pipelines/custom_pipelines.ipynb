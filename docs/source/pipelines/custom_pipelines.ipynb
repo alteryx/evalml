{
 "cells": [
  {
   "cell_type": "markdown",
   "metadata": {},
   "source": [
    "# Custom Pipelines in EvalML\n",
    "\n",
    "EvalML pipelines consist of modular components combining any number of transformers and an estimator. This allows you to create pipelines that fit the needs of your data to achieve the best results."
   ]
  },
  {
   "cell_type": "markdown",
   "metadata": {},
   "source": [
    "## Requirements\n",
    "A custom pipeline must adhere to the following requirements:\n",
    "\n",
    "1. Inherit from the proper pipeline base class\n",
    "    * Multiclass classification - MulticlassClassificationPipeline]\n",
    "    * Binary classification - BinaryClassificationPipeline\n",
    "    * Regression - RegressionPipeline\n",
    "    \n",
    "2. Have a `component_graph` list as a class variable detailing the structure of the pipeline\n",
    "    * components can be passed in as string representations or component objects"
   ]
  },
  {
   "cell_type": "code",
   "execution_count": null,
   "metadata": {},
   "outputs": [],
   "source": [
    "from evalml.pipelines import MulticlassClassificationPipeline\n",
    "from evalml.pipelines.components import StandardScaler, SimpleImputer\n",
    "from evalml.pipelines.components.estimators import LogisticRegressionClassifier\n",
    "\n",
    "\n",
    "# the pipeline needs to be a subclass of one of our base pipelines, in this case `MulticlassClassificationPipeline`\n",
    "class CustomPipeline(MulticlassClassificationPipeline):\n",
    "    # component_graph and problem_types are required class variables\n",
    "    \n",
    "    # components can be passed in as objects or as component name strings\n",
    "    component_graph = ['Simple Imputer', StandardScaler(), 'Logistic Regression Classifier']\n",
    "\n",
    "    # you can override component hyperparameter_ranges like so\n",
    "    # ranges must adhere to skopt tuner\n",
    "    custom_hyperparameters = {\n",
    "        \"impute_strategy\":[\"most_frequent\"]\n",
    "    }\n",
    "    \n",
    "# a parameters dictionary is necessary to instantiate pipelines\n",
    "parameters = {\n",
    "    'Simple Imputer':{\n",
    "        'impute_strategy':\"most_frequent\"\n",
    "    },\n",
    "    'Logistic Regression Classifier':{\n",
    "        'penalty':'l2',\n",
    "        'C':5,\n",
    "    }\n",
    "}\n",
    "\n",
    "pipeline = CustomPipeline(parameters={}, random_state=3)"
   ]
  },
  {
   "cell_type": "code",
   "execution_count": null,
   "metadata": {},
   "outputs": [],
   "source": [
    "from evalml.demos import load_wine\n",
    "\n",
    "X, y = load_wine()\n",
    "\n",
    "pipeline.fit(X, y)\n",
    "pipeline.score(X, y, ['recall_micro'])"
   ]
  }
 ],
 "metadata": {
  "kernelspec": {
   "display_name": "Python 3",
   "language": "python",
   "name": "python3"
  },
  "language_info": {
   "codemirror_mode": {
    "name": "ipython",
    "version": 3
   },
   "file_extension": ".py",
   "mimetype": "text/x-python",
   "name": "python",
   "nbconvert_exporter": "python",
   "pygments_lexer": "ipython3",
   "version": "3.7.4"
  }
 },
 "nbformat": 4,
 "nbformat_minor": 4
}
