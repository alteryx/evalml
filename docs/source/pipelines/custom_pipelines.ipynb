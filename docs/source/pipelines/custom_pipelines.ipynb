{
 "cells": [
  {
   "cell_type": "markdown",
   "metadata": {},
   "source": [
    "# Custom Pipelines in EvalML\n",
    "\n",
    "EvalML pipelines consist of modular components combining any number of transformers and an estimator. This allows you to create pipelines that fit the needs of your data to achieve the best results."
   ]
  },
  {
   "cell_type": "markdown",
   "metadata": {},
   "source": [
    "## Requirements\n",
    "A custom pipeline must adhere to the following requirements:\n",
    "\n",
    "1. Inherit from the proper pipeline base class\n",
    "    - Binary classification - `BinaryClassificationPipeline`\n",
    "    - Multiclass classification - `MulticlassClassificationPipeline`\n",
    "    - Regression - `RegressionPipeline`\n",
    "\n",
    "\n",
    "2. Have a `component_graph` list as a class variable detailing the structure of the pipeline. Each component in the graph can be provided as either a string name or an instance."
   ]
  },
  {
   "cell_type": "markdown",
   "metadata": {},
   "source": [
    "## Pipeline Configuration\n",
    "There are a few other options to configure your custom pipeline."
   ]
  },
  {
   "cell_type": "markdown",
   "metadata": {},
   "source": [
    "### Custom Name\n",
    "By default, a pipeline classes name property is the result of adding spaces between each Pascal case capitalization in the class name. E.g. LogisticRegressionPipeline.name will return 'Logistic Regression Pipeline'. Therefore, we suggest custom pipelines use Pascal case for their class names.\n",
    "\n",
    "If you'd like to override the pipeline classes name attribute so it isn't derived from the class name, you can set the custom_name attribute, like so:"
   ]
  },
  {
   "cell_type": "code",
   "execution_count": 3,
   "metadata": {},
   "outputs": [
    {
     "name": "stdout",
     "output_type": "stream",
     "text": [
      "A custom pipeline name\n"
     ]
    }
   ],
   "source": [
    "from evalml.pipelines import BinaryClassificationPipeline\n",
    "\n",
    "class CustomPipeline(BinaryClassificationPipeline):\n",
    "    component_graph = ['Simple Imputer', 'Logistic Regression Classifier']\n",
    "    custom_name = 'A custom pipeline name'\n",
    "    \n",
    "print(CustomPipeline.name)"
   ]
  },
  {
   "cell_type": "markdown",
   "metadata": {},
   "source": [
    "### Custom Hyperparameters\n",
    "To specify custom hyperparameter ranges, set the custom_hyperparameters property to be a dictionary where each key-value pair consists of a parameter name and range. AutoML will use this dictionary to override the hyperparameter ranges collected from each component in the component graph."
   ]
  },
  {
   "cell_type": "code",
   "execution_count": 7,
   "metadata": {},
   "outputs": [
    {
     "name": "stdout",
     "output_type": "stream",
     "text": [
      "Without custom hyperparameters:\n",
      "{'impute_strategy': ['mean', 'median', 'most_frequent'], 'penalty': ['l2'], 'C': Real(low=0.01, high=10, prior='uniform', transform='identity')}\n",
      "\n",
      "With custom hyperparameters:\n",
      "{'impute_strategy': ['most_frequent'], 'penalty': ['l2'], 'C': Real(low=0.01, high=10, prior='uniform', transform='identity')}\n"
     ]
    }
   ],
   "source": [
    "class CustomPipeline(BinaryClassificationPipeline):\n",
    "    component_graph = ['Simple Imputer', 'Logistic Regression Classifier']\n",
    "\n",
    "print(\"Without custom hyperparameters:\")\n",
    "print(CustomPipeline.hyperparameters)  \n",
    "    \n",
    "class CustomPipeline(BinaryClassificationPipeline):\n",
    "    component_graph = ['Simple Imputer', 'Logistic Regression Classifier']\n",
    "    custom_hyperparameters = {\n",
    "        'Simple Imputer' : {\n",
    "            'impute_strategy': ['most_frequent']\n",
    "        }\n",
    "    }\n",
    "\n",
    "print()\n",
    "print(\"With custom hyperparameters:\")\n",
    "print(CustomPipeline.hyperparameters)"
   ]
  }
 ],
 "metadata": {
  "kernelspec": {
   "display_name": "Python 3",
   "language": "python",
   "name": "python3"
  },
  "language_info": {
   "codemirror_mode": {
    "name": "ipython",
    "version": 3
   },
   "file_extension": ".py",
   "mimetype": "text/x-python",
   "name": "python",
   "nbconvert_exporter": "python",
   "pygments_lexer": "ipython3",
   "version": "3.7.4"
  }
 },
 "nbformat": 4,
 "nbformat_minor": 4
}
